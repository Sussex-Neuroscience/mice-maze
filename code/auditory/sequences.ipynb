{
 "cells": [
  {
   "cell_type": "code",
   "execution_count": 5,
   "id": "3f5ebfb7",
   "metadata": {},
   "outputs": [],
   "source": [
    "import numpy as np\n",
    "import matplotlib.pyplot as plt\n",
    "import pandas as pd\n",
    "import os\n",
    "import random\n",
    "from jc3000 import Sequence"
   ]
  },
  {
   "cell_type": "code",
   "execution_count": null,
   "id": "ecfb21b1",
   "metadata": {},
   "outputs": [
    {
     "name": "stdout",
     "output_type": "stream",
     "text": [
      "Collecting jc3000\n",
      "  Downloading jc3000-0.0.7-py3-none-any.whl (5.9 kB)\n",
      "Requirement already satisfied: numpy in c:\\users\\aleja\\anaconda3\\envs\\ocv4\\lib\\site-packages (from jc3000) (1.19.5)\n",
      "Installing collected packages: jc3000\n",
      "Successfully installed jc3000-0.0.7\n",
      "Note: you may need to restart the kernel to use updated packages.\n"
     ]
    }
   ],
   "source": [
    "#!pip install jc3000"
   ]
  },
  {
   "cell_type": "code",
   "execution_count": 7,
   "id": "0183a4c0",
   "metadata": {},
   "outputs": [
    {
     "name": "stdout",
     "output_type": "stream",
     "text": [
      "{'000': 0.2, '001': 0.4, '010': 0.5, '011': 0.7, '100': 0.3, '101': 0.6, '110': 0.2, '111': 0.9}\n",
      "d\n"
     ]
    }
   ],
   "source": [
    "#notes dictionary\n",
    "seq2note_dict= {\n",
    "    \"000\": \"c\",\n",
    "    \"001\": \"d\",\n",
    "    \"010\": \"e\",\n",
    "    \"011\": \"f\",\n",
    "    \"100\": \"g\",\n",
    "    \"101\": \"a\",\n",
    "    \"110\": \"b\",\n",
    "    \"111\": \"C\"    \n",
    "}\n",
    "\n",
    "#probability idictionary\n",
    "prob_next_one = {\n",
    "    \"000\": 0.8,\n",
    "    \"001\": 0.6,\n",
    "    \"010\": 0.5,\n",
    "    \"011\": 0.3,\n",
    "    \"100\": 0.7,\n",
    "    \"101\": 0.4,\n",
    "    \"110\": 0.8,\n",
    "    \"111\": 0.1\n",
    "    \n",
    "}\n",
    "\n",
    "prob_next_zero = {key: round(1-(value),1) for key, value in prob_next_one.items()}\n",
    "\n",
    "print(prob_next_zero)\n",
    "print(seq2note_dict[\"001\"])"
   ]
  },
  {
   "cell_type": "code",
   "execution_count": 8,
   "id": "8b0ece56",
   "metadata": {},
   "outputs": [],
   "source": [
    "#generate a sequence of length n\n",
    "def generate_sequence(n):\n",
    "\n",
    "    #generate first state = 3 random binary digits\n",
    "    s1=[]\n",
    "    for i in range(3):\n",
    "        s1.append(random.randint(0,1))\n",
    "\n",
    "    #create a list of sequences\n",
    "    prob_1_seq = []\n",
    "    prob_0_seq = []\n",
    "    notes_seq = []\n",
    "    notes_string_seq = []\n",
    "\n",
    "\n",
    "    for i in range (n-1):\n",
    "        numbers = ''.join(str(e) for e in s1) #convert list to string\n",
    "        last_3 = numbers[-3:] #get last 3 digits\n",
    "\n",
    "        prob_1 = prob_next_one[last_3] # retrieve the probability of the next number being one\n",
    "        prob_0 = prob_next_zero[last_3]\n",
    "        prob_1_seq.append(prob_1)\n",
    "        prob_0_seq.append(prob_0)\n",
    "\n",
    "\n",
    "        #generate 1 or 0 based on the probability distribution defined in the dictionary\n",
    "        next_num= np.random.binomial(size=1, n=1, p=prob_1)\n",
    "        next_num= int(next_num)\n",
    "        s1.append(next_num)\n",
    "\n",
    "        #get note from sequence\n",
    "        note = seq2note_dict[last_3]\n",
    "        notes_seq.append(note)\n",
    "\n",
    "    #get the probability of the last note\n",
    "    last_note_prob = ''.join(str(e) for e in s1) # convert the finished sequence into a string\n",
    "    last_triad = last_note_prob[-3:] #get the very last triad\n",
    "\n",
    "    #get the last note\n",
    "    last_note = seq2note_dict[last_triad]\n",
    "    notes_seq.append(last_note)\n",
    "\n",
    "    #last probability \n",
    "    last_prob1= prob_next_one[last_triad]\n",
    "    last_prob0=prob_next_zero[last_triad]\n",
    "\n",
    "    prob_1_seq.append(last_prob1)\n",
    "    prob_0_seq.append(last_prob0)\n",
    "    \n",
    "    #just to have the triads\n",
    "    triad_seq = []\n",
    "    for i in range(len(s1)-2):\n",
    "        binary_string= ''.join(str(e) for e in s1)\n",
    "        triad = binary_string[i:i+3]\n",
    "        triad_seq.append(triad)\n",
    "\n",
    "    return s1, triad_seq, prob_1_seq, prob_0_seq, notes_seq\n",
    "    \n",
    "#print (s1)\n",
    "#print(notes_seq)\n",
    "#print(prob_1_seq)\n",
    "#print(prob_0_seq)\n",
    "\n",
    "\n",
    "    "
   ]
  },
  {
   "cell_type": "code",
   "execution_count": 9,
   "id": "51d1bbdb",
   "metadata": {
    "scrolled": true
   },
   "outputs": [
    {
     "name": "stdout",
     "output_type": "stream",
     "text": [
      "this is the sequence:[0, 0, 0, 1, 0, 0, 1, 0, 1, 0]\n",
      "The triads in the sequence:['000', '001', '010', '100', '001', '010', '101', '010']\n",
      "The probability that the next item in the sequence is 1:[0.8, 0.6, 0.5, 0.7, 0.6, 0.5, 0.4, 0.5]\n",
      "The probability that the next item in the sequence is 0:[0.2, 0.4, 0.5, 0.3, 0.4, 0.5, 0.6, 0.5]\n",
      "And the notes:['c', 'd', 'e', 'g', 'd', 'e', 'a', 'e']\n"
     ]
    }
   ],
   "source": [
    "(binary_seq, triad_seq, prob_1, prob_0, notes) = generate_sequence(8)\n",
    "\n",
    "print(f\"this is the sequence:{binary_seq}\\nThe triads in the sequence:{triad_seq}\\nThe probability that the next item in the sequence is 1:{prob_1}\\nThe probability that the next item in the sequence is 0:{prob_0}\\nAnd the notes:{notes}\")"
   ]
  },
  {
   "cell_type": "code",
   "execution_count": 10,
   "id": "cf37dbf0",
   "metadata": {},
   "outputs": [],
   "source": [
    "#information content = -log(p)\n",
    "def information_content(p):\n",
    "    return -np.log(p)"
   ]
  },
  {
   "cell_type": "code",
   "execution_count": 62,
   "id": "925770e5",
   "metadata": {},
   "outputs": [
    {
     "name": "stdout",
     "output_type": "stream",
     "text": [
      "600 [  0.           8.53814343  17.01393003 ... -25.36545839 -17.01393003\n",
      "  -8.53814343]\n",
      "700 [  0.           9.95678466  19.81461432 ... -29.47551744 -19.81461432\n",
      "  -9.95678466]\n",
      "800 [  0.          11.37340476  22.59921073 ... -33.53173459 -22.59921073\n",
      " -11.37340476]\n",
      "900 [  0.          12.78771617  25.36545839 ... -37.52670049 -25.36545839\n",
      " -12.78771617]\n",
      "1000 [  0.          14.1994318   28.11111133 ... -41.45311767 -28.11111133\n",
      " -14.1994318 ]\n",
      "1100 [  0.          15.60826508  30.83394031 ... -45.30381388 -30.83394031\n",
      " -15.60826508]\n",
      "1200 [  0.          17.01393003  33.53173459 ... -49.0717552  -33.53173459\n",
      " -17.01393003]\n",
      "1300 [  0.          18.41614132  36.20230379 ... -52.75005885 -36.20230379\n",
      " -18.41614132]\n"
     ]
    }
   ],
   "source": [
    "def generate_sound_data(frequency, volume=100, waveform=\"sine\", duration = 0.1,fs = 44100):\n",
    "      # seconds\n",
    "      # Sample rate\n",
    "    t = np.linspace(0, duration, int(fs * duration), False)\n",
    "\n",
    "    sound = np.zeros_like(t)\n",
    "\n",
    "    if waveform == 'sine':\n",
    "        sound = np.sin(frequency * t * 2 * np.pi)\n",
    "    elif waveform == 'square':\n",
    "        sound = np.sign(np.sin(frequency * t * 2 * np.pi))\n",
    "    elif waveform == 'sawtooth':\n",
    "        sound = 2 * (t * frequency % 1) - 1\n",
    "    elif waveform == 'triangle':\n",
    "        sound = 2 * np.abs(2 * (t * frequency - np.floor(0.5 + t * frequency))) - 1\n",
    "    elif waveform == 'pulse wave':\n",
    "        sound = np.where((t % (1 / frequency)) < (1 / frequency) * 0.5, 1.0, -1.0)  # 0.5 in this case is the duty cycle\n",
    "    elif waveform == 'white noise':\n",
    "        samples = int(fs * duration)\n",
    "        sound = np.random.uniform(low=-1.0, high=1.0, size=samples)\n",
    "\n",
    "    return sound * volume\n",
    "\n",
    "for i in seq2note_dict:\n",
    "    print (seq2note_dict[i], generate_sound_data(seq2note_dict[i]))"
   ]
  },
  {
   "cell_type": "code",
   "execution_count": 61,
   "id": "f27e95db",
   "metadata": {},
   "outputs": [
    {
     "name": "stdout",
     "output_type": "stream",
     "text": [
      "[  0.          11.37340476  22.59921073 ... -33.53173459 -22.59921073\n",
      " -11.37340476]\n",
      "[  0.          17.01393003  33.53173459 ... -49.0717552  -33.53173459\n",
      " -17.01393003]\n",
      "[  0.          17.01393003  33.53173459 ... -49.0717552  -33.53173459\n",
      " -17.01393003]\n",
      "[  0.          12.78771617  25.36545839 ... -37.52670049 -25.36545839\n",
      " -12.78771617]\n"
     ]
    }
   ],
   "source": [
    "wave_arrays = []\n",
    "for j in range(4):\n",
    "    (binary_seq, triad_seq, prob_1, prob_0, notes) = generate_sequence(8)\n",
    "    \n",
    "    for k in notes: \n",
    "        data= generate_sound_data(k)\n",
    "        #wave_arrays.append(data)\n",
    "    print(data)\n",
    "    \n"
   ]
  },
  {
   "cell_type": "code",
   "execution_count": null,
   "id": "6dbf1f5f",
   "metadata": {},
   "outputs": [],
   "source": [
    "#this generates n melodies of length l \n",
    "def get_n_melodies(n,l):\n",
    "    tavola=[]\n",
    "    tbl = pd.DataFrame(index=[\"binary_sequence\", \"triads\", \"melodies\", \"-log(p(1))\", \"-log(p(0))\", \"entropy\", \"wave_arrays\"])\n",
    "    \n",
    "    for j in range(n):\n",
    "        (binary_seq, triad_seq, prob_1, prob_0, notes) = generate_sequence(l)\n",
    "\n",
    "        \n",
    "        #add values to dataframe\n",
    "        ic1= information_content(prob_1)\n",
    "        ic1=[round(i,2) for i in ic1]\n",
    "        ic0= information_content(prob_0)\n",
    "        ic0=[round(i,2) for i in ic0]\n",
    "        \n",
    "        #H= p(1) * -log(p(1)) + p(0) * -log(p(0))\n",
    "        entropy = prob_1 @  information_content(prob_1)  + prob_0 @ information_content(prob_0)\n",
    "        entropy = round(entropy,2) \n",
    "        \n",
    "        for k in notes: \n",
    "            wave_arrays= generate_sound_data(k)\n",
    "        \n",
    "        #put the data in the table\n",
    "        tbl[f\"melody{j}\"] = [binary_seq, triad_seq, notes, ic1, ic0, entropy, wave_arrays]\n",
    "        \n",
    "        tavola.append(tbl)\n",
    "        final = pd.concat(tavola, axis = 1)\n",
    "        \n",
    "        \n",
    "        \n",
    "        \n",
    "        "
   ]
  },
  {
   "cell_type": "code",
   "execution_count": 11,
   "id": "d56afe8a",
   "metadata": {},
   "outputs": [
    {
     "name": "stdout",
     "output_type": "stream",
     "text": [
      "[0.22, 0.51, 0.69, 0.36, 0.51, 0.69, 0.92, 0.69]\n",
      "[1.61, 0.92, 0.69, 1.2, 0.92, 0.69, 0.51, 0.69]\n",
      "5.21\n"
     ]
    }
   ],
   "source": [
    "ic1= information_content(prob_1)\n",
    "ic1=[round(i,2) for i in ic1]\n",
    "ic0= information_content(prob_0)\n",
    "ic0=[round(i,2) for i in ic0]\n",
    "\n",
    "entropy = prob_1 @  information_content(prob_1)  + prob_0 @ information_content(prob_0)\n",
    "entropy = round(entropy,2) \n",
    "\n",
    "print(ic1)\n",
    "print(ic0)\n",
    "print(entropy)"
   ]
  },
  {
   "cell_type": "code",
   "execution_count": null,
   "id": "107dc137",
   "metadata": {},
   "outputs": [],
   "source": [
    "if __name__== \"__main__\":\n",
    "    pass"
   ]
  }
 ],
 "metadata": {
  "kernelspec": {
   "display_name": "ocv4",
   "language": "python",
   "name": "python3"
  },
  "language_info": {
   "codemirror_mode": {
    "name": "ipython",
    "version": 3
   },
   "file_extension": ".py",
   "mimetype": "text/x-python",
   "name": "python",
   "nbconvert_exporter": "python",
   "pygments_lexer": "ipython3",
   "version": "3.6.13"
  }
 },
 "nbformat": 4,
 "nbformat_minor": 5
}
