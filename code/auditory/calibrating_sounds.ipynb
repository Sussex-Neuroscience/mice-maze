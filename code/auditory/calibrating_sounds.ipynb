{
 "cells": [
  {
   "cell_type": "code",
   "execution_count": 2,
   "id": "90a8ad58",
   "metadata": {},
   "outputs": [],
   "source": [
    "import numpy as np\n",
    "import cv2 as cv\n",
    "import pandas as pd\n",
    "import supfun_sequences as sf\n",
    "import time\n",
    "#from serial import Serial\n",
    "#import serial\n",
    "import os\n",
    "import csv\n",
    "import sounddevice as sd\n",
    "import soundfile as sf1\n",
    "from tkinter import filedialog as fd\n",
    "from tkinter import *"
   ]
  },
  {
   "cell_type": "code",
   "execution_count": 3,
   "id": "84b1209b",
   "metadata": {},
   "outputs": [
    {
     "name": "stdout",
     "output_type": "stream",
     "text": [
      "playing sound0: vocalisation Hz, control type\n",
      "play_sound got: <class 'numpy.ndarray'>   content type: <class 'numpy.float64'>\n",
      "playing sound1: silent_arm Hz, control type\n",
      "play_sound got: <class 'int'>   content type: None\n",
      "playing sound2: 10000 Hz, smooth type\n",
      "play_sound got: <class 'numpy.ndarray'>   content type: <class 'numpy.float64'>\n",
      "playing sound3: 20000 Hz, smooth type\n",
      "play_sound got: <class 'numpy.ndarray'>   content type: <class 'numpy.float64'>\n",
      "playing sound4: 10000 Hz, rough type\n",
      "play_sound got: <class 'numpy.ndarray'>   content type: <class 'numpy.float64'>\n",
      "playing sound5: 20000 Hz, rough type\n",
      "play_sound got: <class 'numpy.ndarray'>   content type: <class 'numpy.float64'>\n",
      "playing sound6: 10000 Hz, rough_complex type\n",
      "play_sound got: <class 'numpy.ndarray'>   content type: <class 'numpy.float64'>\n",
      "playing sound7: 20000 Hz, rough_complex type\n",
      "play_sound got: <class 'numpy.ndarray'>   content type: <class 'numpy.float64'>\n"
     ]
    }
   ],
   "source": [
    "rois_number  = 8 \n",
    "\n",
    "entrance_rois= [\"entrance1\", \"entrance2\"]\n",
    "rois_list = sf.get_rois_list(rois_number)\n",
    "\n",
    "roiNames= entrance_rois + rois_list\n",
    "\n",
    "\n",
    "smooth_freqs = [10000, 20000]\n",
    "constant_rough_freqs = [10000, 20000]\n",
    "#constant temporal modulation\n",
    "ctm= 50 #Hz\n",
    "complex_rough_freqs = [10000, 20000]\n",
    "#complex temporal modulation\n",
    "#check in supfun apply_segmented_am_modulation if you want to change parameters\n",
    "complex_tm = [30, 50, 70] # Hz\n",
    "\n",
    "controls = [\"vocalisation\", \"silent\"]\n",
    "\n",
    "\n",
    "#insert your path to vocalisation\n",
    "path_to_vocalisation = \"c:/Users/labuser/Downloads/vocalisationzzzzzz/zenodo5771669_run1_day2_male_w_female_oestrus.WAV\"\n",
    "\n",
    "# look this next function could be easier but you bear with me, here is where we sort everything out\n",
    "\n",
    "frequencies, temporal_modulation, sound_type, sounds_arrays = sf.info_temporal_modulation_hc(rois_number,\n",
    "                                                                                            controls, \n",
    "                                                                                            smooth_freqs, \n",
    "                                                                                            constant_rough_freqs, \n",
    "                                                                                            complex_rough_freqs, \n",
    "                                                                                            constant_rough_modulation= ctm, \n",
    "                                                                                            complex_rough_mod = complex_tm, \n",
    "                                                                                            path_to_voc = path_to_vocalisation)\n",
    "\n",
    "\n",
    "for idx, i in enumerate(sounds_arrays):\n",
    "    print(f\"playing sound{idx}: {frequencies[idx]} Hz, {sound_type[idx]} type\")\n",
    "    sf.play_sound(i)\n",
    "    time.sleep(10)\n"
   ]
  }
 ],
 "metadata": {
  "kernelspec": {
   "display_name": "base",
   "language": "python",
   "name": "python3"
  },
  "language_info": {
   "codemirror_mode": {
    "name": "ipython",
    "version": 3
   },
   "file_extension": ".py",
   "mimetype": "text/x-python",
   "name": "python",
   "nbconvert_exporter": "python",
   "pygments_lexer": "ipython3",
   "version": "3.12.7"
  }
 },
 "nbformat": 4,
 "nbformat_minor": 5
}
