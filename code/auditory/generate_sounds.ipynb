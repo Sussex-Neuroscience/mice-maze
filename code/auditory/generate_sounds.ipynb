{
 "cells": [
  {
   "cell_type": "markdown",
   "id": "85bd4e07",
   "metadata": {},
   "source": [
    "## Sound generation \n",
    "\n",
    "Just a lil notebook to generate sounds of all types, visualise them, and save them if needed :*"
   ]
  },
  {
   "cell_type": "code",
   "execution_count": 1,
   "id": "e83e7a63",
   "metadata": {},
   "outputs": [],
   "source": [
    "#%pip install sounddevice\n",
    "# %pip install sympy \n",
    "# %pip install soundfile"
   ]
  },
  {
   "cell_type": "code",
   "execution_count": 2,
   "id": "8e2938e3",
   "metadata": {},
   "outputs": [
    {
     "name": "stdout",
     "output_type": "stream",
     "text": [
      "Requirement already satisfied: opencv-python in c:\\users\\aleja\\anaconda3\\envs\\malawi\\lib\\site-packages (4.12.0.88)\n",
      "Requirement already satisfied: numpy<2.3.0,>=2 in c:\\users\\aleja\\anaconda3\\envs\\malawi\\lib\\site-packages (from opencv-python) (2.1.3)\n",
      "Note: you may need to restart the kernel to use updated packages.\n"
     ]
    }
   ],
   "source": [
    "%pip install opencv-python"
   ]
  },
  {
   "cell_type": "code",
   "execution_count": 3,
   "id": "dfe0e58c",
   "metadata": {},
   "outputs": [],
   "source": [
    "import supfun_sequences as sf\n",
    "import time\n",
    "import os\n",
    "import tkinter as tk\n",
    "from tkinter import filedialog as fd\n",
    "from tkinter import simpledialog, Scale, HORIZONTAL, Label, ttk, filedialog, messagebox, Entry, font\n",
    "import numpy as np\n",
    "import wave"
   ]
  },
  {
   "cell_type": "code",
   "execution_count": null,
   "id": "537d15be",
   "metadata": {},
   "outputs": [
    {
     "ename": "LibsndfileError",
     "evalue": "Error opening 'c:/Users/labuser/Downloads/vocalisationzzzzzz/zenodo5771669_run1_day2_male_w_female_oestrus.WAV': System error.",
     "output_type": "error",
     "traceback": [
      "\u001b[1;31m---------------------------------------------------------------------------\u001b[0m",
      "\u001b[1;31mLibsndfileError\u001b[0m                           Traceback (most recent call last)",
      "Cell \u001b[1;32mIn[5], line 23\u001b[0m\n\u001b[0;32m     15\u001b[0m controls \u001b[38;5;241m=\u001b[39m [\u001b[38;5;124m\"\u001b[39m\u001b[38;5;124mvocalisation\u001b[39m\u001b[38;5;124m\"\u001b[39m, \u001b[38;5;124m\"\u001b[39m\u001b[38;5;124msilent\u001b[39m\u001b[38;5;124m\"\u001b[39m]\n\u001b[0;32m     18\u001b[0m \u001b[38;5;66;03m#insert your path to vocalisation\u001b[39;00m\n\u001b[0;32m     19\u001b[0m \u001b[38;5;66;03m#path_to_vocalisation = \"c:/Users/labuser/Downloads/vocalisationzzzzzz/zenodo5771669_run1_day2_male_w_female_oestrus.WAV\"\u001b[39;00m\n\u001b[0;32m     20\u001b[0m \n\u001b[0;32m     21\u001b[0m \u001b[38;5;66;03m# look this next function could be easier but you bear with me, here is where we sort everything out\u001b[39;00m\n\u001b[1;32m---> 23\u001b[0m frequencies, temporal_modulation, sound_type, sounds_arrays \u001b[38;5;241m=\u001b[39m \u001b[43msf\u001b[49m\u001b[38;5;241;43m.\u001b[39;49m\u001b[43minfo_temporal_modulation_hc\u001b[49m\u001b[43m(\u001b[49m\u001b[43mrois_number\u001b[49m\u001b[43m,\u001b[49m\n\u001b[0;32m     24\u001b[0m \u001b[43m                                                                                            \u001b[49m\u001b[43mcontrols\u001b[49m\u001b[43m,\u001b[49m\u001b[43m \u001b[49m\n\u001b[0;32m     25\u001b[0m \u001b[43m                                                                                            \u001b[49m\u001b[43msmooth_freqs\u001b[49m\u001b[43m,\u001b[49m\u001b[43m \u001b[49m\n\u001b[0;32m     26\u001b[0m \u001b[43m                                                                                            \u001b[49m\u001b[43mconstant_rough_freqs\u001b[49m\u001b[43m,\u001b[49m\u001b[43m \u001b[49m\n\u001b[0;32m     27\u001b[0m \u001b[43m                                                                                            \u001b[49m\u001b[43mcomplex_rough_freqs\u001b[49m\u001b[43m,\u001b[49m\u001b[43m \u001b[49m\n\u001b[0;32m     28\u001b[0m \u001b[43m                                                                                            \u001b[49m\u001b[43mconstant_rough_modulation\u001b[49m\u001b[38;5;241;43m=\u001b[39;49m\u001b[43m \u001b[49m\u001b[43mctm\u001b[49m\u001b[43m,\u001b[49m\u001b[43m \u001b[49m\n\u001b[0;32m     29\u001b[0m \u001b[43m                                                                                            \u001b[49m\u001b[43mcomplex_rough_mod\u001b[49m\u001b[43m \u001b[49m\u001b[38;5;241;43m=\u001b[39;49m\u001b[43m \u001b[49m\u001b[43mcomplex_tm\u001b[49m\u001b[43m,\u001b[49m\u001b[43m \u001b[49m\n\u001b[0;32m     30\u001b[0m \u001b[43m                                                                                            \u001b[49m\u001b[43mpath_to_voc\u001b[49m\u001b[43m \u001b[49m\u001b[38;5;241;43m=\u001b[39;49m\u001b[43m \u001b[49m\u001b[43mpath_to_vocalisation\u001b[49m\u001b[43m)\u001b[49m\n",
      "File \u001b[1;32mc:\\Users\\aleja\\OneDrive\\Documents\\GitHub\\mice-maze\\code\\auditory\\supfun_sequences.py:890\u001b[0m, in \u001b[0;36minfo_temporal_modulation_hc\u001b[1;34m(rois_number, controls, smooth_freqs, constant_rough_freqs, complex_rough_freqs, constant_rough_modulation, complex_rough_mod, path_to_voc)\u001b[0m\n\u001b[0;32m    888\u001b[0m         temporal_modulation\u001b[38;5;241m.\u001b[39mappend(\u001b[38;5;124m\"\u001b[39m\u001b[38;5;124mvocalisation\u001b[39m\u001b[38;5;124m\"\u001b[39m)\n\u001b[0;32m    889\u001b[0m         sound_type\u001b[38;5;241m.\u001b[39mappend(\u001b[38;5;124m\"\u001b[39m\u001b[38;5;124mcontrol\u001b[39m\u001b[38;5;124m\"\u001b[39m)\n\u001b[1;32m--> 890\u001b[0m         voc_sound_array \u001b[38;5;241m=\u001b[39m \u001b[43mgenerate_voc_array\u001b[49m\u001b[43m(\u001b[49m\u001b[43mpath_to_voc\u001b[49m\u001b[43m,\u001b[49m\u001b[43m \u001b[49m\u001b[38;5;241;43m192000\u001b[39;49m\u001b[43m)\u001b[49m\n\u001b[0;32m    891\u001b[0m         sounds_arrays\u001b[38;5;241m.\u001b[39mappend(voc_sound_array)\n\u001b[0;32m    893\u001b[0m \u001b[38;5;28;01mfor\u001b[39;00m i \u001b[38;5;129;01min\u001b[39;00m smooth_freqs:\n",
      "File \u001b[1;32mc:\\Users\\aleja\\OneDrive\\Documents\\GitHub\\mice-maze\\code\\auditory\\supfun_sequences.py:252\u001b[0m, in \u001b[0;36mgenerate_voc_array\u001b[1;34m(path_to_voc, sample_rate)\u001b[0m\n\u001b[0;32m    247\u001b[0m \u001b[38;5;250m\u001b[39m\u001b[38;5;124;03m\"\"\"\u001b[39;00m\n\u001b[0;32m    248\u001b[0m \u001b[38;5;124;03musing resample_poly to downsample from fs_original → sample_rate.\u001b[39;00m\n\u001b[0;32m    249\u001b[0m \u001b[38;5;124;03mReturns a list [resampled_audio] if fs_original ≥ sample_rate, otherwise warns.\u001b[39;00m\n\u001b[0;32m    250\u001b[0m \u001b[38;5;124;03m\"\"\"\u001b[39;00m\n\u001b[0;32m    251\u001b[0m voc_sound_data \u001b[38;5;241m=\u001b[39m []\n\u001b[1;32m--> 252\u001b[0m voc, fs_original \u001b[38;5;241m=\u001b[39m \u001b[43msf\u001b[49m\u001b[38;5;241;43m.\u001b[39;49m\u001b[43mread\u001b[49m\u001b[43m(\u001b[49m\u001b[43mpath_to_voc\u001b[49m\u001b[43m)\u001b[49m  \u001b[38;5;66;03m# voc: (n_samples,) or (n_samples, channels)\u001b[39;00m\n\u001b[0;32m    254\u001b[0m \u001b[38;5;28;01mif\u001b[39;00m fs_original \u001b[38;5;241m==\u001b[39m sample_rate:\n\u001b[0;32m    255\u001b[0m     voc_sound_data\u001b[38;5;241m.\u001b[39mappend(voc)\n",
      "File \u001b[1;32mc:\\Users\\aleja\\anaconda3\\envs\\malawi\\lib\\site-packages\\soundfile.py:305\u001b[0m, in \u001b[0;36mread\u001b[1;34m(file, frames, start, stop, dtype, always_2d, fill_value, out, samplerate, channels, format, subtype, endian, closefd)\u001b[0m\n\u001b[0;32m    219\u001b[0m \u001b[38;5;28;01mdef\u001b[39;00m\u001b[38;5;250m \u001b[39m\u001b[38;5;21mread\u001b[39m(file, frames\u001b[38;5;241m=\u001b[39m\u001b[38;5;241m-\u001b[39m\u001b[38;5;241m1\u001b[39m, start\u001b[38;5;241m=\u001b[39m\u001b[38;5;241m0\u001b[39m, stop\u001b[38;5;241m=\u001b[39m\u001b[38;5;28;01mNone\u001b[39;00m, dtype\u001b[38;5;241m=\u001b[39m\u001b[38;5;124m'\u001b[39m\u001b[38;5;124mfloat64\u001b[39m\u001b[38;5;124m'\u001b[39m, always_2d\u001b[38;5;241m=\u001b[39m\u001b[38;5;28;01mFalse\u001b[39;00m,\n\u001b[0;32m    220\u001b[0m          fill_value\u001b[38;5;241m=\u001b[39m\u001b[38;5;28;01mNone\u001b[39;00m, out\u001b[38;5;241m=\u001b[39m\u001b[38;5;28;01mNone\u001b[39;00m, samplerate\u001b[38;5;241m=\u001b[39m\u001b[38;5;28;01mNone\u001b[39;00m, channels\u001b[38;5;241m=\u001b[39m\u001b[38;5;28;01mNone\u001b[39;00m,\n\u001b[0;32m    221\u001b[0m          \u001b[38;5;28mformat\u001b[39m\u001b[38;5;241m=\u001b[39m\u001b[38;5;28;01mNone\u001b[39;00m, subtype\u001b[38;5;241m=\u001b[39m\u001b[38;5;28;01mNone\u001b[39;00m, endian\u001b[38;5;241m=\u001b[39m\u001b[38;5;28;01mNone\u001b[39;00m, closefd\u001b[38;5;241m=\u001b[39m\u001b[38;5;28;01mTrue\u001b[39;00m):\n\u001b[0;32m    222\u001b[0m \u001b[38;5;250m    \u001b[39m\u001b[38;5;124;03m\"\"\"Provide audio data from a sound file as NumPy array.\u001b[39;00m\n\u001b[0;32m    223\u001b[0m \n\u001b[0;32m    224\u001b[0m \u001b[38;5;124;03m    By default, the whole file is read from the beginning, but the\u001b[39;00m\n\u001b[1;32m   (...)\u001b[0m\n\u001b[0;32m    303\u001b[0m \n\u001b[0;32m    304\u001b[0m \u001b[38;5;124;03m    \"\"\"\u001b[39;00m\n\u001b[1;32m--> 305\u001b[0m     \u001b[38;5;28;01mwith\u001b[39;00m \u001b[43mSoundFile\u001b[49m\u001b[43m(\u001b[49m\u001b[43mfile\u001b[49m\u001b[43m,\u001b[49m\u001b[43m \u001b[49m\u001b[38;5;124;43m'\u001b[39;49m\u001b[38;5;124;43mr\u001b[39;49m\u001b[38;5;124;43m'\u001b[39;49m\u001b[43m,\u001b[49m\u001b[43m \u001b[49m\u001b[43msamplerate\u001b[49m\u001b[43m,\u001b[49m\u001b[43m \u001b[49m\u001b[43mchannels\u001b[49m\u001b[43m,\u001b[49m\n\u001b[0;32m    306\u001b[0m \u001b[43m                   \u001b[49m\u001b[43msubtype\u001b[49m\u001b[43m,\u001b[49m\u001b[43m \u001b[49m\u001b[43mendian\u001b[49m\u001b[43m,\u001b[49m\u001b[43m \u001b[49m\u001b[38;5;28;43mformat\u001b[39;49m\u001b[43m,\u001b[49m\u001b[43m \u001b[49m\u001b[43mclosefd\u001b[49m\u001b[43m)\u001b[49m \u001b[38;5;28;01mas\u001b[39;00m f:\n\u001b[0;32m    307\u001b[0m         frames \u001b[38;5;241m=\u001b[39m f\u001b[38;5;241m.\u001b[39m_prepare_read(start, stop, frames)\n\u001b[0;32m    308\u001b[0m         data \u001b[38;5;241m=\u001b[39m f\u001b[38;5;241m.\u001b[39mread(frames, dtype, always_2d, fill_value, out)\n",
      "File \u001b[1;32mc:\\Users\\aleja\\anaconda3\\envs\\malawi\\lib\\site-packages\\soundfile.py:690\u001b[0m, in \u001b[0;36mSoundFile.__init__\u001b[1;34m(self, file, mode, samplerate, channels, subtype, endian, format, closefd, compression_level, bitrate_mode)\u001b[0m\n\u001b[0;32m    687\u001b[0m \u001b[38;5;28mself\u001b[39m\u001b[38;5;241m.\u001b[39m_bitrate_mode \u001b[38;5;241m=\u001b[39m bitrate_mode\n\u001b[0;32m    688\u001b[0m \u001b[38;5;28mself\u001b[39m\u001b[38;5;241m.\u001b[39m_info \u001b[38;5;241m=\u001b[39m _create_info_struct(file, mode, samplerate, channels,\n\u001b[0;32m    689\u001b[0m                                  \u001b[38;5;28mformat\u001b[39m, subtype, endian)\n\u001b[1;32m--> 690\u001b[0m \u001b[38;5;28mself\u001b[39m\u001b[38;5;241m.\u001b[39m_file \u001b[38;5;241m=\u001b[39m \u001b[38;5;28;43mself\u001b[39;49m\u001b[38;5;241;43m.\u001b[39;49m\u001b[43m_open\u001b[49m\u001b[43m(\u001b[49m\u001b[43mfile\u001b[49m\u001b[43m,\u001b[49m\u001b[43m \u001b[49m\u001b[43mmode_int\u001b[49m\u001b[43m,\u001b[49m\u001b[43m \u001b[49m\u001b[43mclosefd\u001b[49m\u001b[43m)\u001b[49m\n\u001b[0;32m    691\u001b[0m \u001b[38;5;28;01mif\u001b[39;00m \u001b[38;5;28mset\u001b[39m(mode)\u001b[38;5;241m.\u001b[39missuperset(\u001b[38;5;124m'\u001b[39m\u001b[38;5;124mr+\u001b[39m\u001b[38;5;124m'\u001b[39m) \u001b[38;5;129;01mand\u001b[39;00m \u001b[38;5;28mself\u001b[39m\u001b[38;5;241m.\u001b[39mseekable():\n\u001b[0;32m    692\u001b[0m     \u001b[38;5;66;03m# Move write position to 0 (like in Python file objects)\u001b[39;00m\n\u001b[0;32m    693\u001b[0m     \u001b[38;5;28mself\u001b[39m\u001b[38;5;241m.\u001b[39mseek(\u001b[38;5;241m0\u001b[39m)\n",
      "File \u001b[1;32mc:\\Users\\aleja\\anaconda3\\envs\\malawi\\lib\\site-packages\\soundfile.py:1265\u001b[0m, in \u001b[0;36mSoundFile._open\u001b[1;34m(self, file, mode_int, closefd)\u001b[0m\n\u001b[0;32m   1262\u001b[0m \u001b[38;5;28;01mif\u001b[39;00m file_ptr \u001b[38;5;241m==\u001b[39m _ffi\u001b[38;5;241m.\u001b[39mNULL:\n\u001b[0;32m   1263\u001b[0m     \u001b[38;5;66;03m# get the actual error code\u001b[39;00m\n\u001b[0;32m   1264\u001b[0m     err \u001b[38;5;241m=\u001b[39m _snd\u001b[38;5;241m.\u001b[39msf_error(file_ptr)\n\u001b[1;32m-> 1265\u001b[0m     \u001b[38;5;28;01mraise\u001b[39;00m LibsndfileError(err, prefix\u001b[38;5;241m=\u001b[39m\u001b[38;5;124m\"\u001b[39m\u001b[38;5;124mError opening \u001b[39m\u001b[38;5;132;01m{0!r}\u001b[39;00m\u001b[38;5;124m: \u001b[39m\u001b[38;5;124m\"\u001b[39m\u001b[38;5;241m.\u001b[39mformat(\u001b[38;5;28mself\u001b[39m\u001b[38;5;241m.\u001b[39mname))\n\u001b[0;32m   1266\u001b[0m \u001b[38;5;28;01mif\u001b[39;00m mode_int \u001b[38;5;241m==\u001b[39m _snd\u001b[38;5;241m.\u001b[39mSFM_WRITE:\n\u001b[0;32m   1267\u001b[0m     \u001b[38;5;66;03m# Due to a bug in libsndfile version <= 1.0.25, frames != 0\u001b[39;00m\n\u001b[0;32m   1268\u001b[0m     \u001b[38;5;66;03m# when opening a named pipe in SFM_WRITE mode.\u001b[39;00m\n\u001b[0;32m   1269\u001b[0m     \u001b[38;5;66;03m# See http://github.com/erikd/libsndfile/issues/77.\u001b[39;00m\n\u001b[0;32m   1270\u001b[0m     \u001b[38;5;28mself\u001b[39m\u001b[38;5;241m.\u001b[39m_info\u001b[38;5;241m.\u001b[39mframes \u001b[38;5;241m=\u001b[39m \u001b[38;5;241m0\u001b[39m\n",
      "\u001b[1;31mLibsndfileError\u001b[0m: Error opening 'c:/Users/labuser/Downloads/vocalisationzzzzzz/zenodo5771669_run1_day2_male_w_female_oestrus.WAV': System error."
     ]
    }
   ],
   "source": [
    "\n",
    "rois_number = 8\n",
    "\n",
    "\n",
    "# okay, so, this adds another layer of control. You user can choose which frequencies will be smooth, which with constant AM, and which with variable AM \n",
    "# you do you, depends on what level of control freak you are. No judgement, I understand. There there\n",
    "smooth_freqs = [10000, 20000]\n",
    "constant_rough_freqs = [10000, 20000]\n",
    "#constant temporal modulation\n",
    "ctm= 50 #Hz\n",
    "complex_rough_freqs = [10000, 20000]\n",
    "#complex temporal modulation\n",
    "#check in supfun apply_segmented_am_modulation if you want to change parameters\n",
    "complex_tm = [30, 50, 70] # Hz\n",
    "\n",
    "controls = [\"vocalisation\", \"silent\"]\n",
    "\n",
    "\n",
    "#insert your path to vocalisation\n",
    "path_to_vocalisation = \"c:/Users/labuser/Downloads/vocalisationzzzzzz/zenodo5771669_run1_day2_male_w_female_oestrus.WAV\"\n",
    "\n",
    "# look this next function could be easier but you bear with me, here is where we sort everything out\n",
    "\n",
    "frequencies, temporal_modulation, sound_type, sounds_arrays = sf.info_temporal_modulation_hc(rois_number,\n",
    "                                                                                            controls, \n",
    "                                                                                            smooth_freqs, \n",
    "                                                                                            constant_rough_freqs, \n",
    "                                                                                            complex_rough_freqs, \n",
    "                                                                                            constant_rough_modulation= ctm, \n",
    "                                                                                            complex_rough_mod = complex_tm, \n",
    "                                                                                            path_to_voc = path_to_vocalisation)\n",
    "\n"
   ]
  },
  {
   "cell_type": "code",
   "execution_count": null,
   "id": "7c5ce3de",
   "metadata": {},
   "outputs": [],
   "source": [
    "def save_sound(sound_data, frequency):\n",
    "    parent_folder_selected = filedialog.askdirectory()\n",
    "\n",
    "    if parent_folder_selected:\n",
    "        local_time = time.localtime()\n",
    "        date_time = time.strftime('%d-%m-%Y_%H', local_time)  # adding hour in case of trial/error\n",
    "\n",
    "        # Create a new subdirectory within the selected folder that takes the day\n",
    "        subfolder_path = os.path.join(parent_folder_selected, date_time)\n",
    "\n",
    "        if not os.path.exists(subfolder_path):\n",
    "            os.makedirs(subfolder_path)\n",
    "\n",
    "        # Use the frequency as the name for the sound\n",
    "        file_name = f\"{frequency}.wav\"\n",
    "\n",
    "        # Save in the folder\n",
    "        full_file_path = os.path.join(subfolder_path, file_name)\n",
    "        save_sound_to_file(sound_data, full_file_path)\n",
    "\n",
    "def save_sound_to_file(sound_data, file_path):\n",
    "    '''Modify this if need different audio formats'''\n",
    "    # Normalize sound_data to 16-bit PCM format for WAV file\n",
    "    sound_data_normalized = np.int16((sound_data / np.max(np.abs(sound_data))) * 32767)\n",
    "    with wave.open(file_path, 'w') as wf:\n",
    "        wf.setnchannels(1)  # Mono\n",
    "        wf.setsampwidth(2)  # 16 bits\n",
    "        wf.setframerate(192000)  # Sampling rate\n",
    "        wf.writeframes(sound_data_normalized.tobytes())\n"
   ]
  }
 ],
 "metadata": {
  "kernelspec": {
   "display_name": "malawi",
   "language": "python",
   "name": "python3"
  },
  "language_info": {
   "codemirror_mode": {
    "name": "ipython",
    "version": 3
   },
   "file_extension": ".py",
   "mimetype": "text/x-python",
   "name": "python",
   "nbconvert_exporter": "python",
   "pygments_lexer": "ipython3",
   "version": "3.10.16"
  }
 },
 "nbformat": 4,
 "nbformat_minor": 5
}
