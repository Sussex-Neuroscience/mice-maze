{
 "cells": [
  {
   "cell_type": "code",
   "execution_count": 1,
   "id": "dcb46888",
   "metadata": {},
   "outputs": [
    {
     "name": "stdout",
     "output_type": "stream",
     "text": [
      "[-1.49536133e-03 -6.07299805e-03  5.58471680e-03 ...  8.14819336e-03\n",
      " -3.14331055e-03 -9.15527344e-05] 300000\n"
     ]
    }
   ],
   "source": [
    "import soundfile as sf\n",
    "\n",
    "path_to_vocalisation = \"c:/Users/labuser/Downloads/mM27.18-individuality_run1_day2-2016-10-14_15-16-00_0003.WAV\"\n",
    "voc, fs_original = sf.read(path_to_vocalisation)  # voc: (n_samples,) or (n_samples, channels)\n",
    "\n",
    "print(voc, fs_original)"
   ]
  }
 ],
 "metadata": {
  "kernelspec": {
   "display_name": "base",
   "language": "python",
   "name": "python3"
  },
  "language_info": {
   "codemirror_mode": {
    "name": "ipython",
    "version": 3
   },
   "file_extension": ".py",
   "mimetype": "text/x-python",
   "name": "python",
   "nbconvert_exporter": "python",
   "pygments_lexer": "ipython3",
   "version": "3.12.7"
  }
 },
 "nbformat": 4,
 "nbformat_minor": 5
}
