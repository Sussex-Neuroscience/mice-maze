{
 "cells": [
  {
   "cell_type": "code",
   "execution_count": 3,
   "id": "dcb46888",
   "metadata": {},
   "outputs": [
    {
     "name": "stdout",
     "output_type": "stream",
     "text": [
      "[-1.49536133e-03 -6.07299805e-03  5.58471680e-03 ...  8.14819336e-03\n",
      " -3.14331055e-03 -9.15527344e-05] 300000\n"
     ]
    }
   ],
   "source": [
    "import soundfile as sf\n",
    "from scipy.signal import resample, resample_poly\n",
    "\n",
    "path_to_vocalisation = \"c:/Users/labuser/Downloads/mM27.18-individuality_run1_day2-2016-10-14_15-16-00_0003.WAV\"\n",
    "voc, fs_original = sf.read(path_to_vocalisation)  # voc: (n_samples,) or (n_samples, channels)\n",
    "\n",
    "print(voc, fs_original)"
   ]
  },
  {
   "cell_type": "code",
   "execution_count": null,
   "id": "1667c0b8",
   "metadata": {},
   "outputs": [],
   "source": [
    "def generate_voc_array(path_to_voc, sample_rate):\n",
    "    \"\"\"\n",
    "    using resample_poly to downsample from fs_original → sample_rate.\n",
    "    Returns a list [resampled_audio] if fs_original ≥ sample_rate, otherwise warns.\n",
    "    \"\"\"\n",
    "    voc_sound_data = []\n",
    "    voc, fs_original = sf.read(path_to_voc)  # voc: (n_samples,) or (n_samples, channels)\n",
    "\n",
    "    if fs_original == sample_rate:\n",
    "        voc_sound_data.append(voc)\n",
    "\n",
    "    elif fs_original > sample_rate:\n",
    "        from math import gcd\n",
    "        up   = sample_rate\n",
    "        down = fs_original\n",
    "        g = gcd(up, down)\n",
    "        up //= g\n",
    "        down //= g\n",
    "\n",
    "        voc_resampled = resample_poly(voc, up, down, axis=0)\n",
    "        voc_sound_data.append(voc_resampled)\n",
    "\n",
    "    else:\n",
    "        raise ValueError(f\"Recording fs={fs_original} Hz is below target {sample_rate} Hz.\")\n",
    "\n",
    "    return voc_sound_data[0]\n",
    "\n",
    "\n",
    "\n"
   ]
  },
  {
   "cell_type": "code",
   "execution_count": null,
   "id": "88e2ac33",
   "metadata": {},
   "outputs": [
    {
     "name": "stdout",
     "output_type": "stream",
     "text": [
      "[-0.00326038 -0.00016538 -0.00077437 ...  0.00651769 -0.00152618\n",
      "  0.0001537 ]\n"
     ]
    }
   ],
   "source": [
    "prova = generate_voc_array(path_to_vocalisation,192000)[0]\n",
    "print(prova)\n",
    "\n",
    "prova_2 = []\n",
    "\n",
    "for i in prova:\n",
    "    prova_2.append(i)\n",
    "\n",
    "print(prova_2)"
   ]
  }
 ],
 "metadata": {
  "kernelspec": {
   "display_name": "base",
   "language": "python",
   "name": "python3"
  },
  "language_info": {
   "codemirror_mode": {
    "name": "ipython",
    "version": 3
   },
   "file_extension": ".py",
   "mimetype": "text/x-python",
   "name": "python",
   "nbconvert_exporter": "python",
   "pygments_lexer": "ipython3",
   "version": "3.12.7"
  }
 },
 "nbformat": 4,
 "nbformat_minor": 5
}
