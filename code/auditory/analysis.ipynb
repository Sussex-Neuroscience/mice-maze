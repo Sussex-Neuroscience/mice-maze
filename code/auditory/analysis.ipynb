{
 "cells": [
  {
   "cell_type": "markdown",
   "id": "7eb37a36",
   "metadata": {},
   "source": [
    "# Auditory analysis"
   ]
  },
  {
   "cell_type": "code",
   "execution_count": 4,
   "id": "b0723d3d",
   "metadata": {},
   "outputs": [],
   "source": [
    "from pathlib import Path\n",
    "import pandas as pd\n",
    "import numpy as np\n",
    "import matplotlib.pyplot as plt\n",
    "import textwrap\n",
    "import os\n",
    "import pandas as pd "
   ]
  },
  {
   "cell_type": "markdown",
   "id": "49c5fd69",
   "metadata": {},
   "source": [
    "## individual plots to show time spent in roi/stimulus per trial per mouse"
   ]
  },
  {
   "cell_type": "code",
   "execution_count": 7,
   "id": "f9f2594c",
   "metadata": {},
   "outputs": [
    {
     "ename": "NotADirectoryError",
     "evalue": "[WinError 267] The directory name is invalid: 'C:/Users/aleja/Box/Awake Project/Maze data/Auditory experiments/8_arms_w_voc (1)/all_mice_summary.csv'",
     "output_type": "error",
     "traceback": [
      "\u001b[31m---------------------------------------------------------------------------\u001b[39m",
      "\u001b[31mNotADirectoryError\u001b[39m                        Traceback (most recent call last)",
      "\u001b[36mCell\u001b[39m\u001b[36m \u001b[39m\u001b[32mIn[7]\u001b[39m\u001b[32m, line 11\u001b[39m\n\u001b[32m      9\u001b[39m exp_day_dir = main_dir + \u001b[33m\"\u001b[39m\u001b[33m/\u001b[39m\u001b[33m\"\u001b[39m + day\n\u001b[32m     10\u001b[39m \u001b[38;5;66;03m# print(day)\u001b[39;00m\n\u001b[32m---> \u001b[39m\u001b[32m11\u001b[39m \u001b[38;5;28;01mfor\u001b[39;00m mouse \u001b[38;5;129;01min\u001b[39;00m \u001b[43mos\u001b[49m\u001b[43m.\u001b[49m\u001b[43mlistdir\u001b[49m\u001b[43m(\u001b[49m\u001b[43mexp_day_dir\u001b[49m\u001b[43m)\u001b[49m:\n\u001b[32m     12\u001b[39m     mouse_data_dir = exp_day_dir + \u001b[33m\"\u001b[39m\u001b[33m/\u001b[39m\u001b[33m\"\u001b[39m + mouse\n\u001b[32m     13\u001b[39m     \u001b[38;5;66;03m# print(mouse)\u001b[39;00m\n",
      "\u001b[31mNotADirectoryError\u001b[39m: [WinError 267] The directory name is invalid: 'C:/Users/aleja/Box/Awake Project/Maze data/Auditory experiments/8_arms_w_voc (1)/all_mice_summary.csv'"
     ]
    }
   ],
   "source": [
    "\n",
    "main_dir = \"C:/Users/aleja/Box/Awake Project/Maze data/Auditory experiments/8_arms_w_voc (1)\"\n",
    "\n",
    "trials_csvs = []\n",
    "video_paths = []\n",
    "\n",
    "working_trials_csvs = []\n",
    "\n",
    "for day in os.listdir(main_dir):\n",
    "    exp_day_dir = main_dir + \"/\" + day\n",
    "    # print(day)\n",
    "    for mouse in os.listdir(exp_day_dir):\n",
    "        mouse_data_dir = exp_day_dir + \"/\" + mouse\n",
    "        # print(mouse)\n",
    "        for data in os.listdir(mouse_data_dir): \n",
    "\n",
    "            if \"trials_time\" in data and \".csv\" in data and \".bak\" not in data:\n",
    "\n",
    "                CSV_FILE = mouse_data_dir+\"/\"+data\n",
    "                trials_csvs.append(CSV_FILE)\n",
    "                trial_df = pd.read_csv(CSV_FILE)\n",
    "\n",
    "                figures (CSV_FILE)\n",
    "\n",
    "                if 'time_in_maze_ms' in trial_df.columns and \"time_in_maze_s\" in trial_df.columns:\n",
    "                    working_trials_csvs.append(mouse_data_dir+\"/\"+data)\n",
    "\n",
    "                \n",
    "\n",
    "            elif \".mp4\" in data:\n",
    "                \n",
    "                video_paths.append(mouse_data_dir+\"/\"+data)\n",
    "                pass\n",
    "        \n",
    "\n",
    "\n",
    "\n",
    "# trials_csvs\n",
    "\n",
    "# print(len(working_trials_csvs))\n",
    "# video_paths\n"
   ]
  },
  {
   "cell_type": "markdown",
   "id": "6aece302",
   "metadata": {},
   "source": [
    "below is `fix_trial2` , some w1_d2 to d4 had trial_ID 2 showing interval_ratio and interval_name the same. It has been fixed in the main code. This fixes the csvs posthoc"
   ]
  },
  {
   "cell_type": "code",
   "execution_count": null,
   "id": "994ebf31",
   "metadata": {},
   "outputs": [],
   "source": [
    "# from pathlib import Path\n",
    "# import pandas as pd\n",
    "\n",
    "\n",
    "def fix_trial2(csv_path):\n",
    "    # fixing the intervals in trials 2\n",
    "    intervals_names = ['none', \"unison\", \"min_2\", \"maj_2\", \"min_3\", \"maj_3\", \n",
    "                    \"perf_4\", \"tritone\", \"perf_5\", \"min_6\", \"maj_6\", \n",
    "                    \"min_7\", \"maj_7\", \"octave\"]\n",
    "    intervals_ratios = ['0', '1/1', '16/15', '9/8', '6/5', '5/4', \n",
    "                        '4/3', '45/32', '3/2', '8/5', '5/3', \n",
    "                        '16/9', '15/8', '2/1']\n",
    "    interval_map = dict(zip(intervals_ratios, intervals_names))\n",
    "\n",
    "    df = pd.read_csv(csv_path)\n",
    "\n",
    "\n",
    "    # print(df.index[df[\"trial_ID\"] == 2])\n",
    "\n",
    "    for idx in df.index[df[\"trial_ID\"] == 2]:\n",
    "        ratio = df.at[idx, \"interval_ratio\"]\n",
    "        df.loc[idx, \"interval_name\"] = interval_map[ratio]\n",
    "\n",
    "\n",
    "    df.to_csv(csv_path, index=False)\n",
    "\n",
    "# def add_voc_deets(csv_path): \n",
    "#     pass\n",
    "    \n",
    "\n",
    "\n",
    "# for i in trials_csvs:\n",
    "\n",
    "#     df = pd.read_csv(i)\n",
    "\n",
    "#     if \"w1_d2\" in i :\n",
    "#         # fix_trial2(i)\n",
    "#         print(f\"working on {i}\")\n"
   ]
  },
  {
   "cell_type": "markdown",
   "id": "03f5f597",
   "metadata": {},
   "source": [
    "below is the code used to remove extra stuff that wasn't supposed to be there and that by mistake deleted some data so please don't use and be careful next time when deleting stuff iterating through directories"
   ]
  },
  {
   "cell_type": "code",
   "execution_count": null,
   "id": "9836285c",
   "metadata": {},
   "outputs": [
    {
     "name": "stdout",
     "output_type": "stream",
     "text": [
      "w1_d1\n",
      "w1_d2\n",
      "w1_d3\n",
      "w1_d4\n",
      "w2_sequences\n",
      "w2_vocalisations\n",
      "w2_voc_copy\n"
     ]
    }
   ],
   "source": [
    "\n",
    "# main_dir = \"C:/Users/aleja/Box/Awake Project/Maze data/Auditory experiments/8_arms_w_voc (1)\"\n",
    "\n",
    "# for i in os.listdir(main_dir):\n",
    "#     days_dir = main_dir + '/' + i\n",
    "#     print(i)\n",
    "#     for culo in os.listdir(days_dir):\n",
    "#         # print (culo)\n",
    "#         session = days_dir + '/' + culo\n",
    "#         for trial in os.listdir(session):\n",
    "#             path_of_trial = session + '/' + trial\n",
    "\n",
    "#             # print(trial)\n",
    "\n",
    "#             if \".csv_trial\" in trial or \".csv.\" in trial or \"csv(2)\" in trial:\n",
    "#                 print(trial)\n",
    "#                 # os.remove(path_of_trial)\n",
    "\n",
    "\n",
    "#             # # if \"trials_time\" in trial and \".csv\" in trial: \n",
    "#             # #     print(trial)\n",
    "            \n",
    "\n",
    "#             # if \".csv_trial_grid\" in trial or \"csv(2)\" in trial or '.csv.bak':\n",
    "#             #     print(path_of_trial)\n",
    "#             #     # os.remove(path_of_trial)\n",
    "\n",
    "                "
   ]
  },
  {
   "cell_type": "markdown",
   "id": "9b873a19",
   "metadata": {},
   "source": [
    "below is `modify_voc_csv` the function that shortens the names of the voc files in the w2_vocalisations experiments"
   ]
  },
  {
   "cell_type": "code",
   "execution_count": null,
   "id": "5aede868",
   "metadata": {},
   "outputs": [],
   "source": [
    "def modify_voc_csv(CSV_FILE):\n",
    "    df = pd.read_csv(CSV_FILE)\n",
    "\n",
    "    # df.fillna(0, inplace=True) \n",
    "    \n",
    "\n",
    "    for idx in df.index[df[\"frequency\"] != 0]:\n",
    "        # print(len(df.loc[idx, \"frequency\"]))\n",
    "\n",
    "        if len(df.loc[idx, \"frequency\"]) > 50:\n",
    "            df.loc[idx, \"frequency\"] = df[\"frequency\"][idx][68:-4]\n",
    "\n",
    "    df.to_csv(CSV_FILE, index=False)\n",
    "\n",
    "\n",
    "\n",
    "\n",
    "\n",
    "# for i in trials_csvs:\n",
    "#     if \"vocalisations\" in i: \n",
    "#         modify_voc_csv(i)\n",
    "\n",
    "\n",
    "\n",
    "\n",
    "# for i in df[\"frequency\"].unique():\n",
    "#     print(i[68:-4])\n",
    "\n",
    "# if \"w1_d1\" in CSV_FILE:\n",
    "#     for i in df[\"temporal_modulation\"].unique():\n",
    "#         print(i)\n",
    "\n",
    "#     for i in df[\"sound_type\"].unique():\n",
    "#         print(i)\n",
    "\n",
    "# if \"interval_type\" in df.columns and \"w1\" in CSV_FILE:\n",
    "\n",
    "    \n",
    "\n",
    "    \n",
    "\n",
    "\n",
    "#     for i in df[\"interval_type\"].unique():\n",
    "#         print(i)\n",
    "\n",
    "#     for i in df[\"frequency\"].unique():\n",
    "#         print(i)\n",
    "\n",
    "#     for i in df[\"interval_name\"].unique():\n",
    "#         print(i)\n",
    "\n",
    "#     for i in df[\"interval_ratio\"].unique():\n",
    "#         print(i)\n",
    "\n",
    "\n",
    "# elif \"w2\" in CSV_FILE and \"pattern\" in df.columns:\n",
    "#     for i in df[\"pattern\"].unique():\n",
    "#         print(i)\n",
    "\n",
    "#     for i in df[\"frequency\"].unique():\n",
    "#         print(i[:27])\n",
    "\n",
    "# else:\n",
    "#     for i in df[\"frequency\"].unique():\n",
    "#         print(i[68:-4])\n",
    "\n"
   ]
  },
  {
   "cell_type": "code",
   "execution_count": 163,
   "id": "c01f873b",
   "metadata": {},
   "outputs": [
    {
     "name": "stdout",
     "output_type": "stream",
     "text": [
      "    trial_ID  ROIs                    frequency interval_type interval_ratio  \\\n",
      "0          1  ROI1                  habituation  silent_trial           none   \n",
      "1          1  ROI2                  habituation  silent_trial           none   \n",
      "2          1  ROI3                  habituation  silent_trial           none   \n",
      "3          1  ROI4                  habituation  silent_trial           none   \n",
      "4          1  ROI5                  habituation  silent_trial           none   \n",
      "5          1  ROI6                  habituation  silent_trial           none   \n",
      "6          1  ROI7                  habituation  silent_trial           none   \n",
      "7          1  ROI8                  habituation  silent_trial           none   \n",
      "8          2  ROI1                 vocalisation       control              0   \n",
      "9          2  ROI2                            0       control              0   \n",
      "10         2  ROI3               [15000, 15000]        smooth            1/1   \n",
      "11         2  ROI4               [15000, 15000]         rough            1/1   \n",
      "12         2  ROI5             [15000, 20000.0]     consonant            4/3   \n",
      "13         2  ROI6             [15000, 22500.0]     consonant            3/2   \n",
      "14         2  ROI7  [15000, 21333.333333333336]     dissonant          45/32   \n",
      "15         2  ROI8  [15000, 26666.666666666664]     dissonant           16/9   \n",
      "16         3  ROI1                            0  silent_trial           none   \n",
      "17         3  ROI2                            0  silent_trial           none   \n",
      "18         3  ROI3                            0  silent_trial           none   \n",
      "19         3  ROI4                            0  silent_trial           none   \n",
      "20         3  ROI5                            0  silent_trial           none   \n",
      "21         3  ROI6                            0  silent_trial           none   \n",
      "22         3  ROI7                            0  silent_trial           none   \n",
      "23         3  ROI8                            0  silent_trial           none   \n",
      "\n",
      "   interval_name  time_spent  visitation_count  time_in_maze_ms  \\\n",
      "0           none     21434.0              14.0    284800.000000   \n",
      "1           none     29250.0              11.0    284800.000000   \n",
      "2           none      4006.0               2.0    284800.000000   \n",
      "3           none      2881.0               8.0    284800.000000   \n",
      "4           none      4100.0               3.0    284800.000000   \n",
      "5           none      7640.0               3.0    284800.000000   \n",
      "6           none      4972.0              10.0    284800.000000   \n",
      "7           none     10780.0               7.0    284800.000000   \n",
      "8           none         NaN               NaN    196166.666667   \n",
      "9           none      6192.0               4.0    196166.666667   \n",
      "10        unison         NaN               NaN    196166.666667   \n",
      "11        unison      1021.0               1.0    196166.666667   \n",
      "12        perf_4         NaN               NaN    196166.666667   \n",
      "13        perf_5         NaN               NaN    196166.666667   \n",
      "14       tritone         NaN               NaN    196166.666667   \n",
      "15         min_7        97.0               2.0    196166.666667   \n",
      "16          none      4811.0               3.0     17833.333333   \n",
      "17          none         NaN               NaN     17833.333333   \n",
      "18          none         NaN               NaN     17833.333333   \n",
      "19          none         NaN               NaN     17833.333333   \n",
      "20          none      2463.0               2.0     17833.333333   \n",
      "21          none       131.0               1.0     17833.333333   \n",
      "22          none      2225.0               4.0     17833.333333   \n",
      "23          none       258.0               1.0     17833.333333   \n",
      "\n",
      "    total_time_trial_s  time_spent_s  time_in_maze_s  \\\n",
      "0                900.0          21.0           285.0   \n",
      "1                900.0          29.0           285.0   \n",
      "2                900.0           4.0           285.0   \n",
      "3                900.0           3.0           285.0   \n",
      "4                900.0           4.0           285.0   \n",
      "5                900.0           8.0           285.0   \n",
      "6                900.0           5.0           285.0   \n",
      "7                900.0          11.0           285.0   \n",
      "8                900.0           NaN           196.0   \n",
      "9                900.0           6.0           196.0   \n",
      "10               900.0           NaN           196.0   \n",
      "11               900.0           1.0           196.0   \n",
      "12               900.0           NaN           196.0   \n",
      "13               900.0           NaN           196.0   \n",
      "14               900.0           NaN           196.0   \n",
      "15               900.0           0.0           196.0   \n",
      "16               120.0           5.0            18.0   \n",
      "17               120.0           NaN            18.0   \n",
      "18               120.0           NaN            18.0   \n",
      "19               120.0           NaN            18.0   \n",
      "20               120.0           2.0            18.0   \n",
      "21               120.0           0.0            18.0   \n",
      "22               120.0           2.0            18.0   \n",
      "23               120.0           0.0            18.0   \n",
      "\n",
      "    time_in_maze/total_trial_time(%)  time_in_roi/time_in_maze(%)  \n",
      "0                              31.67                         7.53  \n",
      "1                              31.67                        10.27  \n",
      "2                              31.67                         1.41  \n",
      "3                              31.67                         1.01  \n",
      "4                              31.67                         1.44  \n",
      "5                              31.67                         2.68  \n",
      "6                              31.67                         1.75  \n",
      "7                              31.67                         3.79  \n",
      "8                              21.78                          NaN  \n",
      "9                              21.78                         3.16  \n",
      "10                             21.78                          NaN  \n",
      "11                             21.78                         0.52  \n",
      "12                             21.78                          NaN  \n",
      "13                             21.78                          NaN  \n",
      "14                             21.78                          NaN  \n",
      "15                             21.78                         0.05  \n",
      "16                             15.00                        26.98  \n",
      "17                             15.00                          NaN  \n",
      "18                             15.00                          NaN  \n",
      "19                             15.00                          NaN  \n",
      "20                             15.00                        13.81  \n",
      "21                             15.00                         0.73  \n",
      "22                             15.00                        12.48  \n",
      "23                             15.00                         1.45  \n"
     ]
    }
   ],
   "source": [
    "# print(len(trials_csvs))\n",
    "\n",
    "CSV_FILE_w1 = pd.read_csv(trials_csvs[10])\n",
    "\n",
    "\n",
    "\n",
    "# print(CSV_FILE_w1.iloc[:,2])\n",
    "\n",
    "for idx in CSV_FILE_w1.index[CSV_FILE_w1 [\"trial_ID\"] == 1]:\n",
    "    # print(len(df.loc[idx, \"frequency\"]))\n",
    "    CSV_FILE_w1.iloc[idx, 2] = \"habituation\"\n",
    "\n",
    "    # print(CSV_FILE_w1.loc[idx, \"trial_ID\"], CSV_FILE_w1.iloc[idx,2])\n",
    "\n",
    "print(CSV_FILE_w1.head(24))\n",
    "# CSV_FILE_w1.loc[idx, \"frequency\"] = CSV_FILE_w1 [\"frequency\"][idx][68:-4]"
   ]
  },
  {
   "cell_type": "markdown",
   "id": "62004cec",
   "metadata": {},
   "source": [
    "below is the function `figures` to generate the individual plots per mouse that show the time spent in the rois per trial "
   ]
  },
  {
   "cell_type": "code",
   "execution_count": 5,
   "id": "f7875033",
   "metadata": {},
   "outputs": [],
   "source": [
    "\n",
    "\n",
    "def figures(CSV_FILE,  SAVE_FIG=True, FIG_DPI=150):\n",
    "    CSV_FILE = str(CSV_FILE)  # allow Path or str\n",
    "    df = pd.read_csv(CSV_FILE)\n",
    "    p = Path(CSV_FILE)\n",
    "\n",
    "\n",
    "    metric_name = \"time_spent\"\n",
    "    ylab = \"Time in ROI (ms)\"\n",
    "\n",
    "    #ensure ROI order & required basics\n",
    "    roi_order = [f\"ROI{i}\" for i in range(1, 9)]\n",
    "    if \"ROIs\" not in df.columns:\n",
    "        raise ValueError(\"Column 'ROIs' not found in CSV.\")\n",
    "    df = df[df[\"ROIs\"].isin(roi_order)].copy()\n",
    "    df[\"ROIs\"] = pd.Categorical(df[\"ROIs\"], categories=roi_order, ordered=True)\n",
    "\n",
    "    if \"trial_ID\" not in df.columns or \"time_spent\" not in df.columns:\n",
    "        raise ValueError(\"CSV must include 'trial_ID' and 'time_spent'.\")\n",
    "\n",
    "    \n",
    "    s = str(p.as_posix()).lower()\n",
    "    has_intervals = (\"interval_type\" in df.columns) and (\"interval_name\" in df.columns)\n",
    "\n",
    "    # Build ONE label column 'plot_label' used for colors & annotations\n",
    "    if \"w1\" in s and has_intervals:\n",
    "        # Interval mapping view\n",
    "        required = {\"interval_type\", \"interval_name\"}\n",
    "        missing = required - set(df.columns)\n",
    "        if missing:\n",
    "            raise ValueError(f\"Missing interval columns: {missing}\")\n",
    "        df[\"plot_label\"] = df.apply(lambda r: f\"({r['interval_type']}, {r['interval_name']})\", axis=1)\n",
    "\n",
    "    elif \"w2_sequences\" in s:\n",
    "        # Sequences: pattern + frequency (frequency may be long -> cast to str)\n",
    "        if \"pattern\" not in df.columns or \"frequency\" not in df.columns:\n",
    "            raise ValueError(\"Expected 'pattern' and 'frequency' for w2_sequences.\")\n",
    "        df[\"plot_label\"] = df.apply(lambda r: f\"({r['pattern']}, {str(r['frequency'])})\", axis=1)\n",
    "\n",
    "    elif \"w2_vocalisations\" in s:\n",
    "        # Vocalisations: try a specific label if present; else (sound_type, frequency)\n",
    "        # Common columns you might have: 'sound_type', 'frequency', 'vocal_id', 'call_name'\n",
    "\n",
    "         df[\"plot_label\"] = df[\"frequency\"].astype(str)\n",
    "\n",
    "    elif \"w1\" in s and not has_intervals :\n",
    "        # Default (w1_* sessions): (frequency, sound_type)\n",
    "        if \"frequency\" not in df.columns or \"sound_type\" not in df.columns:\n",
    "            raise ValueError(\"Expected 'frequency' and 'sound_type' columns.\")\n",
    "        df[\"plot_label\"] = df.apply(lambda r: f\"({r['frequency']}, {r['sound_type']})\", axis=1)\n",
    "\n",
    "    # --- color map based on unique labels (stable) ---\n",
    "    labels = sorted(df[\"plot_label\"].astype(str).unique(), key=str)\n",
    "    cmap = plt.get_cmap(\"tab20\")\n",
    "    label_to_color = {lab: cmap(i % cmap.N) for i, lab in enumerate(labels)}\n",
    "\n",
    "    # --- 3x3 grid of trials (1..9) ---\n",
    "    trial_ids = sorted(df[\"trial_ID\"].unique())[:9]\n",
    "    fig, axes = plt.subplots(3, 3, figsize=(16, 12), sharey=True)\n",
    "    axes = axes.ravel()\n",
    "\n",
    "    custom_titles = [\n",
    "    \"Habituation\",\n",
    "    \"Sound Trial\",\n",
    "    \"Silent Trial\",\n",
    "    \"Sound Trial\",\n",
    "    \"Silent Trial\",\n",
    "    \"Sound Trial\",\n",
    "    \"Silent Trial\",\n",
    "    \"Sound Trial\",\n",
    "    \"Silent Trial\"]\n",
    "\n",
    "\n",
    "    for idx in range(9):\n",
    "        ax = axes[idx]\n",
    "        if idx < len(trial_ids):\n",
    "            tid = trial_ids[idx]\n",
    "            sub = df[df[\"trial_ID\"] == tid].sort_values(\"ROIs\")\n",
    "            y = sub[metric_name].astype(float).values\n",
    "            x = np.arange(len(sub))\n",
    "            colors = [label_to_color[t] for t in sub[\"plot_label\"].astype(str)]\n",
    "\n",
    "            bars = ax.bar(x, y, color=colors, edgecolor=\"black\", linewidth=0.5)\n",
    "            ax.set_xticks(x)\n",
    "            ax.set_xticklabels(sub[\"ROIs\"], rotation=45, ha=\"right\")\n",
    "            ax.set_title(custom_titles[idx])\n",
    "\n",
    "            # Annotate bar tops with shortened label\n",
    "            for rect, label in zip(bars, sub[\"plot_label\"].astype(str)):\n",
    "                short_label = textwrap.shorten(label, width=26, placeholder=\"…\")\n",
    "                ax.annotate(short_label,\n",
    "                            (rect.get_x() + rect.get_width()/2, rect.get_height()),\n",
    "                            ha=\"center\", va=\"bottom\", fontsize=7, rotation=90,\n",
    "                            xytext=(0, 2), textcoords=\"offset points\")\n",
    "        else:\n",
    "            ax.set_title(f\"Trial {tid}\")\n",
    "\n",
    "    # Titles and legend\n",
    "    fig.supylabel(ylab)\n",
    "    fig.suptitle(f\"Time in ROI by trial — {CSV_FILE[-46 : - 36]} / {CSV_FILE[81:86]}\", y=0.98)\n",
    "\n",
    "    handles = [plt.Rectangle((0, 0), 1, 1, color=label_to_color[t]) for t in labels]\n",
    "    leg_labels = [textwrap.shorten(str(t), width=40, placeholder=\"…\") for t in labels]\n",
    "    fig.legend(handles, leg_labels, loc=\"center left\", bbox_to_anchor=(1.02, 0.5),\n",
    "               title=\"Condition label\", frameon=False)\n",
    "\n",
    "    fig.tight_layout(rect=[0.02, 0.06, 0.85, 0.95])\n",
    "\n",
    "    if SAVE_FIG:\n",
    "        out = p.parent / f\"{CSV_FILE[-46 : - 36]}_{CSV_FILE[81:86]}_trial_grid.png\"\n",
    "        fig.savefig(out, dpi=FIG_DPI)\n",
    "        print(f\"Saved: {out}\")\n",
    "\n",
    "    plt.show()\n",
    "\n",
    "\n"
   ]
  },
  {
   "cell_type": "code",
   "execution_count": null,
   "id": "5463bfa1",
   "metadata": {},
   "outputs": [
    {
     "name": "stdout",
     "output_type": "stream",
     "text": [
      "C:/Users/aleja/Box/Awake Project/Maze data/Auditory experiments/8_arms_w_voc (1)/w1_d1/time_2025-06-04_14_22_30mouse10049/trials_time_2025-06-04_14_22_30.csv\n"
     ]
    }
   ],
   "source": [
    "print(trials_csvs[0])\n"
   ]
  },
  {
   "cell_type": "markdown",
   "id": "c0585a34",
   "metadata": {},
   "source": [
    "below is the function `make_summary_csv` that extrapolates the relevant features from the trial csvs for the purpose of visualisation"
   ]
  },
  {
   "cell_type": "code",
   "execution_count": 78,
   "id": "d6b2ea38",
   "metadata": {},
   "outputs": [
    {
     "name": "stdout",
     "output_type": "stream",
     "text": [
      "C:/Users/aleja/Box/Awake Project/Maze data/Auditory experiments/8_arms_w_voc (1)/w1_d1/time_2025-06-04_14_22_30mouse10049/trials_time_2025-06-04_14_22_30.csv\n",
      "Index(['trial_ID', 'ROIs', 'frequency', 'sound_type', 'temporal_modulation',\n",
      "       'time_spent', 'visitation_count', 'time_in_maze_ms',\n",
      "       'total_time_trial_s', 'time_spent_s', 'time_in_maze_s',\n",
      "       'time_in_maze/total_trial_time(%)', 'time_in_roi/time_in_maze(%)'],\n",
      "      dtype='object')\n",
      "C:/Users/aleja/Box/Awake Project/Maze data/Auditory experiments/8_arms_w_voc (1)/w1_d1/time_2025-06-04_16_26_19mouse10050/trials_time_2025-06-04_16_26_19.csv\n",
      "Index(['trial_ID', 'ROIs', 'frequency', 'sound_type', 'temporal_modulation',\n",
      "       'time_spent', 'visitation_count', 'total_time_trial_s'],\n",
      "      dtype='object')\n",
      "C:/Users/aleja/Box/Awake Project/Maze data/Auditory experiments/8_arms_w_voc (1)/w1_d1/time_2025-06-04_18_41_58mouse10154/trials_time_2025-06-04_18_41_58.csv\n",
      "Index(['trial_ID', 'ROIs', 'frequency', 'sound_type', 'temporal_modulation',\n",
      "       'time_spent', 'visitation_count', 'total_time_trial_s'],\n",
      "      dtype='object')\n",
      "C:/Users/aleja/Box/Awake Project/Maze data/Auditory experiments/8_arms_w_voc (1)/w1_d1/time_2025-06-16_12_15_21mouse10529/trials_time_2025-06-16_12_15_21.csv\n",
      "Index(['trial_ID', 'ROIs', 'frequency', 'sound_type', 'temporal_modulation',\n",
      "       'time_spent', 'visitation_count', 'time_in_maze_ms',\n",
      "       'total_time_trial_s', 'time_spent_s', 'time_in_maze_s',\n",
      "       'time_in_maze/total_trial_time(%)', 'time_in_roi/time_in_maze(%)'],\n",
      "      dtype='object')\n",
      "C:/Users/aleja/Box/Awake Project/Maze data/Auditory experiments/8_arms_w_voc (1)/w1_d1/time_2025-06-16_14_43_53mouse10530/trials_time_2025-06-16_14_43_53.csv\n",
      "Index(['trial_ID', 'ROIs', 'frequency', 'sound_type', 'temporal_modulation',\n",
      "       'time_spent', 'visitation_count', 'time_in_maze_ms',\n",
      "       'total_time_trial_s', 'time_spent_s', 'time_in_maze_s',\n",
      "       'time_in_maze/total_trial_time(%)', 'time_in_roi/time_in_maze(%)'],\n",
      "      dtype='object')\n",
      "C:/Users/aleja/Box/Awake Project/Maze data/Auditory experiments/8_arms_w_voc (1)/w1_d1/time_2025-06-16_16_52_29mouse10538/trials_time_2025-06-16_16_52_29.csv\n",
      "Index(['trial_ID', 'ROIs', 'frequency', 'sound_type', 'temporal_modulation',\n",
      "       'time_spent', 'visitation_count', 'time_in_maze_ms',\n",
      "       'total_time_trial_s', 'time_spent_s', 'time_in_maze_s',\n",
      "       'time_in_maze/total_trial_time(%)', 'time_in_roi/time_in_maze(%)'],\n",
      "      dtype='object')\n",
      "C:/Users/aleja/Box/Awake Project/Maze data/Auditory experiments/8_arms_w_voc (1)/w1_d1/time_2025-06-27_11_22_49mouse10052/trials_time_2025-06-27_11_22_49.csv\n",
      "Index(['trial_ID', 'ROIs', 'frequency', 'sound_type', 'temporal_modulation',\n",
      "       'time_spent', 'visitation_count', 'total_time_trial_s'],\n",
      "      dtype='object')\n",
      "C:/Users/aleja/Box/Awake Project/Maze data/Auditory experiments/8_arms_w_voc (1)/w1_d1/time_2025-06-27_13_09_02mouse10155/trials_time_2025-06-27_13_09_02.csv\n",
      "Index(['trial_ID', 'ROIs', 'frequency', 'sound_type', 'temporal_modulation',\n",
      "       'time_spent', 'visitation_count', 'time_in_maze_ms',\n",
      "       'total_time_trial_s', 'time_spent_s', 'time_in_maze_s',\n",
      "       'time_in_maze/total_trial_time(%)', 'time_in_roi/time_in_maze(%)'],\n",
      "      dtype='object')\n",
      "C:/Users/aleja/Box/Awake Project/Maze data/Auditory experiments/8_arms_w_voc (1)/w1_d1/time_2025-06-27_15_23_07mouse10516/trials_time_2025-06-27_15_23_07.csv\n",
      "Index(['trial_ID', 'ROIs', 'frequency', 'sound_type', 'temporal_modulation',\n",
      "       'time_spent', 'visitation_count', 'total_time_trial_s'],\n",
      "      dtype='object')\n",
      "C:/Users/aleja/Box/Awake Project/Maze data/Auditory experiments/8_arms_w_voc (1)/w1_d2/time_2025-06-05_15_23_23mouse10154/trials_time_2025-06-05_15_23_23.csv\n",
      "Index(['trial_ID', 'ROIs', 'frequency', 'interval_type', 'interval_ratio',\n",
      "       'interval_name', 'time_spent', 'visitation_count',\n",
      "       'total_time_trial_s'],\n",
      "      dtype='object')\n",
      "C:/Users/aleja/Box/Awake Project/Maze data/Auditory experiments/8_arms_w_voc (1)/w1_d2/time_2025-06-05_16_25_17mouse10050/trials_time_2025-06-05_16_25_17.csv\n",
      "Index(['trial_ID', 'ROIs', 'frequency', 'interval_type', 'interval_ratio',\n",
      "       'interval_name', 'time_spent', 'visitation_count', 'time_in_maze_ms',\n",
      "       'total_time_trial_s', 'time_spent_s', 'time_in_maze_s',\n",
      "       'time_in_maze/total_trial_time(%)', 'time_in_roi/time_in_maze(%)'],\n",
      "      dtype='object')\n",
      "C:/Users/aleja/Box/Awake Project/Maze data/Auditory experiments/8_arms_w_voc (1)/w1_d2/time_2025-06-05_18_31_38mouse10049/trials_time_2025-06-05_18_31_38.csv\n",
      "Index(['trial_ID', 'ROIs', 'frequency', 'interval_type', 'interval_ratio',\n",
      "       'interval_name', 'time_spent', 'visitation_count', 'time_in_maze_ms',\n",
      "       'total_time_trial_s', 'time_spent_s', 'time_in_maze_s',\n",
      "       'time_in_maze/total_trial_time(%)', 'time_in_roi/time_in_maze(%)'],\n",
      "      dtype='object')\n",
      "C:/Users/aleja/Box/Awake Project/Maze data/Auditory experiments/8_arms_w_voc (1)/w1_d2/time_2025-06-18_12_16_51mouse10529/trials_time_2025-06-18_12_16_51.csv\n",
      "Index(['trial_ID', 'ROIs', 'frequency', 'interval_type', 'interval_ratio',\n",
      "       'interval_name', 'time_spent', 'visitation_count', 'time_in_maze_ms',\n",
      "       'total_time_trial_s', 'time_spent_s', 'time_in_maze_s',\n",
      "       'time_in_maze/total_trial_time(%)', 'time_in_roi/time_in_maze(%)'],\n",
      "      dtype='object')\n",
      "C:/Users/aleja/Box/Awake Project/Maze data/Auditory experiments/8_arms_w_voc (1)/w1_d2/time_2025-06-18_14_53_51mouse10530/trials_time_2025-06-18_14_53_51.csv\n",
      "Index(['trial_ID', 'ROIs', 'frequency', 'interval_type', 'interval_ratio',\n",
      "       'interval_name', 'time_spent', 'visitation_count', 'time_in_maze_ms',\n",
      "       'total_time_trial_s', 'time_spent_s', 'time_in_maze_s',\n",
      "       'time_in_maze/total_trial_time(%)', 'time_in_roi/time_in_maze(%)'],\n",
      "      dtype='object')\n",
      "C:/Users/aleja/Box/Awake Project/Maze data/Auditory experiments/8_arms_w_voc (1)/w1_d2/time_2025-06-18_16_51_59mouse10538/trials_time_2025-06-18_16_51_59.csv\n",
      "Index(['trial_ID', 'ROIs', 'frequency', 'interval_type', 'interval_ratio',\n",
      "       'interval_name', 'time_spent', 'visitation_count', 'time_in_maze_ms',\n",
      "       'total_time_trial_s', 'time_spent_s', 'time_in_maze_s',\n",
      "       'time_in_maze/total_trial_time(%)', 'time_in_roi/time_in_maze(%)'],\n",
      "      dtype='object')\n",
      "C:/Users/aleja/Box/Awake Project/Maze data/Auditory experiments/8_arms_w_voc (1)/w1_d2/time_2025-06-30_11_18_45mouse10155/trials_time_2025-06-30_11_18_45.csv\n",
      "Index(['trial_ID', 'ROIs', 'frequency', 'interval_type', 'interval_ratio',\n",
      "       'interval_name', 'time_spent', 'visitation_count', 'time_in_maze_ms',\n",
      "       'total_time_trial_s', 'time_spent_s', 'time_in_maze_s',\n",
      "       'time_in_maze/total_trial_time(%)', 'time_in_roi/time_in_maze(%)'],\n",
      "      dtype='object')\n",
      "C:/Users/aleja/Box/Awake Project/Maze data/Auditory experiments/8_arms_w_voc (1)/w1_d2/time_2025-06-30_13_33_20mouse10517/trials_time_2025-06-30_13_33_20.csv\n",
      "Index(['trial_ID', 'ROIs', 'frequency', 'interval_type', 'interval_ratio',\n",
      "       'interval_name', 'time_spent', 'visitation_count',\n",
      "       'total_time_trial_s'],\n",
      "      dtype='object')\n",
      "C:/Users/aleja/Box/Awake Project/Maze data/Auditory experiments/8_arms_w_voc (1)/w1_d2/time_2025-06-30_15_44_01mouse10516/trials_time_2025-06-30_15_44_01.csv\n",
      "Index(['trial_ID', 'ROIs', 'frequency', 'interval_type', 'interval_ratio',\n",
      "       'interval_name', 'time_spent', 'visitation_count', 'time_in_maze_ms',\n",
      "       'total_time_trial_s', 'time_spent_s', 'time_in_maze_s',\n",
      "       'time_in_maze/total_trial_time(%)', 'time_in_roi/time_in_maze(%)'],\n",
      "      dtype='object')\n",
      "C:/Users/aleja/Box/Awake Project/Maze data/Auditory experiments/8_arms_w_voc (1)/w1_d3/time_2025-06-06_12_36_07mouse10049/trials_time_2025-06-06_12_36_07.csv\n",
      "Index(['trial_ID', 'ROIs', 'frequency', 'interval_type', 'interval_ratio',\n",
      "       'interval_name', 'time_spent', 'visitation_count', 'time_in_maze_ms',\n",
      "       'total_time_trial_s', 'time_spent_s', 'time_in_maze_s',\n",
      "       'time_in_maze/total_trial_time(%)', 'time_in_roi/time_in_maze(%)'],\n",
      "      dtype='object')\n",
      "C:/Users/aleja/Box/Awake Project/Maze data/Auditory experiments/8_arms_w_voc (1)/w1_d3/time_2025-06-06_14_39_36mouse10050/trials_time_2025-06-06_14_39_36.csv\n",
      "Index(['trial_ID', 'ROIs', 'frequency', 'interval_type', 'interval_ratio',\n",
      "       'interval_name', 'time_spent', 'visitation_count', 'time_in_maze_ms',\n",
      "       'total_time_trial_s', 'time_spent_s', 'time_in_maze_s',\n",
      "       'time_in_maze/total_trial_time(%)', 'time_in_roi/time_in_maze(%)'],\n",
      "      dtype='object')\n",
      "C:/Users/aleja/Box/Awake Project/Maze data/Auditory experiments/8_arms_w_voc (1)/w1_d3/time_2025-06-19_11_56_12mouse10529/trials_time_2025-06-19_11_56_12.csv\n",
      "Index(['trial_ID', 'ROIs', 'frequency', 'interval_type', 'interval_ratio',\n",
      "       'interval_name', 'time_spent', 'visitation_count', 'time_in_maze_ms',\n",
      "       'total_time_trial_s', 'time_spent_s', 'time_in_maze_s',\n",
      "       'time_in_maze/total_trial_time(%)', 'time_in_roi/time_in_maze(%)'],\n",
      "      dtype='object')\n",
      "C:/Users/aleja/Box/Awake Project/Maze data/Auditory experiments/8_arms_w_voc (1)/w1_d3/time_2025-06-19_13_57_30mouse10530/trials_time_2025-06-19_13_57_30.csv\n",
      "Index(['trial_ID', 'ROIs', 'frequency', 'interval_type', 'interval_ratio',\n",
      "       'interval_name', 'time_spent', 'visitation_count', 'time_in_maze_ms',\n",
      "       'total_time_trial_s', 'time_spent_s', 'time_in_maze_s',\n",
      "       'time_in_maze/total_trial_time(%)', 'time_in_roi/time_in_maze(%)'],\n",
      "      dtype='object')\n",
      "C:/Users/aleja/Box/Awake Project/Maze data/Auditory experiments/8_arms_w_voc (1)/w1_d3/time_2025-06-19_15_54_36mouse10538/trials_time_2025-06-19_15_54_36.csv\n",
      "Index(['trial_ID', 'ROIs', 'frequency', 'interval_type', 'interval_ratio',\n",
      "       'interval_name', 'time_spent', 'visitation_count',\n",
      "       'total_time_trial_s'],\n",
      "      dtype='object')\n",
      "C:/Users/aleja/Box/Awake Project/Maze data/Auditory experiments/8_arms_w_voc (1)/w1_d3/time_2025-07-01_12_45_57mouse10516/trials_time_2025-07-01_12_45_57.csv\n",
      "Index(['trial_ID', 'ROIs', 'frequency', 'interval_type', 'interval_ratio',\n",
      "       'interval_name', 'time_spent', 'visitation_count',\n",
      "       'total_time_trial_s'],\n",
      "      dtype='object')\n",
      "C:/Users/aleja/Box/Awake Project/Maze data/Auditory experiments/8_arms_w_voc (1)/w1_d3/time_2025-07-01_14_59_09mouse10155/trials_time_2025-07-01_14_59_09.csv\n",
      "Index(['trial_ID', 'ROIs', 'frequency', 'interval_type', 'interval_ratio',\n",
      "       'interval_name', 'time_spent', 'visitation_count', 'time_in_maze_ms',\n",
      "       'total_time_trial_s', 'time_spent_s', 'time_in_maze_s',\n",
      "       'time_in_maze/total_trial_time(%)', 'time_in_roi/time_in_maze(%)'],\n",
      "      dtype='object')\n",
      "C:/Users/aleja/Box/Awake Project/Maze data/Auditory experiments/8_arms_w_voc (1)/w1_d4/time_2025-06-09_11_52_39mouse10049/trials_time_2025-06-09_11_52_39.csv\n",
      "Index(['trial_ID', 'ROIs', 'frequency', 'interval_type', 'interval_ratio',\n",
      "       'interval_name', 'time_spent', 'visitation_count', 'time_in_maze_ms',\n",
      "       'total_time_trial_s', 'time_spent_s', 'time_in_maze_s',\n",
      "       'time_in_maze/total_trial_time(%)', 'time_in_roi/time_in_maze(%)'],\n",
      "      dtype='object')\n",
      "C:/Users/aleja/Box/Awake Project/Maze data/Auditory experiments/8_arms_w_voc (1)/w1_d4/time_2025-06-09_14_29_25mouse10050/trials_time_2025-06-09_14_29_25.csv\n",
      "Index(['trial_ID', 'ROIs', 'frequency', 'interval_type', 'interval_ratio',\n",
      "       'interval_name', 'time_spent', 'visitation_count', 'time_in_maze_ms',\n",
      "       'total_time_trial_s', 'time_spent_s', 'time_in_maze_s',\n",
      "       'time_in_maze/total_trial_time(%)', 'time_in_roi/time_in_maze(%)'],\n",
      "      dtype='object')\n",
      "C:/Users/aleja/Box/Awake Project/Maze data/Auditory experiments/8_arms_w_voc (1)/w1_d4/time_2025-06-20_11_04_28mouse10529/trials_time_2025-06-20_11_04_28.csv\n",
      "Index(['trial_ID', 'ROIs', 'frequency', 'interval_type', 'interval_ratio',\n",
      "       'interval_name', 'time_spent', 'visitation_count', 'time_in_maze_ms',\n",
      "       'total_time_trial_s', 'time_spent_s', 'time_in_maze_s',\n",
      "       'time_in_maze/total_trial_time(%)', 'time_in_roi/time_in_maze(%)'],\n",
      "      dtype='object')\n",
      "C:/Users/aleja/Box/Awake Project/Maze data/Auditory experiments/8_arms_w_voc (1)/w1_d4/time_2025-06-20_13_02_44mouse10530/trials_time_2025-06-20_13_02_44.csv\n",
      "Index(['trial_ID', 'ROIs', 'frequency', 'interval_type', 'interval_ratio',\n",
      "       'interval_name', 'time_spent', 'visitation_count', 'time_in_maze_ms',\n",
      "       'total_time_trial_s', 'time_spent_s', 'time_in_maze_s',\n",
      "       'time_in_maze/total_trial_time(%)', 'time_in_roi/time_in_maze(%)'],\n",
      "      dtype='object')\n",
      "C:/Users/aleja/Box/Awake Project/Maze data/Auditory experiments/8_arms_w_voc (1)/w1_d4/time_2025-06-20_14_58_41mouse10538/trials_time_2025-06-20_14_58_41.csv\n",
      "Index(['trial_ID', 'ROIs', 'frequency', 'interval_type', 'interval_ratio',\n",
      "       'interval_name', 'time_spent', 'visitation_count', 'time_in_maze_ms',\n",
      "       'total_time_trial_s', 'time_spent_s', 'time_in_maze_s',\n",
      "       'time_in_maze/total_trial_time(%)', 'time_in_roi/time_in_maze(%)'],\n",
      "      dtype='object')\n",
      "C:/Users/aleja/Box/Awake Project/Maze data/Auditory experiments/8_arms_w_voc (1)/w2_sequences/time_2025-06-13_15_43_47mouseMOUSE10049/trials_time_2025-06-13_15_43_47.csv\n",
      "Index(['trial_ID', 'ROIs', 'pattern', 'frequency', 'time_spent',\n",
      "       'visitation_count', 'time_in_maze_ms', 'total_time_trial_s',\n",
      "       'time_spent_s', 'time_in_maze_s', 'time_in_maze/total_trial_time(%)',\n",
      "       'time_in_roi/time_in_maze(%)'],\n",
      "      dtype='object')\n",
      "C:/Users/aleja/Box/Awake Project/Maze data/Auditory experiments/8_arms_w_voc (1)/w2_sequences/time_2025-06-24_11_36_54mouse10529/trials_time_2025-06-24_11_36_54.csv\n",
      "Index(['trial_ID', 'ROIs', 'pattern', 'frequency', 'time_spent',\n",
      "       'visitation_count', 'time_in_maze_ms', 'total_time_trial_s',\n",
      "       'time_spent_s', 'time_in_maze_s', 'time_in_maze/total_trial_time(%)',\n",
      "       'time_in_roi/time_in_maze(%)'],\n",
      "      dtype='object')\n",
      "C:/Users/aleja/Box/Awake Project/Maze data/Auditory experiments/8_arms_w_voc (1)/w2_sequences/time_2025-06-24_13_33_34mouse10530/trials_time_2025-06-24_13_33_34.csv\n",
      "Index(['trial_ID', 'ROIs', 'pattern', 'frequency', 'time_spent',\n",
      "       'visitation_count', 'time_in_maze_ms', 'total_time_trial_s',\n",
      "       'time_spent_s', 'time_in_maze_s', 'time_in_maze/total_trial_time(%)',\n",
      "       'time_in_roi/time_in_maze(%)'],\n",
      "      dtype='object')\n",
      "C:/Users/aleja/Box/Awake Project/Maze data/Auditory experiments/8_arms_w_voc (1)/w2_sequences/time_2025-06-24_15_27_00mouse10538/trials_time_2025-06-24_15_27_00.csv\n",
      "Index(['trial_ID', 'ROIs', 'pattern', 'frequency', 'time_spent',\n",
      "       'visitation_count', 'time_in_maze_ms', 'total_time_trial_s',\n",
      "       'time_spent_s', 'time_in_maze_s', 'time_in_maze/total_trial_time(%)',\n",
      "       'time_in_roi/time_in_maze(%)'],\n",
      "      dtype='object')\n",
      "C:/Users/aleja/Box/Awake Project/Maze data/Auditory experiments/8_arms_w_voc (1)/w2_vocalisations/time_2025-06-12_14_58_14mouse10049/trials_time_2025-06-12_14_58_14.csv\n",
      "Index(['trial_ID', 'ROIs', 'frequency', 'interval_type', 'interval_ratio',\n",
      "       'interval_name', 'time_spent', 'visitation_count',\n",
      "       'total_time_trial_s'],\n",
      "      dtype='object')\n",
      "C:/Users/aleja/Box/Awake Project/Maze data/Auditory experiments/8_arms_w_voc (1)/w2_vocalisations/time_2025-06-23_12_36_27mouse10529/trials_time_2025-06-23_12_36_27.csv\n",
      "Index(['trial_ID', 'ROIs', 'frequency', 'interval_type', 'interval_ratio',\n",
      "       'interval_name', 'time_spent', 'visitation_count', 'time_in_maze_ms',\n",
      "       'total_time_trial_s', 'time_spent_s', 'time_in_maze_s',\n",
      "       'time_in_maze/total_trial_time(%)', 'time_in_roi/time_in_maze(%)'],\n",
      "      dtype='object')\n",
      "C:/Users/aleja/Box/Awake Project/Maze data/Auditory experiments/8_arms_w_voc (1)/w2_vocalisations/time_2025-06-23_14_32_26mouse10530/trials_time_2025-06-23_14_32_26.csv\n",
      "Index(['trial_ID', 'ROIs', 'frequency', 'interval_type', 'interval_ratio',\n",
      "       'interval_name', 'time_spent', 'visitation_count', 'time_in_maze_ms',\n",
      "       'total_time_trial_s', 'time_spent_s', 'time_in_maze_s',\n",
      "       'time_in_maze/total_trial_time(%)', 'time_in_roi/time_in_maze(%)'],\n",
      "      dtype='object')\n",
      "C:/Users/aleja/Box/Awake Project/Maze data/Auditory experiments/8_arms_w_voc (1)/w2_vocalisations/time_2025-06-23_16_25_57mouse10538/trials_time_2025-06-23_16_25_57.csv\n",
      "Index(['trial_ID', 'ROIs', 'frequency', 'interval_type', 'interval_ratio',\n",
      "       'interval_name', 'time_spent', 'visitation_count', 'time_in_maze_ms',\n",
      "       'total_time_trial_s', 'time_spent_s', 'time_in_maze_s',\n",
      "       'time_in_maze/total_trial_time(%)', 'time_in_roi/time_in_maze(%)'],\n",
      "      dtype='object')\n"
     ]
    }
   ],
   "source": [
    "# CSV_FILE = trials_csvs[32]\n",
    "\n",
    "def make_summary_csv(CSV_FILE):\n",
    "\n",
    "    # open csv in dataframe\n",
    "    df = pd.read_csv(CSV_FILE)\n",
    "\n",
    "    # replace trial 1 with habituation in the 3rd column, whether it's frequency or interval or pattern\n",
    "    df.loc[df[\"trial_ID\"] == 1, df.columns[2]] = \"habituation\"\n",
    "\n",
    "    print(CSV_FILE)\n",
    "    print(df.columns)\n",
    "\n",
    "    # fill the NaN with 0s\n",
    "    df.fillna(0, inplace=True)\n",
    "\n",
    "    # check that there are interval columns \n",
    "    hasinterval = (\"interval_type\" in df.columns) and (\"interval_name\" in df.columns)\n",
    "\n",
    "    # set up new column based on the tuple of the important issue\n",
    "    if \"w1_d1\" in CSV_FILE:\n",
    "        df[\"tuplol\"] = df.apply(lambda r: f\"({r['frequency']}, {r['sound_type']})\", axis=1)\n",
    "\n",
    "    elif \"w1\" in CSV_FILE and hasinterval:\n",
    "        df[\"tuplol\"] = df.apply(lambda r: f\"({r['frequency']}, {r['interval_name']})\", axis=1)\n",
    "\n",
    "    elif \"w2_sequences\" in CSV_FILE: \n",
    "        df[\"tuplol\"] = df.apply(lambda r: f\"({r['pattern']}, {str(r['frequency'])[:27]})\", axis=1)\n",
    "\n",
    "    elif \"w2_vocalisations\" in CSV_FILE: \n",
    "        df[\"tuplol\"] = df[\"frequency\"]\n",
    "\n",
    "    # ROI time summary\n",
    "    df_roi = (\n",
    "        df.groupby(\"tuplol\")[\"time_spent\"]\n",
    "        .agg(avg_time_spent_roi_ms=\"mean\", sd_time_spent_roi_ms=\"std\", total_time_spent_roi_ms=\"sum\")\n",
    "        .reset_index()\n",
    "    )\n",
    "\n",
    "    # trial length\n",
    "    df[\"trial_length_ms\"] = df[\"total_time_trial_s\"] * 1000\n",
    "    df_total_time_trial = (\n",
    "        df.groupby(\"tuplol\")\n",
    "        .agg(avg_trial_length_ms=(\"trial_length_ms\", \"mean\"))\n",
    "        .reset_index()\n",
    "    )\n",
    "\n",
    "    # time in maze summary in case we have gotten the time in the maze \n",
    "    if \"time_in_maze_ms\" in df.columns:\n",
    "        df_maze = (\n",
    "            df.groupby(\"tuplol\")[\"time_in_maze_ms\"]\n",
    "            .agg(avg_time_spent_maze_ms=\"mean\", sd_time_spent_maze_ms=\"std\", total_time_spent_in_maze = \"sum\")\n",
    "            .reset_index()\n",
    "        )\n",
    "        df2 = (\n",
    "            df_roi\n",
    "            .merge(df_maze, on=\"tuplol\", how=\"left\")\n",
    "            .merge(df_total_time_trial, on=\"tuplol\", how=\"left\")\n",
    "        )\n",
    "    else: \n",
    "        df2 = df_roi.merge(df_total_time_trial, on=\"tuplol\", how=\"left\")\n",
    "\n",
    "    # round numeric columns\n",
    "    df2 = df2.round(2)\n",
    "\n",
    "\n",
    "    name = f\"{CSV_FILE[:-35]}{CSV_FILE[-46:-36]}_{CSV_FILE[81:86]}_summary.csv\"\n",
    "    df2.to_csv(name, index=False)\n",
    "\n",
    "\n",
    "\n",
    "\n",
    "for i in trials_csvs:\n",
    "    make_summary_csv(i)\n"
   ]
  },
  {
   "cell_type": "markdown",
   "id": "5b0aa313",
   "metadata": {},
   "source": [
    "In this cell we will take the summary csvs data and compress it even further\n",
    "\n",
    "df = [\"mouse_ID\", \"session_ID\", \"time_in_maze_during_habituation\", \"time_in_sound_ROIs\"] where time in sound rois is just the sum of the time in rois excluding for the 0 \n",
    "\n",
    "tuple(\"mouse_ID\", \"session_ID\")"
   ]
  },
  {
   "cell_type": "code",
   "execution_count": 118,
   "id": "61250ada",
   "metadata": {},
   "outputs": [
    {
     "data": {
      "text/html": [
       "<div>\n",
       "<style scoped>\n",
       "    .dataframe tbody tr th:only-of-type {\n",
       "        vertical-align: middle;\n",
       "    }\n",
       "\n",
       "    .dataframe tbody tr th {\n",
       "        vertical-align: top;\n",
       "    }\n",
       "\n",
       "    .dataframe thead th {\n",
       "        text-align: right;\n",
       "    }\n",
       "</style>\n",
       "<table border=\"1\" class=\"dataframe\">\n",
       "  <thead>\n",
       "    <tr style=\"text-align: right;\">\n",
       "      <th></th>\n",
       "      <th>mouse_ID</th>\n",
       "      <th>session_ID</th>\n",
       "      <th>time_in_habituation_rois_ms</th>\n",
       "      <th>time_in_habituation_maze_ms</th>\n",
       "      <th>time_in_sound_rois_ms</th>\n",
       "      <th>time_in_silent_rois_ms</th>\n",
       "    </tr>\n",
       "  </thead>\n",
       "  <tbody>\n",
       "    <tr>\n",
       "      <th>0</th>\n",
       "      <td>mouse10049</td>\n",
       "      <td>w1_d1</td>\n",
       "      <td>236994.0</td>\n",
       "      <td>4481866.67</td>\n",
       "      <td>541529.0</td>\n",
       "      <td>153706.0</td>\n",
       "    </tr>\n",
       "    <tr>\n",
       "      <th>1</th>\n",
       "      <td>mouse10050</td>\n",
       "      <td>w1_d1</td>\n",
       "      <td>148239.0</td>\n",
       "      <td>NaN</td>\n",
       "      <td>169801.0</td>\n",
       "      <td>102296.0</td>\n",
       "    </tr>\n",
       "    <tr>\n",
       "      <th>2</th>\n",
       "      <td>mouse10154</td>\n",
       "      <td>w1_d1</td>\n",
       "      <td>129098.0</td>\n",
       "      <td>NaN</td>\n",
       "      <td>136352.0</td>\n",
       "      <td>11298.0</td>\n",
       "    </tr>\n",
       "    <tr>\n",
       "      <th>3</th>\n",
       "      <td>mouse10529</td>\n",
       "      <td>w1_d1</td>\n",
       "      <td>166063.0</td>\n",
       "      <td>3770933.33</td>\n",
       "      <td>286171.0</td>\n",
       "      <td>141535.0</td>\n",
       "    </tr>\n",
       "    <tr>\n",
       "      <th>4</th>\n",
       "      <td>mouse10530</td>\n",
       "      <td>w1_d1</td>\n",
       "      <td>91265.0</td>\n",
       "      <td>4637333.33</td>\n",
       "      <td>275381.0</td>\n",
       "      <td>62900.0</td>\n",
       "    </tr>\n",
       "    <tr>\n",
       "      <th>5</th>\n",
       "      <td>mouse10538</td>\n",
       "      <td>w1_d1</td>\n",
       "      <td>152615.0</td>\n",
       "      <td>4129333.33</td>\n",
       "      <td>361766.0</td>\n",
       "      <td>112648.0</td>\n",
       "    </tr>\n",
       "    <tr>\n",
       "      <th>6</th>\n",
       "      <td>mouse10052</td>\n",
       "      <td>w1_d1</td>\n",
       "      <td>235029.0</td>\n",
       "      <td>NaN</td>\n",
       "      <td>305453.0</td>\n",
       "      <td>8054.0</td>\n",
       "    </tr>\n",
       "    <tr>\n",
       "      <th>7</th>\n",
       "      <td>mouse10155</td>\n",
       "      <td>w1_d1</td>\n",
       "      <td>180182.0</td>\n",
       "      <td>4994400.00</td>\n",
       "      <td>222712.0</td>\n",
       "      <td>180797.0</td>\n",
       "    </tr>\n",
       "    <tr>\n",
       "      <th>8</th>\n",
       "      <td>mouse10516</td>\n",
       "      <td>w1_d1</td>\n",
       "      <td>127188.0</td>\n",
       "      <td>NaN</td>\n",
       "      <td>138696.0</td>\n",
       "      <td>11441.0</td>\n",
       "    </tr>\n",
       "    <tr>\n",
       "      <th>9</th>\n",
       "      <td>mouse10154</td>\n",
       "      <td>w1_d2</td>\n",
       "      <td>0.0</td>\n",
       "      <td>NaN</td>\n",
       "      <td>8127.0</td>\n",
       "      <td>12238.0</td>\n",
       "    </tr>\n",
       "    <tr>\n",
       "      <th>10</th>\n",
       "      <td>mouse10050</td>\n",
       "      <td>w1_d2</td>\n",
       "      <td>85063.0</td>\n",
       "      <td>2278400.00</td>\n",
       "      <td>87850.0</td>\n",
       "      <td>17498.0</td>\n",
       "    </tr>\n",
       "    <tr>\n",
       "      <th>11</th>\n",
       "      <td>mouse10049</td>\n",
       "      <td>w1_d2</td>\n",
       "      <td>112835.0</td>\n",
       "      <td>4116266.67</td>\n",
       "      <td>178529.0</td>\n",
       "      <td>68312.0</td>\n",
       "    </tr>\n",
       "    <tr>\n",
       "      <th>12</th>\n",
       "      <td>mouse10529</td>\n",
       "      <td>w1_d2</td>\n",
       "      <td>143399.0</td>\n",
       "      <td>2641333.33</td>\n",
       "      <td>506175.0</td>\n",
       "      <td>168083.0</td>\n",
       "    </tr>\n",
       "    <tr>\n",
       "      <th>13</th>\n",
       "      <td>mouse10530</td>\n",
       "      <td>w1_d2</td>\n",
       "      <td>55144.0</td>\n",
       "      <td>1980266.67</td>\n",
       "      <td>236407.0</td>\n",
       "      <td>75042.0</td>\n",
       "    </tr>\n",
       "    <tr>\n",
       "      <th>14</th>\n",
       "      <td>mouse10538</td>\n",
       "      <td>w1_d2</td>\n",
       "      <td>112307.0</td>\n",
       "      <td>2380266.67</td>\n",
       "      <td>326113.0</td>\n",
       "      <td>180908.0</td>\n",
       "    </tr>\n",
       "    <tr>\n",
       "      <th>15</th>\n",
       "      <td>mouse10155</td>\n",
       "      <td>w1_d2</td>\n",
       "      <td>96234.0</td>\n",
       "      <td>2891200.00</td>\n",
       "      <td>153874.0</td>\n",
       "      <td>110394.0</td>\n",
       "    </tr>\n",
       "    <tr>\n",
       "      <th>16</th>\n",
       "      <td>mouse10517</td>\n",
       "      <td>w1_d2</td>\n",
       "      <td>111195.0</td>\n",
       "      <td>NaN</td>\n",
       "      <td>119565.0</td>\n",
       "      <td>1800.0</td>\n",
       "    </tr>\n",
       "    <tr>\n",
       "      <th>17</th>\n",
       "      <td>mouse10516</td>\n",
       "      <td>w1_d2</td>\n",
       "      <td>121333.0</td>\n",
       "      <td>2994933.33</td>\n",
       "      <td>127403.0</td>\n",
       "      <td>9130.0</td>\n",
       "    </tr>\n",
       "    <tr>\n",
       "      <th>18</th>\n",
       "      <td>mouse10049</td>\n",
       "      <td>w1_d3</td>\n",
       "      <td>62555.0</td>\n",
       "      <td>1551200.00</td>\n",
       "      <td>448971.0</td>\n",
       "      <td>161960.0</td>\n",
       "    </tr>\n",
       "    <tr>\n",
       "      <th>19</th>\n",
       "      <td>mouse10050</td>\n",
       "      <td>w1_d3</td>\n",
       "      <td>4388.0</td>\n",
       "      <td>2758933.33</td>\n",
       "      <td>7812.0</td>\n",
       "      <td>6216.0</td>\n",
       "    </tr>\n",
       "    <tr>\n",
       "      <th>20</th>\n",
       "      <td>mouse10529</td>\n",
       "      <td>w1_d3</td>\n",
       "      <td>121654.0</td>\n",
       "      <td>2186666.67</td>\n",
       "      <td>196415.0</td>\n",
       "      <td>107747.0</td>\n",
       "    </tr>\n",
       "    <tr>\n",
       "      <th>21</th>\n",
       "      <td>mouse10530</td>\n",
       "      <td>w1_d3</td>\n",
       "      <td>175769.0</td>\n",
       "      <td>1991200.00</td>\n",
       "      <td>362720.0</td>\n",
       "      <td>87445.0</td>\n",
       "    </tr>\n",
       "    <tr>\n",
       "      <th>22</th>\n",
       "      <td>mouse10538</td>\n",
       "      <td>w1_d3</td>\n",
       "      <td>133294.0</td>\n",
       "      <td>NaN</td>\n",
       "      <td>402929.0</td>\n",
       "      <td>208339.0</td>\n",
       "    </tr>\n",
       "    <tr>\n",
       "      <th>23</th>\n",
       "      <td>mouse10516</td>\n",
       "      <td>w1_d3</td>\n",
       "      <td>59935.0</td>\n",
       "      <td>NaN</td>\n",
       "      <td>63266.0</td>\n",
       "      <td>8324.0</td>\n",
       "    </tr>\n",
       "    <tr>\n",
       "      <th>24</th>\n",
       "      <td>mouse10155</td>\n",
       "      <td>w1_d3</td>\n",
       "      <td>68817.0</td>\n",
       "      <td>2709333.33</td>\n",
       "      <td>326816.0</td>\n",
       "      <td>203291.0</td>\n",
       "    </tr>\n",
       "    <tr>\n",
       "      <th>25</th>\n",
       "      <td>mouse10049</td>\n",
       "      <td>w1_d4</td>\n",
       "      <td>86980.0</td>\n",
       "      <td>1615466.67</td>\n",
       "      <td>488829.0</td>\n",
       "      <td>60356.0</td>\n",
       "    </tr>\n",
       "    <tr>\n",
       "      <th>26</th>\n",
       "      <td>mouse10050</td>\n",
       "      <td>w1_d4</td>\n",
       "      <td>98720.0</td>\n",
       "      <td>814133.33</td>\n",
       "      <td>112476.0</td>\n",
       "      <td>15030.0</td>\n",
       "    </tr>\n",
       "    <tr>\n",
       "      <th>27</th>\n",
       "      <td>mouse10529</td>\n",
       "      <td>w1_d4</td>\n",
       "      <td>86772.0</td>\n",
       "      <td>1516533.33</td>\n",
       "      <td>126501.0</td>\n",
       "      <td>23228.0</td>\n",
       "    </tr>\n",
       "    <tr>\n",
       "      <th>28</th>\n",
       "      <td>mouse10530</td>\n",
       "      <td>w1_d4</td>\n",
       "      <td>245289.0</td>\n",
       "      <td>4830133.33</td>\n",
       "      <td>491098.0</td>\n",
       "      <td>86556.0</td>\n",
       "    </tr>\n",
       "    <tr>\n",
       "      <th>29</th>\n",
       "      <td>mouse10538</td>\n",
       "      <td>w1_d4</td>\n",
       "      <td>115840.0</td>\n",
       "      <td>2987466.67</td>\n",
       "      <td>268341.0</td>\n",
       "      <td>109477.0</td>\n",
       "    </tr>\n",
       "    <tr>\n",
       "      <th>30</th>\n",
       "      <td>MOUSE10049</td>\n",
       "      <td>w2_se</td>\n",
       "      <td>80752.0</td>\n",
       "      <td>1266133.33</td>\n",
       "      <td>650623.0</td>\n",
       "      <td>7871836.0</td>\n",
       "    </tr>\n",
       "    <tr>\n",
       "      <th>31</th>\n",
       "      <td>mouse10529</td>\n",
       "      <td>w2_se</td>\n",
       "      <td>45283.0</td>\n",
       "      <td>961066.67</td>\n",
       "      <td>90145.0</td>\n",
       "      <td>32711.0</td>\n",
       "    </tr>\n",
       "    <tr>\n",
       "      <th>32</th>\n",
       "      <td>mouse10530</td>\n",
       "      <td>w2_se</td>\n",
       "      <td>212694.0</td>\n",
       "      <td>4410400.00</td>\n",
       "      <td>307884.0</td>\n",
       "      <td>74901.0</td>\n",
       "    </tr>\n",
       "    <tr>\n",
       "      <th>33</th>\n",
       "      <td>mouse10538</td>\n",
       "      <td>w2_se</td>\n",
       "      <td>113042.0</td>\n",
       "      <td>5851466.67</td>\n",
       "      <td>185587.0</td>\n",
       "      <td>21028.0</td>\n",
       "    </tr>\n",
       "    <tr>\n",
       "      <th>34</th>\n",
       "      <td>mouse10049</td>\n",
       "      <td>w2_vo</td>\n",
       "      <td>54582.0</td>\n",
       "      <td>NaN</td>\n",
       "      <td>319091.0</td>\n",
       "      <td>125010.0</td>\n",
       "    </tr>\n",
       "    <tr>\n",
       "      <th>35</th>\n",
       "      <td>mouse10529</td>\n",
       "      <td>w2_vo</td>\n",
       "      <td>117757.0</td>\n",
       "      <td>4258666.67</td>\n",
       "      <td>329617.0</td>\n",
       "      <td>102368.0</td>\n",
       "    </tr>\n",
       "    <tr>\n",
       "      <th>36</th>\n",
       "      <td>mouse10530</td>\n",
       "      <td>w2_vo</td>\n",
       "      <td>210001.0</td>\n",
       "      <td>4658133.33</td>\n",
       "      <td>438114.0</td>\n",
       "      <td>79615.0</td>\n",
       "    </tr>\n",
       "    <tr>\n",
       "      <th>37</th>\n",
       "      <td>mouse10538</td>\n",
       "      <td>w2_vo</td>\n",
       "      <td>97589.0</td>\n",
       "      <td>4478400.00</td>\n",
       "      <td>328731.0</td>\n",
       "      <td>107149.0</td>\n",
       "    </tr>\n",
       "  </tbody>\n",
       "</table>\n",
       "</div>"
      ],
      "text/plain": [
       "      mouse_ID session_ID  time_in_habituation_rois_ms  \\\n",
       "0   mouse10049      w1_d1                     236994.0   \n",
       "1   mouse10050      w1_d1                     148239.0   \n",
       "2   mouse10154      w1_d1                     129098.0   \n",
       "3   mouse10529      w1_d1                     166063.0   \n",
       "4   mouse10530      w1_d1                      91265.0   \n",
       "5   mouse10538      w1_d1                     152615.0   \n",
       "6   mouse10052      w1_d1                     235029.0   \n",
       "7   mouse10155      w1_d1                     180182.0   \n",
       "8   mouse10516      w1_d1                     127188.0   \n",
       "9   mouse10154      w1_d2                          0.0   \n",
       "10  mouse10050      w1_d2                      85063.0   \n",
       "11  mouse10049      w1_d2                     112835.0   \n",
       "12  mouse10529      w1_d2                     143399.0   \n",
       "13  mouse10530      w1_d2                      55144.0   \n",
       "14  mouse10538      w1_d2                     112307.0   \n",
       "15  mouse10155      w1_d2                      96234.0   \n",
       "16  mouse10517      w1_d2                     111195.0   \n",
       "17  mouse10516      w1_d2                     121333.0   \n",
       "18  mouse10049      w1_d3                      62555.0   \n",
       "19  mouse10050      w1_d3                       4388.0   \n",
       "20  mouse10529      w1_d3                     121654.0   \n",
       "21  mouse10530      w1_d3                     175769.0   \n",
       "22  mouse10538      w1_d3                     133294.0   \n",
       "23  mouse10516      w1_d3                      59935.0   \n",
       "24  mouse10155      w1_d3                      68817.0   \n",
       "25  mouse10049      w1_d4                      86980.0   \n",
       "26  mouse10050      w1_d4                      98720.0   \n",
       "27  mouse10529      w1_d4                      86772.0   \n",
       "28  mouse10530      w1_d4                     245289.0   \n",
       "29  mouse10538      w1_d4                     115840.0   \n",
       "30  MOUSE10049      w2_se                      80752.0   \n",
       "31  mouse10529      w2_se                      45283.0   \n",
       "32  mouse10530      w2_se                     212694.0   \n",
       "33  mouse10538      w2_se                     113042.0   \n",
       "34  mouse10049      w2_vo                      54582.0   \n",
       "35  mouse10529      w2_vo                     117757.0   \n",
       "36  mouse10530      w2_vo                     210001.0   \n",
       "37  mouse10538      w2_vo                      97589.0   \n",
       "\n",
       "    time_in_habituation_maze_ms  time_in_sound_rois_ms  time_in_silent_rois_ms  \n",
       "0                    4481866.67               541529.0                153706.0  \n",
       "1                           NaN               169801.0                102296.0  \n",
       "2                           NaN               136352.0                 11298.0  \n",
       "3                    3770933.33               286171.0                141535.0  \n",
       "4                    4637333.33               275381.0                 62900.0  \n",
       "5                    4129333.33               361766.0                112648.0  \n",
       "6                           NaN               305453.0                  8054.0  \n",
       "7                    4994400.00               222712.0                180797.0  \n",
       "8                           NaN               138696.0                 11441.0  \n",
       "9                           NaN                 8127.0                 12238.0  \n",
       "10                   2278400.00                87850.0                 17498.0  \n",
       "11                   4116266.67               178529.0                 68312.0  \n",
       "12                   2641333.33               506175.0                168083.0  \n",
       "13                   1980266.67               236407.0                 75042.0  \n",
       "14                   2380266.67               326113.0                180908.0  \n",
       "15                   2891200.00               153874.0                110394.0  \n",
       "16                          NaN               119565.0                  1800.0  \n",
       "17                   2994933.33               127403.0                  9130.0  \n",
       "18                   1551200.00               448971.0                161960.0  \n",
       "19                   2758933.33                 7812.0                  6216.0  \n",
       "20                   2186666.67               196415.0                107747.0  \n",
       "21                   1991200.00               362720.0                 87445.0  \n",
       "22                          NaN               402929.0                208339.0  \n",
       "23                          NaN                63266.0                  8324.0  \n",
       "24                   2709333.33               326816.0                203291.0  \n",
       "25                   1615466.67               488829.0                 60356.0  \n",
       "26                    814133.33               112476.0                 15030.0  \n",
       "27                   1516533.33               126501.0                 23228.0  \n",
       "28                   4830133.33               491098.0                 86556.0  \n",
       "29                   2987466.67               268341.0                109477.0  \n",
       "30                   1266133.33               650623.0               7871836.0  \n",
       "31                    961066.67                90145.0                 32711.0  \n",
       "32                   4410400.00               307884.0                 74901.0  \n",
       "33                   5851466.67               185587.0                 21028.0  \n",
       "34                          NaN               319091.0                125010.0  \n",
       "35                   4258666.67               329617.0                102368.0  \n",
       "36                   4658133.33               438114.0                 79615.0  \n",
       "37                   4478400.00               328731.0                107149.0  "
      ]
     },
     "execution_count": 118,
     "metadata": {},
     "output_type": "execute_result"
    }
   ],
   "source": [
    "# quick function just to get the summary files_list\n",
    "\n",
    "def get_summary_files_list(main_dir):\n",
    "\n",
    "    summary_files_lst = []\n",
    "\n",
    "    for day in os.listdir(main_dir): \n",
    "        day_dir = main_dir + \"/\" + day\n",
    "\n",
    "        for mouse in os.listdir(day_dir):\n",
    "            mouse_dir = day_dir + \"/\" + mouse\n",
    "\n",
    "            for file in os.listdir(mouse_dir):\n",
    "\n",
    "                if \"summary.csv\" in file: \n",
    "\n",
    "                    summ_file = mouse_dir + \"/\" + file\n",
    "                    summary_files_lst.append(summ_file)\n",
    "\n",
    "    return summary_files_lst\n",
    "\n",
    "            \n",
    "\n",
    "# summary_files_lst = get_summary_files_list(main_dir)\n",
    "\n",
    "\n",
    "def compress_time_hab_sound(summary_files_list, main_dir):\n",
    "\n",
    "    # list of \"silent\" conditions to exclude\n",
    "    silent_keys = [\n",
    "        \"(0, silent_trial)\", \"(0, none)\", \"(0, 0)\",\n",
    "        \"(silence, [0, 0, 0, 0, 0, 0, 0, 0, 0,)\", \"0\", 0, \"(silent_arm, control)\"\n",
    "    ]\n",
    "\n",
    "    # collect rows here\n",
    "    rows = []\n",
    "\n",
    "    for f in summary_files_list:\n",
    "        df = pd.read_csv(f)\n",
    "\n",
    "        # parse mouse_ID and session_ID from filename\n",
    "        name = f[-28:]  # e.g. \"mouse10049_w1_d1_summary\"\n",
    "        parts = name.split(\"_\")\n",
    "        mouse_ID = parts[0]  # \"mouse10049\"\n",
    "        session_ID = \"_\".join(parts[1:-1])  # \"w1_d1\" or \"w2_vo\"\n",
    "\n",
    "        # time in habituation rois\n",
    "        habituation_time = df.loc[\n",
    "            df[\"tuplol\"].str.contains(\"habituation\", case=False, na=False),\n",
    "            \"total_time_spent_roi_ms\"\n",
    "        ].iloc[0]\n",
    "\n",
    "        if \"total_time_spent_in_maze\" in df.columns and \\\n",
    "        df[\"tuplol\"].str.contains(\"habituation\", case=False, na=False).any():\n",
    "            habituation_maze_time = df.loc[\n",
    "                df[\"tuplol\"].str.contains(\"habituation\", case=False, na=False),\n",
    "                \"total_time_spent_in_maze\"\n",
    "            ].iloc[0]\n",
    "        else:\n",
    "            habituation_maze_time = np.nan\n",
    "\n",
    "        # time in sound rois (exclude silent-like ones)\n",
    "        sound_time = df.loc[\n",
    "            ~df[\"tuplol\"].isin(silent_keys),\n",
    "            \"total_time_spent_roi_ms\"\n",
    "        ].sum()\n",
    "        \n",
    "        silent_time = df.loc[df[\"tuplol\"].isin(silent_keys), \"total_time_spent_roi_ms\"].sum()\n",
    "\n",
    "        rows.append({\n",
    "            \"mouse_ID\": mouse_ID,\n",
    "            \"session_ID\": session_ID,\n",
    "            \"time_in_habituation_rois_ms\": habituation_time,\n",
    "            \"time_in_habituation_maze_ms\": habituation_maze_time,\n",
    "            \"time_in_sound_rois_ms\": sound_time,\n",
    "            \"time_in_silent_rois_ms\": silent_time\n",
    "\n",
    "\n",
    "        })\n",
    "\n",
    "        # if \n",
    "\n",
    "    # build combined dataframe\n",
    "    summary_df = pd.DataFrame(rows)\n",
    "\n",
    "    print(summary_df.head())\n",
    "\n",
    "    # save\n",
    "    out = main_dir + \"/all_mice_summary.csv\"\n",
    "    summary_df.to_csv(out, index=False)\n",
    "    print(f\"Saved combined summary: {out}\")\n",
    "\n",
    "\n",
    "\n",
    "# compress_time_hab_sound(summary_files_lst, main_dir)\n",
    "\n",
    "for i in os.listdir(main_dir):\n",
    "    if \".csv\" in i: \n",
    "        df = pd.read_csv(main_dir + \"/\" + i)\n",
    "        \n",
    "df\n",
    "\n"
   ]
  },
  {
   "cell_type": "code",
   "execution_count": 123,
   "id": "c7730221",
   "metadata": {},
   "outputs": [
    {
     "data": {
      "image/png": "[encoded data removed]",
      "text/plain": [
       "<Figure size 800x600 with 1 Axes>"
      ]
     },
     "metadata": {},
     "output_type": "display_data"
    }
   ],
   "source": [
    "import pandas as pd\n",
    "import matplotlib.pyplot as plt\n",
    "\n",
    "# Load your combined summary file (replace with your filename if already saved)\n",
    "summary_df = pd.read_csv(main_dir+\"/all_mice_summary.csv\")\n",
    "\n",
    "plt.figure(figsize=(8, 6))\n",
    "\n",
    "# Scatter plot: each (mouse_ID, session_ID) is a point\n",
    "for sid, sub in summary_df.groupby(\"session_ID\"):\n",
    "    plt.scatter(\n",
    "        sub[\"time_in_habituation_rois_ms\"],\n",
    "        sub[\"time_in_sound_rois_ms\"],\n",
    "        label=sid,\n",
    "        alpha=0.7,\n",
    "        edgecolor=\"black\"\n",
    "    )\n",
    "\n",
    "# Labels and title\n",
    "plt.xlabel(\"Time in Habituation ROIs (ms)\")\n",
    "plt.ylabel(\"Time in Sound ROIs (ms)\")\n",
    "plt.title(\"Habituation vs Sound ROI Times per Mouse & Session\")\n",
    "\n",
    "# Legend on the side\n",
    "plt.legend(title=\"Session ID\", bbox_to_anchor=(1.05, 1), loc=\"upper left\")\n",
    "\n",
    "plt.tight_layout()\n",
    "plt.show()\n"
   ]
  },
  {
   "cell_type": "code",
   "execution_count": 134,
   "id": "ae5f1d6d",
   "metadata": {},
   "outputs": [
    {
     "data": {
      "image/png": "[encoded data removed]",
      "text/plain": [
       "<Figure size 2000x1200 with 1 Axes>"
      ]
     },
     "metadata": {},
     "output_type": "display_data"
    }
   ],
   "source": [
    "\n",
    "\n",
    "# Load your combined summary file\n",
    "summary_df = pd.read_csv(main_dir+ \"/all_mice_summary.csv\")\n",
    "\n",
    "plt.figure(figsize=(20, 12))\n",
    "\n",
    "# Scatter plot\n",
    "for _, row in summary_df.iterrows():\n",
    "    x = row[\"time_in_habituation_rois_ms\"]\n",
    "    y = row[\"time_in_sound_rois_ms\"]\n",
    "    label = f\"{row['mouse_ID']} | {row['session_ID']}\"\n",
    "    \n",
    "    plt.scatter(x, y, alpha=0.7, edgecolor=\"black\")\n",
    "    plt.text(x, y, label, fontsize=8, ha=\"left\", va=\"bottom\", rotation=20)\n",
    "\n",
    "# Labels and title\n",
    "plt.xlabel(\"Time in Habituation ROIs (ms)\")\n",
    "plt.ylabel(\"Time in Sound ROIs (ms)\")\n",
    "plt.title(\"Habituation vs Sound ROI Times per Mouse & Session\")\n",
    "\n",
    "plt.tight_layout()\n",
    "plt.show()\n"
   ]
  },
  {
   "cell_type": "code",
   "execution_count": 128,
   "id": "873f0b82",
   "metadata": {},
   "outputs": [
    {
     "data": {
      "image/png": "[encoded data removed]",
      "text/plain": [
       "<Figure size 1000x700 with 1 Axes>"
      ]
     },
     "metadata": {},
     "output_type": "display_data"
    }
   ],
   "source": [
    "import pandas as pd\n",
    "import matplotlib.pyplot as plt\n",
    "\n",
    "# Load your combined summary file\n",
    "summary_df = pd.read_csv(main_dir+ \"/all_mice_summary.csv\")\n",
    "\n",
    "plt.figure(figsize=(10, 7))\n",
    "\n",
    "# Assign each mouse a unique color\n",
    "colors = plt.cm.tab20.colors\n",
    "mouse_ids = summary_df[\"mouse_ID\"].unique()\n",
    "color_map = {mid: colors[i % len(colors)] for i, mid in enumerate(mouse_ids)}\n",
    "\n",
    "# Plot each mouse’s trajectory\n",
    "for mid, sub in summary_df.groupby(\"mouse_ID\"):\n",
    "    sub = sub.sort_values(\"session_ID\")  # sort sessions if you want them in order\n",
    "    x = sub[\"time_in_habituation_rois_ms\"]\n",
    "    y = sub[\"time_in_sound_rois_ms\"]\n",
    "    \n",
    "    plt.plot(x, y, marker=\"o\", color=color_map[mid], label=mid, alpha=0.8)\n",
    "    \n",
    "    # Annotate each point with session_ID\n",
    "    for _, row in sub.iterrows():\n",
    "        plt.text(row[\"time_in_habituation_rois_ms\"], \n",
    "                 row[\"time_in_sound_rois_ms\"], \n",
    "                 row[\"session_ID\"], fontsize=8, ha=\"left\", va=\"bottom\", rotation=20)\n",
    "\n",
    "# Labels and title\n",
    "plt.xlabel(\"Time in Habituation ROIs (ms)\")\n",
    "plt.ylabel(\"Time in Sound ROIs (ms)\")\n",
    "plt.title(\"Mouse trajectories across sessions: Habituation vs Sound ROI Time\")\n",
    "\n",
    "# Legend (mouse IDs)\n",
    "plt.legend(title=\"Mouse ID\", bbox_to_anchor=(1.05, 1), loc=\"upper left\")\n",
    "\n",
    "plt.tight_layout()\n",
    "plt.show()\n"
   ]
  },
  {
   "cell_type": "code",
   "execution_count": 129,
   "id": "213099d4",
   "metadata": {},
   "outputs": [
    {
     "name": "stdout",
     "output_type": "stream",
     "text": [
      "Collecting plotly\n",
      "  Downloading plotly-6.3.0-py3-none-any.whl.metadata (8.5 kB)\n",
      "Collecting narwhals>=1.15.1 (from plotly)\n",
      "  Downloading narwhals-2.3.0-py3-none-any.whl.metadata (11 kB)\n",
      "Requirement already satisfied: packaging in c:\\users\\aleja\\onedrive\\documents\\github\\mice-maze\\.venv\\lib\\site-packages (from plotly) (25.0)\n",
      "Downloading plotly-6.3.0-py3-none-any.whl (9.8 MB)\n",
      "   ---------------------------------------- 0.0/9.8 MB ? eta -:--:--\n",
      "   -------------- ------------------------- 3.7/9.8 MB 19.3 MB/s eta 0:00:01\n",
      "   ------------------------------- -------- 7.6/9.8 MB 19.1 MB/s eta 0:00:01\n",
      "   ---------------------------------------- 9.8/9.8 MB 17.2 MB/s  0:00:00\n",
      "Downloading narwhals-2.3.0-py3-none-any.whl (404 kB)\n",
      "Installing collected packages: narwhals, plotly\n",
      "\n",
      "   ---------------------------------------- 0/2 [narwhals]\n",
      "   ---------------------------------------- 0/2 [narwhals]\n",
      "   ---------------------------------------- 0/2 [narwhals]\n",
      "   ---------------------------------------- 0/2 [narwhals]\n",
      "   ---------------------------------------- 0/2 [narwhals]\n",
      "   ---------------------------------------- 0/2 [narwhals]\n",
      "   ---------------------------------------- 0/2 [narwhals]\n",
      "   ---------------------------------------- 0/2 [narwhals]\n",
      "   ---------------------------------------- 0/2 [narwhals]\n",
      "   ---------------------------------------- 0/2 [narwhals]\n",
      "   ---------------------------------------- 0/2 [narwhals]\n",
      "   -------------------- ------------------- 1/2 [plotly]\n",
      "   -------------------- ------------------- 1/2 [plotly]\n",
      "   -------------------- ------------------- 1/2 [plotly]\n",
      "   -------------------- ------------------- 1/2 [plotly]\n",
      "   -------------------- ------------------- 1/2 [plotly]\n",
      "   -------------------- ------------------- 1/2 [plotly]\n",
      "   -------------------- ------------------- 1/2 [plotly]\n",
      "   -------------------- ------------------- 1/2 [plotly]\n",
      "   -------------------- ------------------- 1/2 [plotly]\n",
      "   -------------------- ------------------- 1/2 [plotly]\n",
      "   -------------------- ------------------- 1/2 [plotly]\n",
      "   -------------------- ------------------- 1/2 [plotly]\n",
      "   -------------------- ------------------- 1/2 [plotly]\n",
      "   -------------------- ------------------- 1/2 [plotly]\n",
      "   -------------------- ------------------- 1/2 [plotly]\n",
      "   -------------------- ------------------- 1/2 [plotly]\n",
      "   -------------------- ------------------- 1/2 [plotly]\n",
      "   -------------------- ------------------- 1/2 [plotly]\n",
      "   -------------------- ------------------- 1/2 [plotly]\n",
      "   -------------------- ------------------- 1/2 [plotly]\n",
      "   -------------------- ------------------- 1/2 [plotly]\n",
      "   -------------------- ------------------- 1/2 [plotly]\n",
      "   -------------------- ------------------- 1/2 [plotly]\n",
      "   -------------------- ------------------- 1/2 [plotly]\n",
      "   -------------------- ------------------- 1/2 [plotly]\n",
      "   -------------------- ------------------- 1/2 [plotly]\n",
      "   -------------------- ------------------- 1/2 [plotly]\n",
      "   -------------------- ------------------- 1/2 [plotly]\n",
      "   -------------------- ------------------- 1/2 [plotly]\n",
      "   -------------------- ------------------- 1/2 [plotly]\n",
      "   -------------------- ------------------- 1/2 [plotly]\n",
      "   -------------------- ------------------- 1/2 [plotly]\n",
      "   -------------------- ------------------- 1/2 [plotly]\n",
      "   -------------------- ------------------- 1/2 [plotly]\n",
      "   -------------------- ------------------- 1/2 [plotly]\n",
      "   -------------------- ------------------- 1/2 [plotly]\n",
      "   -------------------- ------------------- 1/2 [plotly]\n",
      "   -------------------- ------------------- 1/2 [plotly]\n",
      "   -------------------- ------------------- 1/2 [plotly]\n",
      "   -------------------- ------------------- 1/2 [plotly]\n",
      "   -------------------- ------------------- 1/2 [plotly]\n",
      "   -------------------- ------------------- 1/2 [plotly]\n",
      "   -------------------- ------------------- 1/2 [plotly]\n",
      "   -------------------- ------------------- 1/2 [plotly]\n",
      "   -------------------- ------------------- 1/2 [plotly]\n",
      "   -------------------- ------------------- 1/2 [plotly]\n",
      "   -------------------- ------------------- 1/2 [plotly]\n",
      "   -------------------- ------------------- 1/2 [plotly]\n",
      "   -------------------- ------------------- 1/2 [plotly]\n",
      "   -------------------- ------------------- 1/2 [plotly]\n",
      "   -------------------- ------------------- 1/2 [plotly]\n",
      "   -------------------- ------------------- 1/2 [plotly]\n",
      "   -------------------- ------------------- 1/2 [plotly]\n",
      "   -------------------- ------------------- 1/2 [plotly]\n",
      "   -------------------- ------------------- 1/2 [plotly]\n",
      "   -------------------- ------------------- 1/2 [plotly]\n",
      "   -------------------- ------------------- 1/2 [plotly]\n",
      "   -------------------- ------------------- 1/2 [plotly]\n",
      "   -------------------- ------------------- 1/2 [plotly]\n",
      "   -------------------- ------------------- 1/2 [plotly]\n",
      "   -------------------- ------------------- 1/2 [plotly]\n",
      "   -------------------- ------------------- 1/2 [plotly]\n",
      "   -------------------- ------------------- 1/2 [plotly]\n",
      "   -------------------- ------------------- 1/2 [plotly]\n",
      "   -------------------- ------------------- 1/2 [plotly]\n",
      "   -------------------- ------------------- 1/2 [plotly]\n",
      "   -------------------- ------------------- 1/2 [plotly]\n",
      "   -------------------- ------------------- 1/2 [plotly]\n",
      "   -------------------- ------------------- 1/2 [plotly]\n",
      "   -------------------- ------------------- 1/2 [plotly]\n",
      "   -------------------- ------------------- 1/2 [plotly]\n",
      "   -------------------- ------------------- 1/2 [plotly]\n",
      "   -------------------- ------------------- 1/2 [plotly]\n",
      "   -------------------- ------------------- 1/2 [plotly]\n",
      "   -------------------- ------------------- 1/2 [plotly]\n",
      "   -------------------- ------------------- 1/2 [plotly]\n",
      "   -------------------- ------------------- 1/2 [plotly]\n",
      "   -------------------- ------------------- 1/2 [plotly]\n",
      "   -------------------- ------------------- 1/2 [plotly]\n",
      "   -------------------- ------------------- 1/2 [plotly]\n",
      "   -------------------- ------------------- 1/2 [plotly]\n",
      "   -------------------- ------------------- 1/2 [plotly]\n",
      "   -------------------- ------------------- 1/2 [plotly]\n",
      "   -------------------- ------------------- 1/2 [plotly]\n",
      "   -------------------- ------------------- 1/2 [plotly]\n",
      "   -------------------- ------------------- 1/2 [plotly]\n",
      "   -------------------- ------------------- 1/2 [plotly]\n",
      "   -------------------- ------------------- 1/2 [plotly]\n",
      "   -------------------- ------------------- 1/2 [plotly]\n",
      "   -------------------- ------------------- 1/2 [plotly]\n",
      "   -------------------- ------------------- 1/2 [plotly]\n",
      "   -------------------- ------------------- 1/2 [plotly]\n",
      "   -------------------- ------------------- 1/2 [plotly]\n",
      "   -------------------- ------------------- 1/2 [plotly]\n",
      "   -------------------- ------------------- 1/2 [plotly]\n",
      "   -------------------- ------------------- 1/2 [plotly]\n",
      "   -------------------- ------------------- 1/2 [plotly]\n",
      "   -------------------- ------------------- 1/2 [plotly]\n",
      "   -------------------- ------------------- 1/2 [plotly]\n",
      "   -------------------- ------------------- 1/2 [plotly]\n",
      "   -------------------- ------------------- 1/2 [plotly]\n",
      "   -------------------- ------------------- 1/2 [plotly]\n",
      "   -------------------- ------------------- 1/2 [plotly]\n",
      "   -------------------- ------------------- 1/2 [plotly]\n",
      "   -------------------- ------------------- 1/2 [plotly]\n",
      "   -------------------- ------------------- 1/2 [plotly]\n",
      "   -------------------- ------------------- 1/2 [plotly]\n",
      "   -------------------- ------------------- 1/2 [plotly]\n",
      "   -------------------- ------------------- 1/2 [plotly]\n",
      "   -------------------- ------------------- 1/2 [plotly]\n",
      "   -------------------- ------------------- 1/2 [plotly]\n",
      "   -------------------- ------------------- 1/2 [plotly]\n",
      "   -------------------- ------------------- 1/2 [plotly]\n",
      "   -------------------- ------------------- 1/2 [plotly]\n",
      "   -------------------- ------------------- 1/2 [plotly]\n",
      "   -------------------- ------------------- 1/2 [plotly]\n",
      "   -------------------- ------------------- 1/2 [plotly]\n",
      "   -------------------- ------------------- 1/2 [plotly]\n",
      "   -------------------- ------------------- 1/2 [plotly]\n",
      "   -------------------- ------------------- 1/2 [plotly]\n",
      "   -------------------- ------------------- 1/2 [plotly]\n",
      "   -------------------- ------------------- 1/2 [plotly]\n",
      "   -------------------- ------------------- 1/2 [plotly]\n",
      "   -------------------- ------------------- 1/2 [plotly]\n",
      "   -------------------- ------------------- 1/2 [plotly]\n",
      "   -------------------- ------------------- 1/2 [plotly]\n",
      "   -------------------- ------------------- 1/2 [plotly]\n",
      "   -------------------- ------------------- 1/2 [plotly]\n",
      "   -------------------- ------------------- 1/2 [plotly]\n",
      "   -------------------- ------------------- 1/2 [plotly]\n",
      "   -------------------- ------------------- 1/2 [plotly]\n",
      "   -------------------- ------------------- 1/2 [plotly]\n",
      "   -------------------- ------------------- 1/2 [plotly]\n",
      "   -------------------- ------------------- 1/2 [plotly]\n",
      "   -------------------- ------------------- 1/2 [plotly]\n",
      "   -------------------- ------------------- 1/2 [plotly]\n",
      "   -------------------- ------------------- 1/2 [plotly]\n",
      "   -------------------- ------------------- 1/2 [plotly]\n",
      "   ---------------------------------------- 2/2 [plotly]\n",
      "\n",
      "Successfully installed narwhals-2.3.0 plotly-6.3.0\n"
     ]
    }
   ],
   "source": [
    "!pip install plotly"
   ]
  },
  {
   "cell_type": "code",
   "execution_count": 135,
   "id": "3509bb88",
   "metadata": {},
   "outputs": [
    {
     "name": "stdout",
     "output_type": "stream",
     "text": [
      "Collecting nbformat\n",
      "  Using cached nbformat-5.10.4-py3-none-any.whl.metadata (3.6 kB)\n",
      "Collecting fastjsonschema>=2.15 (from nbformat)\n",
      "  Downloading fastjsonschema-2.21.2-py3-none-any.whl.metadata (2.3 kB)\n",
      "Collecting jsonschema>=2.6 (from nbformat)\n",
      "  Downloading jsonschema-4.25.1-py3-none-any.whl.metadata (7.6 kB)\n",
      "Requirement already satisfied: jupyter-core!=5.0.*,>=4.12 in c:\\users\\aleja\\onedrive\\documents\\github\\mice-maze\\.venv\\lib\\site-packages (from nbformat) (5.8.1)\n",
      "Requirement already satisfied: traitlets>=5.1 in c:\\users\\aleja\\onedrive\\documents\\github\\mice-maze\\.venv\\lib\\site-packages (from nbformat) (5.14.3)\n",
      "Collecting attrs>=22.2.0 (from jsonschema>=2.6->nbformat)\n",
      "  Using cached attrs-25.3.0-py3-none-any.whl.metadata (10 kB)\n",
      "Collecting jsonschema-specifications>=2023.03.6 (from jsonschema>=2.6->nbformat)\n",
      "  Using cached jsonschema_specifications-2025.4.1-py3-none-any.whl.metadata (2.9 kB)\n",
      "Collecting referencing>=0.28.4 (from jsonschema>=2.6->nbformat)\n",
      "  Using cached referencing-0.36.2-py3-none-any.whl.metadata (2.8 kB)\n",
      "Collecting rpds-py>=0.7.1 (from jsonschema>=2.6->nbformat)\n",
      "  Downloading rpds_py-0.27.1-cp313-cp313-win_amd64.whl.metadata (4.3 kB)\n",
      "Requirement already satisfied: platformdirs>=2.5 in c:\\users\\aleja\\onedrive\\documents\\github\\mice-maze\\.venv\\lib\\site-packages (from jupyter-core!=5.0.*,>=4.12->nbformat) (4.4.0)\n",
      "Requirement already satisfied: pywin32>=300 in c:\\users\\aleja\\onedrive\\documents\\github\\mice-maze\\.venv\\lib\\site-packages (from jupyter-core!=5.0.*,>=4.12->nbformat) (311)\n",
      "Using cached nbformat-5.10.4-py3-none-any.whl (78 kB)\n",
      "Downloading fastjsonschema-2.21.2-py3-none-any.whl (24 kB)\n",
      "Downloading jsonschema-4.25.1-py3-none-any.whl (90 kB)\n",
      "Using cached attrs-25.3.0-py3-none-any.whl (63 kB)\n",
      "Using cached jsonschema_specifications-2025.4.1-py3-none-any.whl (18 kB)\n",
      "Using cached referencing-0.36.2-py3-none-any.whl (26 kB)\n",
      "Downloading rpds_py-0.27.1-cp313-cp313-win_amd64.whl (232 kB)\n",
      "Installing collected packages: fastjsonschema, rpds-py, attrs, referencing, jsonschema-specifications, jsonschema, nbformat\n",
      "\n",
      "   ----------- ---------------------------- 2/7 [attrs]\n",
      "   ----------- ---------------------------- 2/7 [attrs]\n",
      "   ----------------- ---------------------- 3/7 [referencing]\n",
      "   ---------------------------- ----------- 5/7 [jsonschema]\n",
      "   ---------------------------- ----------- 5/7 [jsonschema]\n",
      "   ---------------------------- ----------- 5/7 [jsonschema]\n",
      "   ---------------------------------- ----- 6/7 [nbformat]\n",
      "   ---------------------------------- ----- 6/7 [nbformat]\n",
      "   ---------------------------------- ----- 6/7 [nbformat]\n",
      "   ---------------------------------- ----- 6/7 [nbformat]\n",
      "   ---------------------------------------- 7/7 [nbformat]\n",
      "\n",
      "Successfully installed attrs-25.3.0 fastjsonschema-2.21.2 jsonschema-4.25.1 jsonschema-specifications-2025.4.1 nbformat-5.10.4 referencing-0.36.2 rpds-py-0.27.1\n"
     ]
    }
   ],
   "source": [
    "!pip install --upgrade nbformat\n"
   ]
  },
  {
   "cell_type": "code",
   "execution_count": 140,
   "id": "88d0b623",
   "metadata": {},
   "outputs": [],
   "source": [
    "import pandas as pd\n",
    "import plotly.express as px\n",
    "import plotly.io as pio\n",
    "pio.renderers.default = \"browser\"\n",
    "\n",
    "# Load your combined summary file\n",
    "summary_df = pd.read_csv(main_dir+\"/all_mice_summary.csv\")\n",
    "\n",
    "# Ensure a consistent session order if you want to connect them meaningfully\n",
    "session_order = [\"w1_d1\", \"w1_d2\", \"w1_d3\", \"w1_d4\", \"w2_se\", \"w2_vo\"]\n",
    "summary_df[\"session_ID\"] = pd.Categorical(summary_df[\"session_ID\"], categories=session_order, ordered=True)\n",
    "\n",
    "# Create interactive line+scatter plot\n",
    "fig = px.line(\n",
    "    summary_df,\n",
    "    x=\"time_in_habituation_rois_ms\",\n",
    "    y=\"time_in_sound_rois_ms\",\n",
    "    color=\"mouse_ID\",\n",
    "    text=\"session_ID\",\n",
    "    markers=True,\n",
    "    line_group=\"mouse_ID\",  # ensures lines connect within mouse\n",
    "    hover_data=[\"mouse_ID\", \"session_ID\"]\n",
    ")\n",
    "\n",
    "# Improve layout\n",
    "fig.update_traces(textposition=\"top center\")\n",
    "fig.update_layout(\n",
    "    title=\"Mouse trajectories across sessions: Habituation vs Sound ROI Time\",\n",
    "    xaxis_title=\"Time in Habituation ROIs (ms)\",\n",
    "    yaxis_title=\"Time in Sound ROIs (ms)\",\n",
    "    legend_title=\"Mouse ID\",\n",
    "    width=900,\n",
    "    height=600\n",
    ")\n",
    "\n",
    "fig.show()\n"
   ]
  },
  {
   "cell_type": "code",
   "execution_count": 16,
   "id": "f07a14df",
   "metadata": {},
   "outputs": [
    {
     "data": {
      "application/vnd.plotly.v1+json": {
       "config": {
        "plotlyServerURL": "https://plot.ly"
       },
       "data": [
        {
         "customdata": [
          [
           "MOUSE10049",
           "w2_se"
          ]
         ],
         "hovertemplate": "mouse_ID=%{customdata[0]}<br>time_in_habituation_rois_ms=%{x}<br>pref_idx=%{y}<br>session_ID=%{customdata[1]}<extra></extra>",
         "legendgroup": "MOUSE10049",
         "line": {
          "color": "#636efa",
          "dash": "solid"
         },
         "marker": {
          "symbol": "circle"
         },
         "mode": "lines+markers+text",
         "name": "MOUSE10049",
         "orientation": "v",
         "showlegend": true,
         "text": [
          "w2_se"
         ],
         "textposition": "top center",
         "type": "scatter",
         "x": {
          "bdata": "AAAAAAC380A=",
          "dtype": "f8"
         },
         "xaxis": "x",
         "y": {
          "bdata": "DFTpeq4otT8=",
          "dtype": "f8"
         },
         "yaxis": "y"
        },
        {
         "customdata": [
          [
           "mouse10049",
           "w1_d1"
          ],
          [
           "mouse10049",
           "w1_d2"
          ],
          [
           "mouse10049",
           "w1_d3"
          ],
          [
           "mouse10049",
           "w1_d4"
          ],
          [
           "mouse10049",
           "w2_vo"
          ]
         ],
         "hovertemplate": "mouse_ID=%{customdata[0]}<br>time_in_habituation_rois_ms=%{x}<br>pref_idx=%{y}<br>session_ID=%{customdata[1]}<extra></extra>",
         "legendgroup": "mouse10049",
         "line": {
          "color": "#EF553B",
          "dash": "solid"
         },
         "marker": {
          "symbol": "circle"
         },
         "mode": "lines+markers+text",
         "name": "mouse10049",
         "orientation": "v",
         "showlegend": true,
         "text": [
          "w1_d1",
          "w1_d2",
          "w1_d3",
          "w1_d4",
          "w2_vo"
         ],
         "textposition": "top center",
         "type": "scatter",
         "x": {
          "bdata": "AAAAABDuDEEAAAAAMIz7QAAAAABgi+5AAAAAAEA89UAAAAAAwKbqQA==",
          "dtype": "f8"
         },
         "xaxis": "x",
         "y": {
          "bdata": "wj3EQ2gvDEBIHorTUOgEQBS/VTdILQZAuxPFoLwyIEBtrdiYkWsEQA==",
          "dtype": "f8"
         },
         "yaxis": "y"
        },
        {
         "customdata": [
          [
           "mouse10050",
           "w1_d1"
          ],
          [
           "mouse10050",
           "w1_d2"
          ],
          [
           "mouse10050",
           "w1_d3"
          ],
          [
           "mouse10050",
           "w1_d4"
          ]
         ],
         "hovertemplate": "mouse_ID=%{customdata[0]}<br>time_in_habituation_rois_ms=%{x}<br>pref_idx=%{y}<br>session_ID=%{customdata[1]}<extra></extra>",
         "legendgroup": "mouse10050",
         "line": {
          "color": "#00cc96",
          "dash": "solid"
         },
         "marker": {
          "symbol": "circle"
         },
         "mode": "lines+markers+text",
         "name": "mouse10050",
         "orientation": "v",
         "showlegend": true,
         "text": [
          "w1_d1",
          "w1_d2",
          "w1_d3",
          "w1_d4"
         ],
         "textposition": "top center",
         "type": "scatter",
         "x": {
          "bdata": "AAAAAHgYAkEAAAAAcMT0QAAAAAAAJLFAAAAAAAAa+EA=",
          "dtype": "f8"
         },
         "xaxis": "x",
         "y": {
          "bdata": "+yg79/GO+j/wn/5KERUUQLvBFPmsG/Q/c7xsGAnvHUA=",
          "dtype": "f8"
         },
         "yaxis": "y"
        },
        {
         "customdata": [
          [
           "mouse10052",
           "w1_d1"
          ]
         ],
         "hovertemplate": "mouse_ID=%{customdata[0]}<br>time_in_habituation_rois_ms=%{x}<br>pref_idx=%{y}<br>session_ID=%{customdata[1]}<extra></extra>",
         "legendgroup": "mouse10052",
         "line": {
          "color": "#ab63fa",
          "dash": "solid"
         },
         "marker": {
          "symbol": "circle"
         },
         "mode": "lines+markers+text",
         "name": "mouse10052",
         "orientation": "v",
         "showlegend": true,
         "text": [
          "w1_d1"
         ],
         "textposition": "top center",
         "type": "scatter",
         "x": {
          "bdata": "AAAAAKiwDEE=",
          "dtype": "f8"
         },
         "xaxis": "x",
         "y": {
          "bdata": "c4I08nr2QkA=",
          "dtype": "f8"
         },
         "yaxis": "y"
        },
        {
         "customdata": [
          [
           "mouse10154",
           "w1_d1"
          ],
          [
           "mouse10154",
           "w1_d2"
          ]
         ],
         "hovertemplate": "mouse_ID=%{customdata[0]}<br>time_in_habituation_rois_ms=%{x}<br>pref_idx=%{y}<br>session_ID=%{customdata[1]}<extra></extra>",
         "legendgroup": "mouse10154",
         "line": {
          "color": "#FFA15A",
          "dash": "solid"
         },
         "marker": {
          "symbol": "circle"
         },
         "mode": "lines+markers+text",
         "name": "mouse10154",
         "orientation": "v",
         "showlegend": true,
         "text": [
          "w1_d1",
          "w1_d2"
         ],
         "textposition": "top center",
         "type": "scatter",
         "x": {
          "bdata": "AAAAAKCE/0AAAAAAAAAAAA==",
          "dtype": "f8"
         },
         "xaxis": "x",
         "y": {
          "bdata": "yLHdpCojKEBr4ezOIkDlPw==",
          "dtype": "f8"
         },
         "yaxis": "y"
        },
        {
         "customdata": [
          [
           "mouse10155",
           "w1_d1"
          ],
          [
           "mouse10155",
           "w1_d2"
          ],
          [
           "mouse10155",
           "w1_d3"
          ]
         ],
         "hovertemplate": "mouse_ID=%{customdata[0]}<br>time_in_habituation_rois_ms=%{x}<br>pref_idx=%{y}<br>session_ID=%{customdata[1]}<extra></extra>",
         "legendgroup": "mouse10155",
         "line": {
          "color": "#19d3f3",
          "dash": "solid"
         },
         "marker": {
          "symbol": "circle"
         },
         "mode": "lines+markers+text",
         "name": "mouse10155",
         "orientation": "v",
         "showlegend": true,
         "text": [
          "w1_d1",
          "w1_d2",
          "w1_d3"
         ],
         "textposition": "top center",
         "type": "scatter",
         "x": {
          "bdata": "AAAAALD+BUEAAAAAoH73QAAAAAAQzfBA",
          "dtype": "f8"
         },
         "xaxis": "x",
         "y": {
          "bdata": "4lNOMpi18z+sxpw5Qk32P4WuLJLWuPk/",
          "dtype": "f8"
         },
         "yaxis": "y"
        },
        {
         "customdata": [
          [
           "mouse10516",
           "w1_d1"
          ],
          [
           "mouse10516",
           "w1_d2"
          ],
          [
           "mouse10516",
           "w1_d3"
          ]
         ],
         "hovertemplate": "mouse_ID=%{customdata[0]}<br>time_in_habituation_rois_ms=%{x}<br>pref_idx=%{y}<br>session_ID=%{customdata[1]}<extra></extra>",
         "legendgroup": "mouse10516",
         "line": {
          "color": "#FF6692",
          "dash": "solid"
         },
         "marker": {
          "symbol": "circle"
         },
         "mode": "lines+markers+text",
         "name": "mouse10516",
         "orientation": "v",
         "showlegend": true,
         "text": [
          "w1_d1",
          "w1_d2",
          "w1_d3"
         ],
         "textposition": "top center",
         "type": "scatter",
         "x": {
          "bdata": "AAAAAEAN/0AAAAAAUJ/9QAAAAADgQ+1A",
          "dtype": "f8"
         },
         "xaxis": "x",
         "y": {
          "bdata": "iGf9s9Q+KEDNTy14negrQACE78XXZh5A",
          "dtype": "f8"
         },
         "yaxis": "y"
        },
        {
         "customdata": [
          [
           "mouse10517",
           "w1_d2"
          ]
         ],
         "hovertemplate": "mouse_ID=%{customdata[0]}<br>time_in_habituation_rois_ms=%{x}<br>pref_idx=%{y}<br>session_ID=%{customdata[1]}<extra></extra>",
         "legendgroup": "mouse10517",
         "line": {
          "color": "#B6E880",
          "dash": "solid"
         },
         "marker": {
          "symbol": "circle"
         },
         "mode": "lines+markers+text",
         "name": "mouse10517",
         "orientation": "v",
         "showlegend": true,
         "text": [
          "w1_d2"
         ],
         "textposition": "top center",
         "type": "scatter",
         "x": {
          "bdata": "AAAAALAl+0A=",
          "dtype": "f8"
         },
         "xaxis": "x",
         "y": {
          "bdata": "MzMzMzObUEA=",
          "dtype": "f8"
         },
         "yaxis": "y"
        },
        {
         "customdata": [
          [
           "mouse10529",
           "w1_d1"
          ],
          [
           "mouse10529",
           "w1_d2"
          ],
          [
           "mouse10529",
           "w1_d3"
          ],
          [
           "mouse10529",
           "w1_d4"
          ],
          [
           "mouse10529",
           "w2_se"
          ],
          [
           "mouse10529",
           "w2_vo"
          ]
         ],
         "hovertemplate": "mouse_ID=%{customdata[0]}<br>time_in_habituation_rois_ms=%{x}<br>pref_idx=%{y}<br>session_ID=%{customdata[1]}<extra></extra>",
         "legendgroup": "mouse10529",
         "line": {
          "color": "#FF97FF",
          "dash": "solid"
         },
         "marker": {
          "symbol": "circle"
         },
         "mode": "lines+markers+text",
         "name": "mouse10529",
         "orientation": "v",
         "showlegend": true,
         "text": [
          "w1_d1",
          "w1_d2",
          "w1_d3",
          "w1_d4",
          "w2_se",
          "w2_vo"
         ],
         "textposition": "top center",
         "type": "scatter",
         "x": {
          "bdata": "AAAAAHhFBEEAAAAAOIEBQQAAAABgs/1AAAAAAEAv9UAAAAAAYBzmQAAAAADQv/xA",
          "dtype": "f8"
         },
         "xaxis": "x",
         "y": {
          "bdata": "N5Q3CN8sAEA9l4+edxcIQAaTGFO2Kv0/ciPkB8PIFUABGVNK4QsGQNI+kZdmwglA",
          "dtype": "f8"
         },
         "yaxis": "y"
        },
        {
         "customdata": [
          [
           "mouse10530",
           "w1_d1"
          ],
          [
           "mouse10530",
           "w1_d2"
          ],
          [
           "mouse10530",
           "w1_d3"
          ],
          [
           "mouse10530",
           "w1_d4"
          ],
          [
           "mouse10530",
           "w2_se"
          ],
          [
           "mouse10530",
           "w2_vo"
          ]
         ],
         "hovertemplate": "mouse_ID=%{customdata[0]}<br>time_in_habituation_rois_ms=%{x}<br>pref_idx=%{y}<br>session_ID=%{customdata[1]}<extra></extra>",
         "legendgroup": "mouse10530",
         "line": {
          "color": "#FECB52",
          "dash": "solid"
         },
         "marker": {
          "symbol": "circle"
         },
         "mode": "lines+markers+text",
         "name": "mouse10530",
         "orientation": "v",
         "showlegend": true,
         "text": [
          "w1_d1",
          "w1_d2",
          "w1_d3",
          "w1_d4",
          "w2_se",
          "w2_vo"
         ],
         "textposition": "top center",
         "type": "scatter",
         "x": {
          "bdata": "AAAAABBI9kAAAAAAAO3qQAAAAADIdAVBAAAAAEjxDUEAAAAAsPYJQQAAAACIoglB",
          "dtype": "f8"
         },
         "xaxis": "x",
         "y": {
          "bdata": "n/TGbyaDEUBXENXE3zMJQF+abryHlxBAJL4IO+6xFkCD/ibzMnEQQEY4XT/6AhZA",
          "dtype": "f8"
         },
         "yaxis": "y"
        },
        {
         "customdata": [
          [
           "mouse10538",
           "w1_d1"
          ],
          [
           "mouse10538",
           "w1_d2"
          ],
          [
           "mouse10538",
           "w1_d3"
          ],
          [
           "mouse10538",
           "w1_d4"
          ],
          [
           "mouse10538",
           "w2_se"
          ],
          [
           "mouse10538",
           "w2_vo"
          ]
         ],
         "hovertemplate": "mouse_ID=%{customdata[0]}<br>time_in_habituation_rois_ms=%{x}<br>pref_idx=%{y}<br>session_ID=%{customdata[1]}<extra></extra>",
         "legendgroup": "mouse10538",
         "line": {
          "color": "#636efa",
          "dash": "solid"
         },
         "marker": {
          "symbol": "circle"
         },
         "mode": "lines+markers+text",
         "name": "mouse10538",
         "orientation": "v",
         "showlegend": true,
         "text": [
          "w1_d1",
          "w1_d2",
          "w1_d3",
          "w1_d4",
          "w2_se",
          "w2_vo"
         ],
         "textposition": "top center",
         "type": "scatter",
         "x": {
          "bdata": "AAAAADihAkEAAAAAMGv7QAAAAABwRQBBAAAAAABI/EAAAAAAIJn7QAAAAABQ0/dA",
          "dtype": "f8"
         },
         "xaxis": "x",
         "y": {
          "bdata": "+/oTtRixCUAdEoDaotf8Py3KPeaw8f4/Je1/ieObA0A0/F1Gw6YhQKI95yY5iwhA",
          "dtype": "f8"
         },
         "yaxis": "y"
        }
       ],
       "layout": {
        "height": 600,
        "legend": {
         "title": {
          "text": "Mouse ID"
         },
         "tracegroupgap": 0
        },
        "margin": {
         "t": 60
        },
        "template": {
         "data": {
          "bar": [
           {
            "error_x": {
             "color": "#2a3f5f"
            },
            "error_y": {
             "color": "#2a3f5f"
            },
            "marker": {
             "line": {
              "color": "#E5ECF6",
              "width": 0.5
             },
             "pattern": {
              "fillmode": "overlay",
              "size": 10,
              "solidity": 0.2
             }
            },
            "type": "bar"
           }
          ],
          "barpolar": [
           {
            "marker": {
             "line": {
              "color": "#E5ECF6",
              "width": 0.5
             },
             "pattern": {
              "fillmode": "overlay",
              "size": 10,
              "solidity": 0.2
             }
            },
            "type": "barpolar"
           }
          ],
          "carpet": [
           {
            "aaxis": {
             "endlinecolor": "#2a3f5f",
             "gridcolor": "white",
             "linecolor": "white",
             "minorgridcolor": "white",
             "startlinecolor": "#2a3f5f"
            },
            "baxis": {
             "endlinecolor": "#2a3f5f",
             "gridcolor": "white",
             "linecolor": "white",
             "minorgridcolor": "white",
             "startlinecolor": "#2a3f5f"
            },
            "type": "carpet"
           }
          ],
          "choropleth": [
           {
            "colorbar": {
             "outlinewidth": 0,
             "ticks": ""
            },
            "type": "choropleth"
           }
          ],
          "contour": [
           {
            "colorbar": {
             "outlinewidth": 0,
             "ticks": ""
            },
            "colorscale": [
             [
              0,
              "#0d0887"
             ],
             [
              0.1111111111111111,
              "#46039f"
             ],
             [
              0.2222222222222222,
              "#7201a8"
             ],
             [
              0.3333333333333333,
              "#9c179e"
             ],
             [
              0.4444444444444444,
              "#bd3786"
             ],
             [
              0.5555555555555556,
              "#d8576b"
             ],
             [
              0.6666666666666666,
              "#ed7953"
             ],
             [
              0.7777777777777778,
              "#fb9f3a"
             ],
             [
              0.8888888888888888,
              "#fdca26"
             ],
             [
              1,
              "#f0f921"
             ]
            ],
            "type": "contour"
           }
          ],
          "contourcarpet": [
           {
            "colorbar": {
             "outlinewidth": 0,
             "ticks": ""
            },
            "type": "contourcarpet"
           }
          ],
          "heatmap": [
           {
            "colorbar": {
             "outlinewidth": 0,
             "ticks": ""
            },
            "colorscale": [
             [
              0,
              "#0d0887"
             ],
             [
              0.1111111111111111,
              "#46039f"
             ],
             [
              0.2222222222222222,
              "#7201a8"
             ],
             [
              0.3333333333333333,
              "#9c179e"
             ],
             [
              0.4444444444444444,
              "#bd3786"
             ],
             [
              0.5555555555555556,
              "#d8576b"
             ],
             [
              0.6666666666666666,
              "#ed7953"
             ],
             [
              0.7777777777777778,
              "#fb9f3a"
             ],
             [
              0.8888888888888888,
              "#fdca26"
             ],
             [
              1,
              "#f0f921"
             ]
            ],
            "type": "heatmap"
           }
          ],
          "histogram": [
           {
            "marker": {
             "pattern": {
              "fillmode": "overlay",
              "size": 10,
              "solidity": 0.2
             }
            },
            "type": "histogram"
           }
          ],
          "histogram2d": [
           {
            "colorbar": {
             "outlinewidth": 0,
             "ticks": ""
            },
            "colorscale": [
             [
              0,
              "#0d0887"
             ],
             [
              0.1111111111111111,
              "#46039f"
             ],
             [
              0.2222222222222222,
              "#7201a8"
             ],
             [
              0.3333333333333333,
              "#9c179e"
             ],
             [
              0.4444444444444444,
              "#bd3786"
             ],
             [
              0.5555555555555556,
              "#d8576b"
             ],
             [
              0.6666666666666666,
              "#ed7953"
             ],
             [
              0.7777777777777778,
              "#fb9f3a"
             ],
             [
              0.8888888888888888,
              "#fdca26"
             ],
             [
              1,
              "#f0f921"
             ]
            ],
            "type": "histogram2d"
           }
          ],
          "histogram2dcontour": [
           {
            "colorbar": {
             "outlinewidth": 0,
             "ticks": ""
            },
            "colorscale": [
             [
              0,
              "#0d0887"
             ],
             [
              0.1111111111111111,
              "#46039f"
             ],
             [
              0.2222222222222222,
              "#7201a8"
             ],
             [
              0.3333333333333333,
              "#9c179e"
             ],
             [
              0.4444444444444444,
              "#bd3786"
             ],
             [
              0.5555555555555556,
              "#d8576b"
             ],
             [
              0.6666666666666666,
              "#ed7953"
             ],
             [
              0.7777777777777778,
              "#fb9f3a"
             ],
             [
              0.8888888888888888,
              "#fdca26"
             ],
             [
              1,
              "#f0f921"
             ]
            ],
            "type": "histogram2dcontour"
           }
          ],
          "mesh3d": [
           {
            "colorbar": {
             "outlinewidth": 0,
             "ticks": ""
            },
            "type": "mesh3d"
           }
          ],
          "parcoords": [
           {
            "line": {
             "colorbar": {
              "outlinewidth": 0,
              "ticks": ""
             }
            },
            "type": "parcoords"
           }
          ],
          "pie": [
           {
            "automargin": true,
            "type": "pie"
           }
          ],
          "scatter": [
           {
            "fillpattern": {
             "fillmode": "overlay",
             "size": 10,
             "solidity": 0.2
            },
            "type": "scatter"
           }
          ],
          "scatter3d": [
           {
            "line": {
             "colorbar": {
              "outlinewidth": 0,
              "ticks": ""
             }
            },
            "marker": {
             "colorbar": {
              "outlinewidth": 0,
              "ticks": ""
             }
            },
            "type": "scatter3d"
           }
          ],
          "scattercarpet": [
           {
            "marker": {
             "colorbar": {
              "outlinewidth": 0,
              "ticks": ""
             }
            },
            "type": "scattercarpet"
           }
          ],
          "scattergeo": [
           {
            "marker": {
             "colorbar": {
              "outlinewidth": 0,
              "ticks": ""
             }
            },
            "type": "scattergeo"
           }
          ],
          "scattergl": [
           {
            "marker": {
             "colorbar": {
              "outlinewidth": 0,
              "ticks": ""
             }
            },
            "type": "scattergl"
           }
          ],
          "scattermap": [
           {
            "marker": {
             "colorbar": {
              "outlinewidth": 0,
              "ticks": ""
             }
            },
            "type": "scattermap"
           }
          ],
          "scattermapbox": [
           {
            "marker": {
             "colorbar": {
              "outlinewidth": 0,
              "ticks": ""
             }
            },
            "type": "scattermapbox"
           }
          ],
          "scatterpolar": [
           {
            "marker": {
             "colorbar": {
              "outlinewidth": 0,
              "ticks": ""
             }
            },
            "type": "scatterpolar"
           }
          ],
          "scatterpolargl": [
           {
            "marker": {
             "colorbar": {
              "outlinewidth": 0,
              "ticks": ""
             }
            },
            "type": "scatterpolargl"
           }
          ],
          "scatterternary": [
           {
            "marker": {
             "colorbar": {
              "outlinewidth": 0,
              "ticks": ""
             }
            },
            "type": "scatterternary"
           }
          ],
          "surface": [
           {
            "colorbar": {
             "outlinewidth": 0,
             "ticks": ""
            },
            "colorscale": [
             [
              0,
              "#0d0887"
             ],
             [
              0.1111111111111111,
              "#46039f"
             ],
             [
              0.2222222222222222,
              "#7201a8"
             ],
             [
              0.3333333333333333,
              "#9c179e"
             ],
             [
              0.4444444444444444,
              "#bd3786"
             ],
             [
              0.5555555555555556,
              "#d8576b"
             ],
             [
              0.6666666666666666,
              "#ed7953"
             ],
             [
              0.7777777777777778,
              "#fb9f3a"
             ],
             [
              0.8888888888888888,
              "#fdca26"
             ],
             [
              1,
              "#f0f921"
             ]
            ],
            "type": "surface"
           }
          ],
          "table": [
           {
            "cells": {
             "fill": {
              "color": "#EBF0F8"
             },
             "line": {
              "color": "white"
             }
            },
            "header": {
             "fill": {
              "color": "#C8D4E3"
             },
             "line": {
              "color": "white"
             }
            },
            "type": "table"
           }
          ]
         },
         "layout": {
          "annotationdefaults": {
           "arrowcolor": "#2a3f5f",
           "arrowhead": 0,
           "arrowwidth": 1
          },
          "autotypenumbers": "strict",
          "coloraxis": {
           "colorbar": {
            "outlinewidth": 0,
            "ticks": ""
           }
          },
          "colorscale": {
           "diverging": [
            [
             0,
             "#8e0152"
            ],
            [
             0.1,
             "#c51b7d"
            ],
            [
             0.2,
             "#de77ae"
            ],
            [
             0.3,
             "#f1b6da"
            ],
            [
             0.4,
             "#fde0ef"
            ],
            [
             0.5,
             "#f7f7f7"
            ],
            [
             0.6,
             "#e6f5d0"
            ],
            [
             0.7,
             "#b8e186"
            ],
            [
             0.8,
             "#7fbc41"
            ],
            [
             0.9,
             "#4d9221"
            ],
            [
             1,
             "#276419"
            ]
           ],
           "sequential": [
            [
             0,
             "#0d0887"
            ],
            [
             0.1111111111111111,
             "#46039f"
            ],
            [
             0.2222222222222222,
             "#7201a8"
            ],
            [
             0.3333333333333333,
             "#9c179e"
            ],
            [
             0.4444444444444444,
             "#bd3786"
            ],
            [
             0.5555555555555556,
             "#d8576b"
            ],
            [
             0.6666666666666666,
             "#ed7953"
            ],
            [
             0.7777777777777778,
             "#fb9f3a"
            ],
            [
             0.8888888888888888,
             "#fdca26"
            ],
            [
             1,
             "#f0f921"
            ]
           ],
           "sequentialminus": [
            [
             0,
             "#0d0887"
            ],
            [
             0.1111111111111111,
             "#46039f"
            ],
            [
             0.2222222222222222,
             "#7201a8"
            ],
            [
             0.3333333333333333,
             "#9c179e"
            ],
            [
             0.4444444444444444,
             "#bd3786"
            ],
            [
             0.5555555555555556,
             "#d8576b"
            ],
            [
             0.6666666666666666,
             "#ed7953"
            ],
            [
             0.7777777777777778,
             "#fb9f3a"
            ],
            [
             0.8888888888888888,
             "#fdca26"
            ],
            [
             1,
             "#f0f921"
            ]
           ]
          },
          "colorway": [
           "#636efa",
           "#EF553B",
           "#00cc96",
           "#ab63fa",
           "#FFA15A",
           "#19d3f3",
           "#FF6692",
           "#B6E880",
           "#FF97FF",
           "#FECB52"
          ],
          "font": {
           "color": "#2a3f5f"
          },
          "geo": {
           "bgcolor": "white",
           "lakecolor": "white",
           "landcolor": "#E5ECF6",
           "showlakes": true,
           "showland": true,
           "subunitcolor": "white"
          },
          "hoverlabel": {
           "align": "left"
          },
          "hovermode": "closest",
          "mapbox": {
           "style": "light"
          },
          "paper_bgcolor": "white",
          "plot_bgcolor": "#E5ECF6",
          "polar": {
           "angularaxis": {
            "gridcolor": "white",
            "linecolor": "white",
            "ticks": ""
           },
           "bgcolor": "#E5ECF6",
           "radialaxis": {
            "gridcolor": "white",
            "linecolor": "white",
            "ticks": ""
           }
          },
          "scene": {
           "xaxis": {
            "backgroundcolor": "#E5ECF6",
            "gridcolor": "white",
            "gridwidth": 2,
            "linecolor": "white",
            "showbackground": true,
            "ticks": "",
            "zerolinecolor": "white"
           },
           "yaxis": {
            "backgroundcolor": "#E5ECF6",
            "gridcolor": "white",
            "gridwidth": 2,
            "linecolor": "white",
            "showbackground": true,
            "ticks": "",
            "zerolinecolor": "white"
           },
           "zaxis": {
            "backgroundcolor": "#E5ECF6",
            "gridcolor": "white",
            "gridwidth": 2,
            "linecolor": "white",
            "showbackground": true,
            "ticks": "",
            "zerolinecolor": "white"
           }
          },
          "shapedefaults": {
           "line": {
            "color": "#2a3f5f"
           }
          },
          "ternary": {
           "aaxis": {
            "gridcolor": "white",
            "linecolor": "white",
            "ticks": ""
           },
           "baxis": {
            "gridcolor": "white",
            "linecolor": "white",
            "ticks": ""
           },
           "bgcolor": "#E5ECF6",
           "caxis": {
            "gridcolor": "white",
            "linecolor": "white",
            "ticks": ""
           }
          },
          "title": {
           "x": 0.05
          },
          "xaxis": {
           "automargin": true,
           "gridcolor": "white",
           "linecolor": "white",
           "ticks": "",
           "title": {
            "standoff": 15
           },
           "zerolinecolor": "white",
           "zerolinewidth": 2
          },
          "yaxis": {
           "automargin": true,
           "gridcolor": "white",
           "linecolor": "white",
           "ticks": "",
           "title": {
            "standoff": 15
           },
           "zerolinecolor": "white",
           "zerolinewidth": 2
          }
         }
        },
        "title": {
         "text": "Preference Index vs Habituation Time"
        },
        "xaxis": {
         "anchor": "y",
         "domain": [
          0,
          1
         ],
         "title": {
          "text": "Time in Habituation ROIs (ms)"
         }
        },
        "yaxis": {
         "anchor": "x",
         "domain": [
          0,
          1
         ],
         "title": {
          "text": "Preference Index (Sound / Silent)"
         }
        }
       }
      }
     },
     "metadata": {},
     "output_type": "display_data"
    }
   ],
   "source": [
    "import plotly.express as px\n",
    "\n",
    "df = pd.read_csv(main_dir+ \"/all_mice_summary.csv\")\n",
    "\n",
    "# Calculate preference index\n",
    "df[\"pref_idx\"] = df[\"time_in_sound_rois_ms\"] / df[\"time_in_silent_rois_ms\"]\n",
    "\n",
    "# Interactive scatter + line plot\n",
    "fig = px.line(\n",
    "    df.sort_values([\"mouse_ID\", \"session_ID\"]),\n",
    "    x=\"time_in_habituation_rois_ms\",\n",
    "    y=\"pref_idx\",\n",
    "    color=\"mouse_ID\",\n",
    "    markers=True,\n",
    "    text=\"session_ID\",\n",
    "    hover_data=[\"mouse_ID\", \"session_ID\"]\n",
    ")\n",
    "\n",
    "fig.update_traces(textposition=\"top center\")\n",
    "fig.update_layout(\n",
    "    title=\"Preference Index vs Habituation Time\",\n",
    "    xaxis_title=\"Time in Habituation ROIs (ms)\",\n",
    "    yaxis_title=\"Preference Index (Sound / Silent)\",\n",
    "    legend_title=\"Mouse ID\",\n",
    "    height=600\n",
    ")\n",
    "\n",
    "fig.show()\n"
   ]
  },
  {
   "cell_type": "code",
   "execution_count": null,
   "id": "df8bc75c",
   "metadata": {},
   "outputs": [],
   "source": [
    "# expand with cohort analysis & male vs female analysis vs age of the mice \n",
    "# also extract what the most time_spent roi was per mouse\n",
    "# "
   ]
  },
  {
   "cell_type": "markdown",
   "id": "cb1b5efe",
   "metadata": {},
   "source": [
    "below is `get_time_in_maze`, the function that tidies up the csvs by adding the percentages, if the csvs have the time spent in the maze, but in case it's one of the unlucky csvs whose video is corrupted, it jsut gets the time of the trial and gets rid of useless stuff like the wave_array, and the end and start trial time"
   ]
  },
  {
   "cell_type": "code",
   "execution_count": 19,
   "id": "4ffa342f",
   "metadata": {},
   "outputs": [
    {
     "name": "stdout",
     "output_type": "stream",
     "text": [
      "C:/Users/aleja/Box/Awake Project/Maze data/Auditory experiments/8_arms_w_voc (1)/w1_d1/time_2025-06-04_14_22_30mouse10049/trials_time_2025-06-04_14_22_30.csv\n",
      "C:/Users/aleja/Box/Awake Project/Maze data/Auditory experiments/8_arms_w_voc (1)/w1_d1/time_2025-06-04_16_26_19mouse10050/trials_time_2025-06-04_16_26_19.csv\n",
      "C:/Users/aleja/Box/Awake Project/Maze data/Auditory experiments/8_arms_w_voc (1)/w1_d1/time_2025-06-04_18_41_58mouse10154/trials_time_2025-06-04_18_41_58.csv\n",
      "C:/Users/aleja/Box/Awake Project/Maze data/Auditory experiments/8_arms_w_voc (1)/w1_d1/time_2025-06-16_12_15_21mouse10529/trials_time_2025-06-16_12_15_21.csv\n",
      "C:/Users/aleja/Box/Awake Project/Maze data/Auditory experiments/8_arms_w_voc (1)/w1_d1/time_2025-06-16_14_43_53mouse10530/trials_time_2025-06-16_14_43_53.csv\n",
      "C:/Users/aleja/Box/Awake Project/Maze data/Auditory experiments/8_arms_w_voc (1)/w1_d1/time_2025-06-16_16_52_29mouse10538/trials_time_2025-06-16_16_52_29.csv\n",
      "C:/Users/aleja/Box/Awake Project/Maze data/Auditory experiments/8_arms_w_voc (1)/w1_d1/time_2025-06-27_11_22_49mouse10052/trials_time_2025-06-27_11_22_49.csv\n",
      "C:/Users/aleja/Box/Awake Project/Maze data/Auditory experiments/8_arms_w_voc (1)/w1_d1/time_2025-06-27_13_09_02mouse10155/trials_time_2025-06-27_13_09_02.csv\n",
      "C:/Users/aleja/Box/Awake Project/Maze data/Auditory experiments/8_arms_w_voc (1)/w1_d1/time_2025-06-27_15_23_07mouse10516/trials_time_2025-06-27_15_23_07.csv\n",
      "C:/Users/aleja/Box/Awake Project/Maze data/Auditory experiments/8_arms_w_voc (1)/w1_d2/time_2025-06-05_15_23_23mouse10154/trials_time_2025-06-05_15_23_23.csv\n",
      "C:/Users/aleja/Box/Awake Project/Maze data/Auditory experiments/8_arms_w_voc (1)/w1_d2/time_2025-06-05_16_25_17mouse10050/trials_time_2025-06-05_16_25_17.csv\n",
      "C:/Users/aleja/Box/Awake Project/Maze data/Auditory experiments/8_arms_w_voc (1)/w1_d2/time_2025-06-05_18_31_38mouse10049/trials_time_2025-06-05_18_31_38.csv\n",
      "C:/Users/aleja/Box/Awake Project/Maze data/Auditory experiments/8_arms_w_voc (1)/w1_d2/time_2025-06-18_12_16_51mouse10529/trials_time_2025-06-18_12_16_51.csv\n",
      "C:/Users/aleja/Box/Awake Project/Maze data/Auditory experiments/8_arms_w_voc (1)/w1_d2/time_2025-06-18_14_53_51mouse10530/trials_time_2025-06-18_14_53_51.csv\n",
      "C:/Users/aleja/Box/Awake Project/Maze data/Auditory experiments/8_arms_w_voc (1)/w1_d2/time_2025-06-18_16_51_59mouse10538/trials_time_2025-06-18_16_51_59.csv\n",
      "C:/Users/aleja/Box/Awake Project/Maze data/Auditory experiments/8_arms_w_voc (1)/w1_d2/time_2025-06-30_11_18_45mouse10155/trials_time_2025-06-30_11_18_45.csv\n",
      "C:/Users/aleja/Box/Awake Project/Maze data/Auditory experiments/8_arms_w_voc (1)/w1_d2/time_2025-06-30_13_33_20mouse10517/trials_time_2025-06-30_13_33_20.csv\n",
      "C:/Users/aleja/Box/Awake Project/Maze data/Auditory experiments/8_arms_w_voc (1)/w1_d2/time_2025-06-30_15_44_01mouse10516/trials_time_2025-06-30_15_44_01.csv\n",
      "C:/Users/aleja/Box/Awake Project/Maze data/Auditory experiments/8_arms_w_voc (1)/w1_d3/time_2025-06-06_12_36_07mouse10049/trials_time_2025-06-06_12_36_07.csv\n",
      "C:/Users/aleja/Box/Awake Project/Maze data/Auditory experiments/8_arms_w_voc (1)/w1_d3/time_2025-06-06_14_39_36mouse10050/trials_time_2025-06-06_14_39_36.csv\n",
      "C:/Users/aleja/Box/Awake Project/Maze data/Auditory experiments/8_arms_w_voc (1)/w1_d3/time_2025-06-19_11_56_12mouse10529/trials_time_2025-06-19_11_56_12.csv\n",
      "C:/Users/aleja/Box/Awake Project/Maze data/Auditory experiments/8_arms_w_voc (1)/w1_d3/time_2025-06-19_13_57_30mouse10530/trials_time_2025-06-19_13_57_30.csv\n",
      "C:/Users/aleja/Box/Awake Project/Maze data/Auditory experiments/8_arms_w_voc (1)/w1_d3/time_2025-06-19_15_54_36mouse10538/trials_time_2025-06-19_15_54_36.csv\n",
      "C:/Users/aleja/Box/Awake Project/Maze data/Auditory experiments/8_arms_w_voc (1)/w1_d3/time_2025-07-01_12_45_57mouse10516/trials_time_2025-07-01_12_45_57.csv\n",
      "C:/Users/aleja/Box/Awake Project/Maze data/Auditory experiments/8_arms_w_voc (1)/w1_d3/time_2025-07-01_14_59_09mouse10155/trials_time_2025-07-01_14_59_09.csv\n",
      "C:/Users/aleja/Box/Awake Project/Maze data/Auditory experiments/8_arms_w_voc (1)/w1_d4/time_2025-06-09_11_52_39mouse10049/trials_time_2025-06-09_11_52_39.csv\n",
      "C:/Users/aleja/Box/Awake Project/Maze data/Auditory experiments/8_arms_w_voc (1)/w1_d4/time_2025-06-09_14_29_25mouse10050/trials_time_2025-06-09_14_29_25.csv\n",
      "C:/Users/aleja/Box/Awake Project/Maze data/Auditory experiments/8_arms_w_voc (1)/w1_d4/time_2025-06-20_11_04_28mouse10529/trials_time_2025-06-20_11_04_28.csv\n",
      "C:/Users/aleja/Box/Awake Project/Maze data/Auditory experiments/8_arms_w_voc (1)/w1_d4/time_2025-06-20_13_02_44mouse10530/trials_time_2025-06-20_13_02_44.csv\n",
      "C:/Users/aleja/Box/Awake Project/Maze data/Auditory experiments/8_arms_w_voc (1)/w1_d4/time_2025-06-20_14_58_41mouse10538/trials_time_2025-06-20_14_58_41.csv\n",
      "C:/Users/aleja/Box/Awake Project/Maze data/Auditory experiments/8_arms_w_voc (1)/w2_sequences/time_2025-06-13_15_43_47mouseMOUSE10049/trials_time_2025-06-13_15_43_47.csv\n",
      "C:/Users/aleja/Box/Awake Project/Maze data/Auditory experiments/8_arms_w_voc (1)/w2_sequences/time_2025-06-24_11_36_54mouse10529/trials_time_2025-06-24_11_36_54.csv\n",
      "C:/Users/aleja/Box/Awake Project/Maze data/Auditory experiments/8_arms_w_voc (1)/w2_sequences/time_2025-06-24_13_33_34mouse10530/trials_time_2025-06-24_13_33_34.csv\n",
      "C:/Users/aleja/Box/Awake Project/Maze data/Auditory experiments/8_arms_w_voc (1)/w2_sequences/time_2025-06-24_15_27_00mouse10538/trials_time_2025-06-24_15_27_00.csv\n",
      "C:/Users/aleja/Box/Awake Project/Maze data/Auditory experiments/8_arms_w_voc (1)/w2_vocalisations/time_2025-06-12_14_58_14mouse10049/trials_time_2025-06-12_14_58_14.csv\n",
      "C:/Users/aleja/Box/Awake Project/Maze data/Auditory experiments/8_arms_w_voc (1)/w2_vocalisations/time_2025-06-23_12_36_27mouse10529/trials_time_2025-06-23_12_36_27.csv\n",
      "C:/Users/aleja/Box/Awake Project/Maze data/Auditory experiments/8_arms_w_voc (1)/w2_vocalisations/time_2025-06-23_14_32_26mouse10530/trials_time_2025-06-23_14_32_26.csv\n",
      "C:/Users/aleja/Box/Awake Project/Maze data/Auditory experiments/8_arms_w_voc (1)/w2_vocalisations/time_2025-06-23_16_25_57mouse10538/trials_time_2025-06-23_16_25_57.csv\n"
     ]
    }
   ],
   "source": [
    "\n",
    "\n",
    "def get_time_in_maze(CSV_FILE): \n",
    "\n",
    "    df = pd.read_csv(CSV_FILE)\n",
    "\n",
    "    # if time_in_maze_ms, it gets the whole percentage thing and also the time of the trial, but if we have the time of the trial then we don't go through this because it would recalculate stuff\n",
    "    if \"time_in_maze_ms\" in df.columns and \"total_time_trial_s\" not in df.columns:\n",
    "        # print(len(df.columns)+1)\n",
    "        # here we get the total time of the trial (end_trial_time - trial_start_time)\n",
    "        df.insert((len(df.columns)), \"total_time_trial_s\", df[\"end_trial_time\"] - df[\"trial_start_time\"])\n",
    "        #we drop columns we don't need\n",
    "        df = df.drop([\"wave_arrays\", \"trial_start_time\", \"end_trial_time\"], axis = 1)\n",
    "\n",
    "        #just get the time in the rois in seconds\n",
    "        df.insert(len(df.columns), \"time_spent_s\", round(df[\"time_spent\"]/1000),2)\n",
    "        #get the time in maze in seconds\n",
    "        df.insert(len(df.columns), \"time_in_maze_s\", round(df[\"time_in_maze_ms\"]/1000),2)\n",
    "\n",
    "\n",
    "        #get some percentages\n",
    "        df.insert(len(df.columns), \"time_in_maze/total_trial_time(%)\", round((df[\"time_in_maze_s\"] /df[\"total_time_trial_s\"])*100, 2))\n",
    "\n",
    "        \n",
    "        df.insert(len(df.columns), \"time_in_roi/time_in_maze(%)\", round((df[\"time_spent\"]/df[\"time_in_maze_ms\"])*100,2))\n",
    "\n",
    "     # of end_trial_time is in the csv, it means that it doesn't have the time the mouse spent in the maze but it doesn't matter, we can still get the time of the trial\n",
    "        \n",
    "    elif \"end_trial_time\" in df.columns: \n",
    "        df.insert((len(df.columns)), \"total_time_trial_s\", df[\"end_trial_time\"] - df[\"trial_start_time\"])\n",
    "        df = df.drop([\"wave_arrays\", \"trial_start_time\", \"end_trial_time\"], axis = 1)\n",
    "\n",
    "\n",
    "\n",
    "    df.to_csv(CSV_FILE, index=False)\n",
    "\n",
    "    \n",
    "\n",
    "\n",
    "for i in trials_csvs:\n",
    "    print(i)\n",
    "    get_time_in_maze(i)\n",
    "\n",
    "    \n",
    "\n",
    "\n",
    "\n",
    "\n",
    "    \n",
    "\n",
    "\n",
    "\n"
   ]
  },
  {
   "cell_type": "markdown",
   "id": "ea14860f",
   "metadata": {},
   "source": [
    "below is some random code to find the indices of mouseID from the file path"
   ]
  },
  {
   "cell_type": "code",
   "execution_count": 8,
   "id": "65447f30",
   "metadata": {},
   "outputs": [],
   "source": [
    "# # feature extraction for data analysis\n",
    "\n",
    "# for i in trials_csvs:\n",
    "\n",
    "    \n",
    "#     index_m = int(i.find(\"mouse\"))\n",
    "#     end_mousen = int(index_m+9)\n",
    "\n",
    "# #     print(i)\n",
    "\n",
    "# #     # mouse_ID = i.find(\"mouse*\")\n",
    "\n",
    "# #     # # trial_time = \n",
    "# #     # print(mouse_ID)\n",
    "\n",
    "\n",
    "\n",
    "\n",
    "# # print(index_m, end_mousen)\n",
    "# # mouse_ID = [index_m:end_mousen]\n",
    "\n",
    "# # print(mouse_ID)\n",
    "\n",
    "# prova_str[index_m:end_mousen]"
   ]
  }
 ],
 "metadata": {
  "kernelspec": {
   "display_name": ".venv",
   "language": "python",
   "name": "python3"
  },
  "language_info": {
   "codemirror_mode": {
    "name": "ipython",
    "version": 3
   },
   "file_extension": ".py",
   "mimetype": "text/x-python",
   "name": "python",
   "nbconvert_exporter": "python",
   "pygments_lexer": "ipython3",
   "version": "3.13.5"
  }
 },
 "nbformat": 4,
 "nbformat_minor": 5
}
