{
 "cells": [
  {
   "cell_type": "markdown",
   "id": "7eb37a36",
   "metadata": {},
   "source": [
    "# Auditory analysis"
   ]
  },
  {
   "cell_type": "code",
   "execution_count": null,
   "id": "f9f2594c",
   "metadata": {},
   "outputs": [
    {
     "name": "stdout",
     "output_type": "stream",
     "text": [
      "=== Day: w1_d1 ===\n",
      "  Mouse: time_2025-06-04_14_22_30mouse10049\n",
      ">> python posthoc_video_time_in_maze.py --session C:\\Users\\aleja\\Box\\Awake Project\\Maze data\\Auditory experiments\\8_arms_w_voc\\w1_d1\\time_2025-06-04_14_22_30mouse10049 --video C:\\Users\\aleja\\Box\\Awake Project\\Maze data\\Auditory experiments\\8_arms_w_voc\\w1_d1\\time_2025-06-04_14_22_30mouse10049\\mouse10049_time_2025-06-04_14_22_30.mp4 --trials C:\\Users\\aleja\\Box\\Awake Project\\Maze data\\Auditory experiments\\8_arms_w_voc\\w1_d1\\time_2025-06-04_14_22_30mouse10049\\trials_time_2025-06-04_14_22_30.csv --rois C:\\Users\\aleja\\Box\\Awake Project\\Maze data\\Auditory experiments\\8_arms_w_voc\\w1_d1\\time_2025-06-04_14_22_30mouse10049\\rois1.csv\n"
     ]
    }
   ],
   "source": []
  }
 ],
 "metadata": {
  "kernelspec": {
   "display_name": "malawi",
   "language": "python",
   "name": "python3"
  },
  "language_info": {
   "codemirror_mode": {
    "name": "ipython",
    "version": 3
   },
   "file_extension": ".py",
   "mimetype": "text/x-python",
   "name": "python",
   "nbconvert_exporter": "python",
   "pygments_lexer": "ipython3",
   "version": "3.10.16"
  }
 },
 "nbformat": 4,
 "nbformat_minor": 5
}
