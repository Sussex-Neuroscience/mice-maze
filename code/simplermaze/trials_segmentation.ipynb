{
 "cells": [
  {
   "cell_type": "markdown",
   "id": "5be1aa94",
   "metadata": {},
   "source": [
    "# Trial segmentation script\n",
    "\n",
    "This notebook is intended for the breakdown, classification and analysis of the behavioural states shown in the video, starting frmo a trial segmentation. "
   ]
  },
  {
   "cell_type": "markdown",
   "id": "eaf15dec",
   "metadata": {},
   "source": [
    "- `trial segmentation` takes the output of simplerCode.py (video + .csv), and segments the video based on mouse entry and exit times, excluding when the mouse entry/exit was not detected. \n",
    "- we then will manually sort the trials into `exploitative`, `explorative` and `nest`\n",
    "- extract speed and trajectories per trial\n",
    "- identify behavioural syllables with keypoint moseq 2D\n",
    "\n"
   ]
  },
  {
   "cell_type": "code",
   "execution_count": null,
   "id": "00722362",
   "metadata": {},
   "outputs": [],
   "source": [
    "# install libraries\n",
    "# !pip install -q pandas moviepy imageio-ffmpeg"
   ]
  },
  {
   "cell_type": "code",
   "execution_count": 7,
   "id": "d9cce8e1",
   "metadata": {},
   "outputs": [],
   "source": [
    "import os\n",
    "import pandas as pd\n",
    "from pathlib import Path\n",
    "import subprocess, shutil, math\n",
    "\n",
    "import re"
   ]
  },
  {
   "cell_type": "markdown",
   "id": "9fc50758",
   "metadata": {},
   "source": [
    "Here we just isolate `mouse 6357` and `mouse 6359`, sessions `1.1`, `3.5` and `3.6`"
   ]
  },
  {
   "cell_type": "code",
   "execution_count": null,
   "id": "a84dcffa",
   "metadata": {},
   "outputs": [],
   "source": [
    "main_dir = \"C:/Users/aleja/Box/Awake Project/Maze data/simplermaze/\"\n",
    "\n",
    "#this is where the csv files of interest are stored\n",
    "csvs = []\n",
    "\n",
    "#this is where we store the videos\n",
    "videos = []\n",
    "\n",
    "\n",
    "for i in os.listdir(main_dir):\n",
    "    if \"6357\" in i or \"6359\" in i:\n",
    "        mouse_dir = os.path.join(main_dir, i)\n",
    "        # print(mouse_dir[-10:])\n",
    "        for session in os.listdir(mouse_dir):\n",
    "            if 'habituation' in session or '1.1' in session or \"3.5\" in session or \"3.6\" in session or \"3.7\" in session or \"3.8\" in session:\n",
    "                session_dir = os.path.join(mouse_dir, session)\n",
    "                # print(f\"    -{session_dir[-10:]}\")\n",
    "\n",
    "                for file in os.listdir(session_dir):\n",
    "\n",
    "                    full_path_file = os.path.join(session_dir, file)\n",
    "\n",
    "                    if \"trial_info.csv\" in file and \"clean\" not in file:\n",
    "                        csvs.append(full_path_file)\n",
    "                        # print(f\"        -{file}\")\n",
    "                    elif \"mp4\" in file:\n",
    "                        videos.append(full_path_file)\n",
    "\n",
    "csv_video = dict(zip(csvs, videos))\n"
   ]
  },
  {
   "cell_type": "code",
   "execution_count": 4,
   "id": "9945e8c8",
   "metadata": {},
   "outputs": [
    {
     "name": "stdout",
     "output_type": "stream",
     "text": [
      "mouse6357_session3.5_trial_info.csv    :     6357_2024-08-27_13_05_19s3.5.mp4\n",
      "mouse6357_session3.6_trial_info.csv    :     6357_2024-08-28_11_58_14s3.6.mp4\n",
      "mouse6357_session1.1_trial_info.csv    :     6357_2024-08-15_11_23_10.mp4\n",
      "mouse6359_session3.5_trial_info.csv    :     6359_2024-08-27_14_08_35s3.5.mp4\n",
      "mouse6359_session3.6_trial_info.csv    :     6359_2024-08-28_13_28_27s3.6.mp4\n",
      "mouse6359_session1.1_trial_info.csv    :     6359_2024-08-15_14_05_08.mp4\n"
     ]
    }
   ],
   "source": [
    "\n",
    "for key,value in csv_video.items():\n",
    "    n_key = os.path.basename(key)\n",
    "    n_value = os.path.basename(value)\n",
    "    print(n_key + \"    :     \"+ n_value)"
   ]
  },
  {
   "cell_type": "code",
   "execution_count": null,
   "id": "168736f5",
   "metadata": {},
   "outputs": [],
   "source": [
    "def ffmpeg_bin():\n",
    "    return os.environ.get(\"IMAGEIO_FFMPEG_EXE\") or \"ffmpeg\"\n",
    "\n",
    "def ms_to_sec(x): \n",
    "    return None if pd.isna(x) else float(x)/1000.0\n",
    "\n",
    "def sanitize(s: str) -> str:\n",
    "    for ch in '<>:\"/\\\\|?*': s = s.replace(ch, \"_\")\n",
    "    return s\n",
    "\n",
    "def build_output_name(base_label: str, trial_idx: int, ext=\".mp4\"):\n",
    "    return f\"{sanitize(base_label)}_trial_{int(trial_idx):03d}{ext}\"\n",
    "\n",
    "def cut_with_ffmpeg(input_video: Path, start_s: float, end_s: float, out_path: Path, reencode: bool):\n",
    "    dur = max(0.0, end_s - start_s)\n",
    "    out_path.parent.mkdir(parents=True, exist_ok=True)\n",
    "    if reencode:\n",
    "        cmd = [\n",
    "            ffmpeg_bin(), \"-hide_banner\", \"-loglevel\", \"error\",\n",
    "            \"-ss\", f\"{start_s:.3f}\", \"-t\", f\"{dur:.3f}\",\n",
    "            \"-i\", str(input_video),\n",
    "            \"-map\", \"0:v:0?\", \"-c:v\", \"libx264\", \"-preset\", \"veryfast\", \"-crf\", \"18\",\n",
    "            \"-movflags\", \"+faststart\", \"-reset_timestamps\", \"1\",\n",
    "            str(out_path)\n",
    "        ]\n",
    "    else:\n",
    "        cmd = [\n",
    "            ffmpeg_bin(), \"-hide_banner\", \"-loglevel\", \"error\",\n",
    "            \"-ss\", f\"{start_s:.3f}\", \"-to\", f\"{end_s:.3f}\",\n",
    "            \"-i\", str(input_video),\n",
    "            \"-map\", \"0:v:0?\", \"-c\", \"copy\",\n",
    "            \"-movflags\", \"+faststart\", \"-reset_timestamps\", \"1\",\n",
    "            str(out_path)\n",
    "        ]\n",
    "    subprocess.run(cmd, check=True)\n",
    "\n",
    "def segment_one_session(\n",
    "    video, trials_csv, outdir=None, base_label=None,\n",
    "    offset_ms=0.0, padding_ms=0.0, method=\"copy\", inplace=False,\n",
    "    column_name=\"video_segment_path\"\n",
    "):\n",
    "    video = Path(video).resolve()\n",
    "    trials_csv = Path(trials_csv).resolve()\n",
    "    outdir = Path(outdir).resolve() if outdir else (video.parent / \"segments\")\n",
    "    outdir.mkdir(parents=True, exist_ok=True)\n",
    "\n",
    "    df = pd.read_csv(trials_csv)\n",
    "    for col in [\"mouse_enter_time\",\"end_trial_time\"]:\n",
    "        if col not in df.columns:\n",
    "            raise ValueError(f\"Required column '{col}' missing in {trials_csv.name}\")\n",
    "\n",
    "    trial_ids = df[\"trial_ID\"].tolist() if \"trial_ID\" in df.columns else list(df.index)\n",
    "    if column_name not in df.columns:\n",
    "        df[column_name] = pd.NA\n",
    "\n",
    "    base_label = base_label if (base_label is not None and base_label != \"\") else video.stem\n",
    "\n",
    "    made = 0\n",
    "    skipped = 0\n",
    "    for i, trial_id in enumerate(trial_ids):\n",
    "        row = df.iloc[i]\n",
    "        enter_ms = row[\"mouse_enter_time\"]; exit_ms = row[\"end_trial_time\"]\n",
    "        if pd.isna(enter_ms) or pd.isna(exit_ms):\n",
    "            skipped += 1; continue\n",
    "\n",
    "        start_ms = max(0.0, float(enter_ms) + float(offset_ms) - float(padding_ms))\n",
    "        end_ms   = max(0.0, float(exit_ms)  + float(offset_ms) + float(padding_ms))\n",
    "        if end_ms <= start_ms:\n",
    "            skipped += 1; continue\n",
    "\n",
    "        start_s, end_s = ms_to_sec(start_ms), ms_to_sec(end_ms)\n",
    "        out_path = outdir / build_output_name(base_label, trial_id)\n",
    "        try:\n",
    "            cut_with_ffmpeg(video, start_s, end_s, out_path, reencode=(method==\"reencode\"))\n",
    "            df.at[i, column_name] = str(out_path)\n",
    "            made += 1\n",
    "        except Exception as e:\n",
    "            print(f\"[WARN] {video.name} | trial {trial_id}: {e}\")\n",
    "            skipped += 1\n",
    "\n",
    "    updated = trials_csv if inplace else trials_csv.with_name(trials_csv.stem + \"_with_segments.csv\")\n",
    "    df.to_csv(updated, index=False)\n",
    "    return {\"segments_made\": made, \"trials_skipped\": skipped, \"updated_csv\": str(updated)}"
   ]
  },
  {
   "cell_type": "code",
   "execution_count": null,
   "id": "7003fc8b",
   "metadata": {},
   "outputs": [],
   "source": [
    "summaries = []\n",
    "for trials_csv, video in csv_video.items():\n",
    "    outdir = Path(video).parent / \"segments\"  # per-session folder next to the video\n",
    "    res = segment_one_session(\n",
    "        video=video,\n",
    "        trials_csv=trials_csv,\n",
    "        outdir=outdir,\n",
    "        base_label=None,       # default = video filename stem\n",
    "        offset_ms=0.0,\n",
    "        padding_ms=0.0,\n",
    "        method=\"reencode\",     # or \"copy\" for faster keyframe cuts\n",
    "        inplace=False,         # don't overwrite CSV unless you want to\n",
    "        column_name=\"video_segment_path\",\n",
    "    )\n",
    "    summaries.append({\"video\": video, \"trials_csv\": trials_csv, **res})\n",
    "\n",
    "import pandas as pd\n",
    "pd.DataFrame(summaries)"
   ]
  }
 ],
 "metadata": {
  "kernelspec": {
   "display_name": ".venv",
   "language": "python",
   "name": "python3"
  },
  "language_info": {
   "codemirror_mode": {
    "name": "ipython",
    "version": 3
   },
   "file_extension": ".py",
   "mimetype": "text/x-python",
   "name": "python",
   "nbconvert_exporter": "python",
   "pygments_lexer": "ipython3",
   "version": "3.13.5"
  }
 },
 "nbformat": 4,
 "nbformat_minor": 5
}
