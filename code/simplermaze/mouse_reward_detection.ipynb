{
 "cells": [
  {
   "cell_type": "code",
   "execution_count": 1,
   "metadata": {},
   "outputs": [],
   "source": [
    "import cv2\n",
    "import numpy as np\n",
    "import time\n",
    "\n",
    "# Same command function as streaming, its just now we pass in the file path, nice!\n",
    "cap = cv2.VideoCapture('C:/Users/isabe/Downloads/mice_movie.mp4') # add a 0 to connect to the camera \n",
    "\n",
    "# FRAMES PER SECOND FOR VIDEO\n",
    "fps = 60\n",
    "\n",
    "# Always a good idea to check if the video was acutally there\n",
    "# If you get an error at thsi step, triple check your file path!!\n",
    "if cap.isOpened()== False: \n",
    "    print(\"Error opening the video file. Please double check your file path for typos. Or move the movie file to the same location as this script/notebook\")\n",
    "    \n",
    "        \n",
    "# 4 reward areas [(pt1,pt2)]\n",
    "\n",
    "reward_pts = [[(250, 125), (288, 200)],[(330, 125), (360, 200)],[(250, 310), (288, 380)], [(330, 310), (360, 380)]]\n",
    "\n",
    "# Create a named window for connections\n",
    "cv2.namedWindow('Test')\n",
    "\n",
    "ret, frame = cap.read()\n",
    "    \n",
    "mouse= cv2.selectROI(frame, False)\n",
    "# Initialize tracker with first frame and bounding box\n",
    "#tracker=cv2.TrackerMedianFlow_create()\n",
    "ret = tracker(frame, mouse)\n",
    "  \n",
    "# While the video is opened\n",
    "while cap.isOpened():\n",
    "    \n",
    "        \n",
    "    # Read the video file.\n",
    "    ret, frame = cap.read()\n",
    "    \n",
    "    # If we got frames, show them.\n",
    "    if ret == True:\n",
    "         \n",
    "        # Update tracker\n",
    "        success, roi = tracker.update(frame)\n",
    "         # roi variable is a tuple of 4 floats\n",
    "        # We need each value and we need them as integers\n",
    "        (x,y,w,h) = tuple(map(int,mouse))\n",
    "    \n",
    "        ### \n",
    "           # Draw Rectangle as Tracker moves\n",
    "        if success:\n",
    "        # Tracking success\n",
    "            p1 = (x, y)\n",
    "            p2 = (x+w, y+h)\n",
    "            cv2.rectangle(frame, p1, p2, (0,255,0), 3)\n",
    "        else :\n",
    "        # Tracking failure\n",
    "            cv2.putText(frame, \"Failure to Detect Tracking!!\", (100,200), cv2.FONT_HERSHEY_SIMPLEX, 1,(0,0,255),3)\n",
    "\n",
    "         # Display the frame at same frame rate of recording\n",
    "        time.sleep(1/fps)# only needed for video- not camera\n",
    "        \n",
    "        \n",
    "       ###track mouse###\n",
    "        \n",
    "      #  flow = cv2.calcOpticalFlowFarneback(frame1,frame2, None, 0.5, 3, 15, 3, 5, 1.2, 0)\n",
    "\n",
    "        cv2.imshow('Test',frame)\n",
    " \n",
    "        # Press q to quit\n",
    "        if cv2.waitKey(25) & 0xFF == ord('q'):\n",
    "            \n",
    "            break\n",
    "            \n",
    "        frame1=frame2\n",
    "    # Or automatically break this whole loop if the video is over.\n",
    "    else:\n",
    "        break\n",
    "        \n",
    "cap.release()\n",
    "# Closes all the frames\n",
    "cv2.destroyAllWindows()"
   ]
  },
  {
   "cell_type": "code",
   "execution_count": 2,
   "metadata": {},
   "outputs": [
    {
     "data": {
      "text/plain": [
       "numpy.ndarray"
      ]
     },
     "execution_count": 2,
     "metadata": {},
     "output_type": "execute_result"
    }
   ],
   "source": []
  },
  {
   "cell_type": "code",
   "execution_count": null,
   "metadata": {},
   "outputs": [],
   "source": []
  },
  {
   "cell_type": "code",
   "execution_count": null,
   "metadata": {},
   "outputs": [],
   "source": []
  }
 ],
 "metadata": {
  "kernelspec": {
   "display_name": "Python 3 (ipykernel)",
   "language": "python",
   "name": "python3"
  },
  "language_info": {
   "codemirror_mode": {
    "name": "ipython",
    "version": 3
   },
   "file_extension": ".py",
   "mimetype": "text/x-python",
   "name": "python",
   "nbconvert_exporter": "python",
   "pygments_lexer": "ipython3",
   "version": "3.11.5"
  }
 },
 "nbformat": 4,
 "nbformat_minor": 4
}
