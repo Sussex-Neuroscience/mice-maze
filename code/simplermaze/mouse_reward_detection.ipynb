{
 "cells": [
  {
   "cell_type": "code",
   "execution_count": null,
   "metadata": {},
   "outputs": [],
   "source": [
    "import cv2\n",
    "import numpy as np\n",
    "import time\n",
    "\n",
    "# function to collect the differences between frames to later decide if there was any movement in the reward areas.\n",
    "def diffImg(t0, t1, t2):\n",
    "    d1 = cv2.absdiff(t2, t1)\n",
    "    d2 = cv2.absdiff(t1, t0)\n",
    "    return cv2.bitwise_and(d1, d2)\n",
    "\n",
    "\n",
    "# Same command function as streaming, its just now we pass in the file path, nice!\n",
    "cap = cv2.VideoCapture('C:/Users/isabe/Downloads/mice_movie.mp4') # add a 0 to connect to the camera \n",
    "time.sleep(2)# give it time to load\n",
    "\n",
    "# FRAMES PER SECOND FOR VIDEO\n",
    "fps = 60\n",
    "\n",
    "# Always a good idea to check if the video was acutally there\n",
    "# If you get an error at thsi step, triple check your file path!!\n",
    "if cap.isOpened()== False: \n",
    "    print(\"Error opening the video file. Please double check your file path for typos. Or move the movie file to the same location as this script/notebook\")\n",
    "    \n",
    "        \n",
    "# 4 reward areas [(pt1,pt2)]\n",
    "\n",
    "reward_pts = [[(250, 125), (290, 200)],[(330, 125), (370, 200)],[(250, 315), (290, 390)], [(330, 315), (370, 390)]]\n",
    "\n",
    "# Create a kernel\n",
    "kernel=np.ones((5,5), np.uint8)\n",
    "#cv2.namedWindow('Test')\n",
    "\n",
    "first_frame=None \n",
    "ret, frame = cap.read()\n",
    "    \n",
    "##mouse= cv2.selectROI(frame, False)\n",
    "# Initialize tracker with first frame and bounding box\n",
    "#tracker=cv2.TrackerMedianFlow_create()\n",
    "##ret = tracker(frame, mouse)\n",
    "  \n",
    "# While the video is opened\n",
    "while cap.isOpened():\n",
    "    \n",
    "        \n",
    "    # Read the video file.\n",
    "    ret, frame = cap.read()\n",
    "    \n",
    "    # If we got frames, show them.\n",
    "    if ret == True:\n",
    "         \n",
    "        gray = cv2.cvtColor(frame, cv2.COLOR_BGR2GRAY)\n",
    "        gray = cv2.GaussianBlur(gray, (21,21),0)\n",
    "        if first_frame is None:\n",
    "            first_frame=gray\n",
    "            continue\n",
    "        \n",
    "        delta_frame = cv2.absdiff(first_frame,gray)\n",
    "        thresh_frame = cv2.threshold(delta_frame, 80, 255, cv2.THRESH_BINARY)[1]\n",
    "        thresh_frame = cv2.morphologyEx(thresh_frame, cv2.MORPH_GRADIENT, kernel)\n",
    "               \n",
    "        (cnts,hierarchy) = cv2.findContours(thresh_frame.copy(), cv2.RETR_EXTERNAL, cv2.CHAIN_APPROX_SIMPLE)\n",
    "        \n",
    "        \n",
    "        \n",
    "        for contour in cnts:\n",
    "            #if cv2.contourArea(contour) < 4000:\n",
    "             #   continue\n",
    "\n",
    "            (x,y, w, h)= cv2.boundingRect(contour)\n",
    "            cv2.rectangle(frame, (x, y), (x + w, y + h),(0,225,0),2)\n",
    "            \n",
    "          #  result1 = cv2.pointPolygonTest(c, point1, False)\n",
    "        \n",
    "        cv2.circle(img=thresh_frame,center=(x+w,y+h),radius=20,color=(255,255,255),thickness=5)  \n",
    "        \n",
    "        for i in range(0, len(reward_pts)): #len(reward_pts)\n",
    "            cv2.rectangle(thresh_frame,pt1=reward_pts[i][0],pt2=reward_pts[i][1],color=(255,0,0),thickness=2)\n",
    "       \n",
    "        #cv2.imshow(\"Delta Frame\",delta_frame)\n",
    "       # cv2.imshow(\"Capturing\",gray)\n",
    "        cv2.imshow(\"Threshold Frame\",thresh_frame)\n",
    "        cv2.imshow(\"Color Frame\",frame)\n",
    "\n",
    "        key = cv2.waitKey(5)\n",
    "        \n",
    "        \n",
    "         # Display the frame at same frame rate of recording\n",
    "        time.sleep(1/fps)# only needed for video- not camera\n",
    "        \n",
    "        \n",
    "     \n",
    "        cv2.imshow('Test',frame)\n",
    " \n",
    "        # Press q to quit\n",
    "        if cv2.waitKey(25) & 0xFF == ord('q'):\n",
    "            \n",
    "            break\n",
    "            \n",
    "      \n",
    "    # Or automatically break this whole loop if the video is over.\n",
    "    else:\n",
    "        break\n",
    "        \n",
    "cap.release()\n",
    "# Closes all the frames\n",
    "cv2.destroyAllWindows()"
   ]
  },
  {
   "cell_type": "code",
   "execution_count": 83,
   "metadata": {},
   "outputs": [],
   "source": [
    "       \n",
    "cap.release()\n",
    "# Closes all the frames\n",
    "cv2.destroyAllWindows()"
   ]
  },
  {
   "cell_type": "code",
   "execution_count": 36,
   "metadata": {},
   "outputs": [
    {
     "data": {
      "text/plain": [
       "(288, 200)"
      ]
     },
     "execution_count": 36,
     "metadata": {},
     "output_type": "execute_result"
    }
   ],
   "source": [
    "\n"
   ]
  },
  {
   "cell_type": "code",
   "execution_count": 40,
   "metadata": {},
   "outputs": [
    {
     "data": {
      "text/plain": [
       "range(0, 4)"
      ]
     },
     "execution_count": 40,
     "metadata": {},
     "output_type": "execute_result"
    }
   ],
   "source": []
  },
  {
   "cell_type": "code",
   "execution_count": 92,
   "metadata": {
    "tags": []
   },
   "outputs": [
    {
     "data": {
      "text/plain": [
       "array([[[ 1, -1, -1, -1],\n",
       "        [ 2,  0, -1, -1],\n",
       "        [ 3,  1, -1, -1],\n",
       "        [-1,  2, -1, -1]]], dtype=int32)"
      ]
     },
     "execution_count": 92,
     "metadata": {},
     "output_type": "execute_result"
    }
   ],
   "source": []
  },
  {
   "cell_type": "code",
   "execution_count": 90,
   "metadata": {
    "tags": []
   },
   "outputs": [
    {
     "ename": "AttributeError",
     "evalue": "'tuple' object has no attribute 'shape'",
     "output_type": "error",
     "traceback": [
      "\u001b[1;31m---------------------------------------------------------------------------\u001b[0m",
      "\u001b[1;31mAttributeError\u001b[0m                            Traceback (most recent call last)",
      "Cell \u001b[1;32mIn[90], line 1\u001b[0m\n\u001b[1;32m----> 1\u001b[0m cnts\u001b[38;5;241m.\u001b[39mshape\n",
      "\u001b[1;31mAttributeError\u001b[0m: 'tuple' object has no attribute 'shape'"
     ]
    }
   ],
   "source": []
  },
  {
   "cell_type": "code",
   "execution_count": null,
   "metadata": {},
   "outputs": [],
   "source": []
  }
 ],
 "metadata": {
  "kernelspec": {
   "display_name": "Python 3 (ipykernel)",
   "language": "python",
   "name": "python3"
  },
  "language_info": {
   "codemirror_mode": {
    "name": "ipython",
    "version": 3
   },
   "file_extension": ".py",
   "mimetype": "text/x-python",
   "name": "python",
   "nbconvert_exporter": "python",
   "pygments_lexer": "ipython3",
   "version": "3.11.5"
  }
 },
 "nbformat": 4,
 "nbformat_minor": 4
}
