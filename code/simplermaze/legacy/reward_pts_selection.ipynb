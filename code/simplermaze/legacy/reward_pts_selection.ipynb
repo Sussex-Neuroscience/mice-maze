{
 "cells": [
  {
   "cell_type": "code",
   "execution_count": 23,
   "id": "89bc71cc-e71a-4263-a8c1-8fc926293b28",
   "metadata": {
    "tags": []
   },
   "outputs": [
    {
     "name": "stdout",
     "output_type": "stream",
     "text": [
      "[[  0.   0.]\n",
      " [253. 341.]\n",
      " [282. 370.]\n",
      " ...\n",
      " [370. 167.]\n",
      " [333. 127.]\n",
      " [370. 167.]]\n"
     ]
    }
   ],
   "source": [
    "import cv2 \n",
    "import numpy as np\n",
    "import sys\n",
    "import pickle\n",
    "\n",
    "n_ROI=4 # how many ROIs you want to select \n",
    "\n",
    "# mouse callback function to select the ROIs\n",
    "def draw_rectangle(event,x,y,flags,param):\n",
    "\n",
    "    global pt1,pt2,topLeft_clicked,botRight_clicked\n",
    "\n",
    "    # get mouse click\n",
    "    if event == cv2.EVENT_LBUTTONDOWN:\n",
    "\n",
    "        if topLeft_clicked == True and botRight_clicked == True:\n",
    "            topLeft_clicked = False\n",
    "            botRight_clicked = False\n",
    "            pt1 = (0,0)\n",
    "            pt2 = (0,0)\n",
    "\n",
    "        if topLeft_clicked == False:\n",
    "            pt1 = (x,y)\n",
    "            topLeft_clicked = True\n",
    "            \n",
    "        elif botRight_clicked == False:\n",
    "            pt2 = (x,y)\n",
    "            botRight_clicked = True\n",
    "\n",
    "        \n",
    "# Haven't drawn anything yet!\n",
    "reward_pts=list()#np.zeros(2)# 2 because there are 2 points to identify each region\n",
    "pt1 = (0,0)\n",
    "pt2 = (0,0)\n",
    "topLeft_clicked = False\n",
    "botRight_clicked = False\n",
    "\n",
    "cap = cv2.VideoCapture('C:/Users/isabe/Downloads/mice_movie.mp4') # add a 0 to connect to the camera \n",
    "\n",
    "# Create a named window for connections\n",
    "cv2.namedWindow('Test')\n",
    "\n",
    "# Bind draw_rectangle function to mouse cliks\n",
    "cv2.setMouseCallback('Test', draw_rectangle) \n",
    "\n",
    "\n",
    "while True:\n",
    "    # Capture frame-by-frame\n",
    "    ret, frame = cap.read()\n",
    "\n",
    "    if topLeft_clicked:\n",
    "        cv2.circle(frame, center=pt1, radius=5, color=(0,0,255), thickness=-1)\n",
    "        \n",
    "    #drawing rectangle\n",
    "    if topLeft_clicked and botRight_clicked:\n",
    "        cv2.rectangle(frame, pt1, pt2, (0, 0, 255), 2)\n",
    "        \n",
    "         \n",
    "        pts=list([pt1, pt2])\n",
    "        reward_pts.append( pts)\n",
    "        \n",
    "    # Display the resulting frame\n",
    "    cv2.imshow('Test', frame)\n",
    "\n",
    "    # This command let's us quit with the \"q\" button on a keyboard.\n",
    "    # Simply pressing X on the window won't work!\n",
    "    if cv2.waitKey(1) & 0xFF == ord('q'):\n",
    "        break\n",
    "\n",
    "# When everything is done, release the capture\n",
    "cap.release()\n",
    "cv2.destroyAllWindows()\n",
    "reward_pts=np.unique(reward_pts,axis=0)\n",
    "print(reward_pts) \n",
    "pickle.dump(reward_pts, sys.stdout) "
   ]
  },
  {
   "cell_type": "code",
   "execution_count": 28,
   "id": "5845afa1-c787-4686-aecb-86dfcfa089f1",
   "metadata": {
    "tags": []
   },
   "outputs": [
    {
     "data": {
      "text/plain": [
       "array([[253., 341.],\n",
       "       [257., 123.],\n",
       "       [282., 370.],\n",
       "       [291., 159.],\n",
       "       [321., 342.],\n",
       "       [333., 127.],\n",
       "       [357., 379.],\n",
       "       [370., 167.]])"
      ]
     },
     "execution_count": 28,
     "metadata": {},
     "output_type": "execute_result"
    }
   ],
   "source": [
    "reward_points=np.unique(reward_pts[1:,],axis=0)\n",
    "reward_points"
   ]
  },
  {
   "cell_type": "code",
   "execution_count": 16,
   "id": "11e43cc8-2c27-4390-a8c5-2562a41e3ca2",
   "metadata": {
    "tags": []
   },
   "outputs": [],
   "source": [
    "cap.release()\n",
    "cv2.destroyAllWindows()"
   ]
  },
  {
   "cell_type": "code",
   "execution_count": 22,
   "id": "a8c599e8-edaa-4b15-b143-bf3918575625",
   "metadata": {
    "tags": []
   },
   "outputs": [
    {
     "data": {
      "text/plain": [
       "array([0., 0.])"
      ]
     },
     "execution_count": 22,
     "metadata": {},
     "output_type": "execute_result"
    }
   ],
   "source": []
  },
  {
   "cell_type": "code",
   "execution_count": 27,
   "id": "8f1dda6e-e43d-409e-8e43-99bbf9783c81",
   "metadata": {
    "tags": []
   },
   "outputs": [
    {
     "data": {
      "text/plain": [
       "array([[253., 341.],\n",
       "       [282., 370.],\n",
       "       [253., 341.],\n",
       "       ...,\n",
       "       [370., 167.],\n",
       "       [333., 127.],\n",
       "       [370., 167.]])"
      ]
     },
     "execution_count": 27,
     "metadata": {},
     "output_type": "execute_result"
    }
   ],
   "source": []
  },
  {
   "cell_type": "code",
   "execution_count": null,
   "id": "7df1e853-922f-494d-b7c1-31727e007f38",
   "metadata": {},
   "outputs": [],
   "source": []
  }
 ],
 "metadata": {
  "kernelspec": {
   "display_name": "Python 3 (ipykernel)",
   "language": "python",
   "name": "python3"
  },
  "language_info": {
   "codemirror_mode": {
    "name": "ipython",
    "version": 3
   },
   "file_extension": ".py",
   "mimetype": "text/x-python",
   "name": "python",
   "nbconvert_exporter": "python",
   "pygments_lexer": "ipython3",
   "version": "3.11.5"
  }
 },
 "nbformat": 4,
 "nbformat_minor": 5
}
