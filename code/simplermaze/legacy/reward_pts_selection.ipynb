{
 "cells": [
  {
   "cell_type": "code",
   "execution_count": 14,
   "id": "89bc71cc-e71a-4263-a8c1-8fc926293b28",
   "metadata": {
    "tags": []
   },
   "outputs": [
    {
     "name": "stdout",
     "output_type": "stream",
     "text": [
      "[[[ 49 135]\n",
      "  [183 203]]\n",
      "\n",
      " [[ 69 307]\n",
      "  [189 401]]\n",
      "\n",
      " [[469 132]\n",
      "  [593 187]]\n",
      "\n",
      " [[487 327]\n",
      "  [617 405]]]\n",
      "�\u0003cnumpy.core.multiarray\n",
      "_reconstruct\n",
      "q\u0000cnumpy\n",
      "ndarray\n",
      "q\u0001K\u0000�q\u0002C\u0001bq\u0003�q\u0004Rq\u0005(K\u0001K\u0004K\u0002K\u0002�q\u0006cnumpy\n",
      "dtype\n",
      "q\u0007X\u0002\u0000\u0000\u0000i4q\b���q\tRq\n",
      "(K\u0003X\u0001\u0000\u0000\u0000<q\u000b",
      "NNNJ����J����K\u0000tq\f",
      "b�C@1\u0000\u0000\u0000�\u0000\u0000\u0000�\u0000\u0000\u0000�\u0000\u0000\u0000E\u0000\u0000\u00003\u0001\u0000\u0000�\u0000\u0000\u0000�\u0001\u0000\u0000�\u0001\u0000\u0000�\u0000\u0000\u0000Q\u0002\u0000\u0000�\u0000\u0000\u0000�\u0001\u0000\u0000G\u0001\u0000\u0000i\u0002\u0000\u0000�\u0001\u0000\u0000q\r",
      "tq\u000eb."
     ]
    }
   ],
   "source": [
    "import cv2 \n",
    "import numpy as np\n",
    "import sys\n",
    "import pickle\n",
    "\n",
    "n_ROI=4 # how many ROIs you want to select \n",
    "\n",
    "# mouse callback function to select the ROIs\n",
    "def draw_rectangle(event,x,y,flags,param):\n",
    "\n",
    "    global pt1,pt2,topLeft_clicked,botRight_clicked\n",
    "\n",
    "    # get mouse click\n",
    "    if event == cv2.EVENT_LBUTTONDOWN:\n",
    "\n",
    "        if topLeft_clicked == True and botRight_clicked == True:\n",
    "            topLeft_clicked = False\n",
    "            botRight_clicked = False\n",
    "            pt1 = (0,0)\n",
    "            pt2 = (0,0)\n",
    "\n",
    "        if topLeft_clicked == False:\n",
    "            pt1 = (x,y)\n",
    "            topLeft_clicked = True\n",
    "            \n",
    "        elif botRight_clicked == False:\n",
    "            pt2 = (x,y)\n",
    "            botRight_clicked = True\n",
    "\n",
    "        \n",
    "# Haven't drawn anything yet!\n",
    "reward_pts=list()#np.zeros(2)# 2 because there are 2 points to identify each region\n",
    "pt1 = (0,0)\n",
    "pt2 = (0,0)\n",
    "topLeft_clicked = False\n",
    "botRight_clicked = False\n",
    "\n",
    "cap = cv2.VideoCapture(0) # add a 0 to connect to the camera \n",
    "\n",
    "# Create a named window for connections\n",
    "cv2.namedWindow('Test')\n",
    "\n",
    "# Bind draw_rectangle function to mouse cliks\n",
    "cv2.setMouseCallback('Test', draw_rectangle) \n",
    "\n",
    "\n",
    "while True:\n",
    "    # Capture frame-by-frame\n",
    "    ret, frame = cap.read()\n",
    "\n",
    "    if topLeft_clicked:\n",
    "        cv2.circle(frame, center=pt1, radius=5, color=(0,0,255), thickness=-1)\n",
    "        \n",
    "    #drawing rectangle\n",
    "    if topLeft_clicked and botRight_clicked:\n",
    "        cv2.rectangle(frame, pt1, pt2, (0, 0, 255), 2)\n",
    "        \n",
    "         \n",
    "        pts=list([pt1, pt2])\n",
    "        reward_pts.append( pts)\n",
    "        \n",
    "    # Display the resulting frame\n",
    "    cv2.imshow('Test', frame)\n",
    "\n",
    "    # This command let's us quit with the \"q\" button on a keyboard.\n",
    "    # Simply pressing X on the window won't work!\n",
    "    if cv2.waitKey(1) & 0xFF == ord('q'):\n",
    "        break\n",
    "\n",
    "# When everything is done, release the capture\n",
    "cap.release()\n",
    "cv2.destroyAllWindows()\n",
    "reward_pts=np.unique(reward_pts,axis=0)\n",
    "print(reward_pts) \n",
    "pickle.dump(reward_pts, sys.stdout) "
   ]
  },
  {
   "cell_type": "code",
   "execution_count": 16,
   "id": "5845afa1-c787-4686-aecb-86dfcfa089f1",
   "metadata": {
    "tags": []
   },
   "outputs": [
    {
     "data": {
      "text/plain": [
       "array([[[ 69, 307],\n",
       "        [189, 401]],\n",
       "\n",
       "       [[469, 132],\n",
       "        [593, 187]],\n",
       "\n",
       "       [[487, 327],\n",
       "        [617, 405]]])"
      ]
     },
     "execution_count": 16,
     "metadata": {},
     "output_type": "execute_result"
    }
   ],
   "source": [
    "reward_points=np.unique(reward_pts[1:,],axis=0)\n",
    "reward_points\n",
    "\n",
    "    "
   ]
  },
  {
   "cell_type": "code",
   "execution_count": 16,
   "id": "11e43cc8-2c27-4390-a8c5-2562a41e3ca2",
   "metadata": {
    "tags": []
   },
   "outputs": [],
   "source": [
    "cap.release()\n",
    "cv2.destroyAllWindows()"
   ]
  },
  {
   "cell_type": "code",
   "execution_count": 18,
   "id": "a8c599e8-edaa-4b15-b143-bf3918575625",
   "metadata": {
    "tags": []
   },
   "outputs": [
    {
     "name": "stdout",
     "output_type": "stream",
     "text": [
      "[[ 49 135]\n",
      " [183 203]]\n",
      "[[ 69 307]\n",
      " [189 401]]\n",
      "[[469 132]\n",
      " [593 187]]\n",
      "[[487 327]\n",
      " [617 405]]\n"
     ]
    }
   ],
   "source": [
    "for i in range(len(reward_pts)):\n",
    "    print(reward_pts[i])"
   ]
  },
  {
   "cell_type": "code",
   "execution_count": 27,
   "id": "8f1dda6e-e43d-409e-8e43-99bbf9783c81",
   "metadata": {
    "tags": []
   },
   "outputs": [
    {
     "data": {
      "text/plain": [
       "array([[253., 341.],\n",
       "       [282., 370.],\n",
       "       [253., 341.],\n",
       "       ...,\n",
       "       [370., 167.],\n",
       "       [333., 127.],\n",
       "       [370., 167.]])"
      ]
     },
     "execution_count": 27,
     "metadata": {},
     "output_type": "execute_result"
    }
   ],
   "source": []
  },
  {
   "cell_type": "code",
   "execution_count": 1,
   "id": "7df1e853-922f-494d-b7c1-31727e007f38",
   "metadata": {},
   "outputs": [
    {
     "name": "stdout",
     "output_type": "stream",
     "text": [
      "OrderedDict([('Trials', 'LL'), ('l', '0'), ('r', '90'), ('ll', '0'), ('lr', '90'), ('rl', '90'), ('rr', '90'), ('ROI1', None), ('ROI2', None), ('ROI3', None), ('ROI4', None)])\n",
      "OrderedDict([('Trials', 'LR'), ('l', '0'), ('r', '90'), ('ll', '90'), ('lr', '0'), ('rl', '90'), ('rr', '90'), ('ROI1', None), ('ROI2', None), ('ROI3', None), ('ROI4', None)])\n",
      "OrderedDict([('Trials', 'RL'), ('l', '90'), ('r', '0'), ('ll', '90'), ('lr', '90'), ('rl', '0'), ('rr', '90'), ('ROI1', None), ('ROI2', None), ('ROI3', None), ('ROI4', None)])\n",
      "OrderedDict([('Trials', 'RR'), ('l', '90'), ('r', '0'), ('ll', '90'), ('lr', '90'), ('rl', '90'), ('rr', '0'), ('ROI1', None), ('ROI2', None), ('ROI3', None), ('ROI4', None)])\n",
      "OrderedDict([('Trials', 'control'), ('l', '0'), ('r', '0'), ('ll', '0'), ('lr', '0'), ('rl', '0'), ('rr', '0'), ('ROI1', None), ('ROI2', None), ('ROI3', None), ('ROI4', None)])\n"
     ]
    }
   ],
   "source": [
    "import csv\n",
    "from tkinter import filedialog as fd\n",
    "\n",
    "filename = fd.askopenfilename()\n",
    "\n",
    "with open(filename, \"r\") as infile:\n",
    "    reader = csv.DictReader(infile)\n",
    "    for row in reader:\n",
    "        print(row)   \n",
    "\n"
   ]
  }
 ],
 "metadata": {
  "kernelspec": {
   "display_name": "Python 3",
   "language": "python",
   "name": "python3"
  },
  "language_info": {
   "codemirror_mode": {
    "name": "ipython",
    "version": 3
   },
   "file_extension": ".py",
   "mimetype": "text/x-python",
   "name": "python",
   "nbconvert_exporter": "python",
   "pygments_lexer": "ipython3",
   "version": "3.6.13"
  }
 },
 "nbformat": 4,
 "nbformat_minor": 5
}
