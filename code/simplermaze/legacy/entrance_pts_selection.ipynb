{
 "cells": [
  {
   "cell_type": "code",
   "execution_count": 1,
   "id": "f90c683b-f144-4469-9133-ec1bd103406c",
   "metadata": {
    "tags": []
   },
   "outputs": [
    {
     "name": "stdout",
     "output_type": "stream",
     "text": [
      "[[[158 137]\n",
      "  [208 142]]\n",
      "\n",
      " [[163 300]\n",
      "  [239 349]]\n",
      "\n",
      " [[207 143]\n",
      "  [155 184]]\n",
      "\n",
      " [[208 176]\n",
      "  [275 220]]\n",
      "\n",
      " [[341 153]\n",
      "  [390 191]]\n",
      "\n",
      " [[360 190]\n",
      "  [288 150]]]\n",
      "�\u0003cnumpy.core.multiarray\n",
      "_reconstruct\n",
      "q\u0000cnumpy\n",
      "ndarray\n",
      "q\u0001K\u0000�q\u0002C\u0001bq\u0003�q\u0004Rq\u0005(K\u0001K\u0006K\u0002K\u0002�q\u0006cnumpy\n",
      "dtype\n",
      "q\u0007X\u0002\u0000\u0000\u0000i4q\b���q\tRq\n",
      "(K\u0003X\u0001\u0000\u0000\u0000<q\u000b",
      "NNNJ����J����K\u0000tq\f",
      "b�C`�\u0000\u0000\u0000�\u0000\u0000\u0000�\u0000\u0000\u0000�\u0000\u0000\u0000�\u0000\u0000\u0000,\u0001\u0000\u0000�\u0000\u0000\u0000]\u0001\u0000\u0000�\u0000\u0000\u0000�\u0000\u0000\u0000�\u0000\u0000\u0000�\u0000\u0000\u0000�\u0000\u0000\u0000�\u0000\u0000\u0000\u0013\u0001\u0000\u0000�\u0000\u0000\u0000U\u0001\u0000\u0000�\u0000\u0000\u0000�\u0001\u0000\u0000�\u0000\u0000\u0000h\u0001\u0000\u0000�\u0000\u0000\u0000 \u0001\u0000\u0000�\u0000\u0000\u0000q\r",
      "tq\u000eb."
     ]
    }
   ],
   "source": [
    "import cv2\n",
    "import numpy as np \n",
    "import sys\n",
    "import pickle\n",
    "\n",
    "# mouse callback function to select the ROIs\n",
    "def draw_rectangle(event,x,y,flags,param):\n",
    "\n",
    "    global pt1,pt2,topLeft_clicked,botRight_clicked\n",
    "\n",
    "    # get mouse click\n",
    "    if event == cv2.EVENT_LBUTTONDOWN:\n",
    "\n",
    "        if topLeft_clicked == True and botRight_clicked == True:\n",
    "            topLeft_clicked = False\n",
    "            botRight_clicked = False\n",
    "            pt1 = (0,0)\n",
    "            pt2 = (0,0)\n",
    "\n",
    "        if topLeft_clicked == False:\n",
    "            pt1 = (x,y)\n",
    "            topLeft_clicked = True\n",
    "            \n",
    "        elif botRight_clicked == False:\n",
    "            pt2 = (x,y)\n",
    "            botRight_clicked = True\n",
    "\n",
    "        \n",
    "# Haven't drawn anything yet!\n",
    "entrance_pts=list()#np.zeros(2)# 2 because there are 2 points to identify each region\n",
    "pt1 = (0,0)\n",
    "pt2 = (0,0)\n",
    "topLeft_clicked = False\n",
    "botRight_clicked = False\n",
    "\n",
    "cap = cv2.VideoCapture(0) # add a 0 to connect to the camera \n",
    "\n",
    "# Create a named window for connections\n",
    "cv2.namedWindow('Entrance')\n",
    "\n",
    "# Bind draw_rectangle function to mouse cliks\n",
    "cv2.setMouseCallback('Entrance', draw_rectangle) \n",
    "\n",
    "\n",
    "while True:\n",
    "    # Capture frame-by-frame\n",
    "    ret, frame = cap.read()\n",
    "\n",
    "    if topLeft_clicked:\n",
    "        cv2.circle(frame, center=pt1, radius=5, color=(0,0,255), thickness=-1)\n",
    "        \n",
    "    #drawing rectangle\n",
    "    if topLeft_clicked and botRight_clicked:\n",
    "        cv2.rectangle(frame, pt1, pt2, (0, 0, 255), 2)\n",
    "        \n",
    "        pts=list([pt1, pt2])\n",
    "        entrance_pts.append(pts)#np.vstack((entrance_pts, pts))\n",
    "        \n",
    "    # Display the resulting frame\n",
    "    cv2.imshow('Entrance', frame)\n",
    "\n",
    "    # This command let's us quit with the \"q\" button on a keyboard.\n",
    "    # Simply pressing X on the window won't work!\n",
    "    if cv2.waitKey(1) & 0xFF == ord('q'):\n",
    "        break\n",
    "\n",
    "# When everything is done, release the capture\n",
    "cap.release()\n",
    "cv2.destroyAllWindows()\n",
    "entrance_pts=np.unique(entrance_pts,axis=0)\n",
    "print(entrance_pts)\n",
    "pickle.dump(entrance_pts, sys.stdout) "
   ]
  },
  {
   "cell_type": "code",
   "execution_count": 3,
   "id": "58ac08b9-8184-46a0-af2f-3f44e3744d8a",
   "metadata": {
    "tags": []
   },
   "outputs": [],
   "source": [
    "cap.release()\n",
    "cv2.destroyAllWindows()"
   ]
  },
  {
   "cell_type": "code",
   "execution_count": 39,
   "id": "3b17ee58-4f15-4d52-a274-9e845ba22d04",
   "metadata": {
    "tags": []
   },
   "outputs": [
    {
     "data": {
      "text/plain": [
       "array([186, 237])"
      ]
     },
     "execution_count": 39,
     "metadata": {},
     "output_type": "execute_result"
    }
   ],
   "source": []
  },
  {
   "cell_type": "code",
   "execution_count": 4,
   "id": "b4483761-c724-4c2a-a88e-bb58d68c8bd1",
   "metadata": {
    "tags": []
   },
   "outputs": [
    {
     "data": {
      "text/plain": [
       "[(360, 190), (288, 150)]"
      ]
     },
     "execution_count": 4,
     "metadata": {},
     "output_type": "execute_result"
    }
   ],
   "source": [
    "[pt1, pt2]"
   ]
  },
  {
   "cell_type": "code",
   "execution_count": 5,
   "id": "6f0f0994-63c6-4dbd-960e-a18bf6de5cf6",
   "metadata": {
    "tags": []
   },
   "outputs": [],
   "source": [
    "pts=list(pts)"
   ]
  },
  {
   "cell_type": "code",
   "execution_count": 6,
   "id": "e5346b36-8a78-4b23-8a8e-3f27aba44616",
   "metadata": {
    "tags": []
   },
   "outputs": [],
   "source": [
    "pts.append(pts)"
   ]
  },
  {
   "cell_type": "markdown",
   "id": "005742f5-a6b6-4693-8c3c-09f4076cccd2",
   "metadata": {},
   "source": [
    "pts"
   ]
  },
  {
   "cell_type": "code",
   "execution_count": 7,
   "id": "c6b4e423-f773-499e-9d7c-9d2e491297e1",
   "metadata": {
    "tags": []
   },
   "outputs": [
    {
     "data": {
      "text/plain": [
       "[(360, 190), (288, 150), [...]]"
      ]
     },
     "execution_count": 7,
     "metadata": {},
     "output_type": "execute_result"
    }
   ],
   "source": [
    "pts"
   ]
  },
  {
   "cell_type": "code",
   "execution_count": 24,
   "id": "6e735443-5733-4fc1-aa8b-1038870d7208",
   "metadata": {
    "tags": []
   },
   "outputs": [],
   "source": [
    "a=list()"
   ]
  },
  {
   "cell_type": "code",
   "execution_count": 25,
   "id": "de8a60d5-0459-4965-806a-1ae8f30082b1",
   "metadata": {
    "tags": []
   },
   "outputs": [
    {
     "data": {
      "text/plain": [
       "[]"
      ]
     },
     "execution_count": 25,
     "metadata": {},
     "output_type": "execute_result"
    }
   ],
   "source": [
    "a\n"
   ]
  },
  {
   "cell_type": "code",
   "execution_count": 11,
   "id": "6703e06d-8b21-4b48-8e26-d3715fcf25e0",
   "metadata": {},
   "outputs": [
    {
     "name": "stdout",
     "output_type": "stream",
     "text": [
      "Execution time: 9.739949703216553 seconds\n",
      "[[[126  84]\n",
      "  [181 123]]\n",
      "\n",
      " [[146 160]\n",
      "  [230 197]]\n",
      "\n",
      " [[227  76]\n",
      "  [261 117]]]\n",
      "�\u0003cnumpy.core.multiarray\n",
      "_reconstruct\n",
      "q\u0000cnumpy\n",
      "ndarray\n",
      "q\u0001K\u0000�q\u0002C\u0001bq\u0003�q\u0004Rq\u0005(K\u0001K\u0003K\u0002K\u0002�q\u0006cnumpy\n",
      "dtype\n",
      "q\u0007X\u0002\u0000\u0000\u0000i4���q\tRq\n",
      "tq\u000eb.\u0000\u0000\u0000<q\u000b",
      "NNNJ����J����K\u0000tq\f",
      "b�C0~\u0000\u0000\u0000T\u0000\u0000\u0000�\u0000\u0000\u0000{\u0000\u0000\u0000�\u0000\u0000\u0000�\u0000\u0000\u0000�\u0000\u0000\u0000�\u0000\u0000\u0000�\u0000\u0000\u0000L\u0000\u0000\u0000\u0005\u0001\u0000\u0000u\u0000\u0000\u0000q"
     ]
    }
   ],
   "source": [
    "import cv2 as cv\n",
    "import numpy as np \n",
    "import sys\n",
    "import pickle\n",
    "import time\n",
    "\n",
    "# Enable the optimized code paths\n",
    "cv.setUseOptimized(True)\n",
    "\n",
    "# mouse callback function to select the ROIs\n",
    "def draw_rectangle(event,x,y,flags,param):\n",
    "\n",
    "    global pt1,pt2,topLeft_clicked,botRight_clicked\n",
    "\n",
    "    # get mouse click\n",
    "    if event == cv2.EVENT_LBUTTONDOWN:\n",
    "\n",
    "        if topLeft_clicked == True and botRight_clicked == True:\n",
    "            topLeft_clicked = False\n",
    "            botRight_clicked = False\n",
    "            pt1 = (0,0)\n",
    "            pt2 = (0,0)\n",
    "\n",
    "        if topLeft_clicked == False:\n",
    "            pt1 = (x,y)\n",
    "            topLeft_clicked = True\n",
    "            \n",
    "        elif botRight_clicked == False:\n",
    "            pt2 = (x,y)\n",
    "            botRight_clicked = True\n",
    "\n",
    "        \n",
    "# Haven't drawn anything yet!\n",
    "entrance_pts=list()#np.zeros(2)# 2 because there are 2 points to identify each region\n",
    "pt1 = (0,0)\n",
    "pt2 = (0,0)\n",
    "topLeft_clicked = False\n",
    "botRight_clicked = False\n",
    "\n",
    "cap = cv2.VideoCapture(0) # add a 0 to connect to the camera \n",
    "\n",
    "# Create a named window for connections\n",
    "cv2.namedWindow('Entrance')\n",
    "\n",
    "# Bind draw_rectangle function to mouse cliks\n",
    "cv2.setMouseCallback('Entrance', draw_rectangle) \n",
    "\n",
    "# Start the timer\n",
    "start = time.time()\n",
    "\n",
    "while True:\n",
    "    # Capture frame-by-frame\n",
    "    ret, frame = cap.read()\n",
    "\n",
    "    # Reduce the image size by half\n",
    "    frame = cv2.resize(frame, (0,0), fx=0.5, fy=0.5)\n",
    "\n",
    "    # Convert the image to grayscale\n",
    "    frame = cv2.cvtColor(frame, cv2.COLOR_BGR2GRAY)\n",
    "\n",
    "    if topLeft_clicked:\n",
    "        cv2.circle(frame, center=pt1, radius=5, color=(0,0,255), thickness=-1)\n",
    "        \n",
    "    #drawing rectangle\n",
    "    if topLeft_clicked and botRight_clicked:\n",
    "        cv2.rectangle(frame, pt1, pt2, (0, 0,255), 2)\n",
    "        \n",
    "        pts=list([pt1, pt2])\n",
    "        entrance_pts.append(pts)#np.vstack((entrance_pts, pts))\n",
    "        \n",
    "    # Display the resulting frame\n",
    "    cv2.imshow('Entrance', frame)\n",
    "\n",
    "    # This command let's us quit with the \"q\" button on a keyboard.\n",
    "    # Simply pressing X on the window won't work!\n",
    "    if cv2.waitKey(1) & 0xFF == ord('q'):\n",
    "        break\n",
    "\n",
    "# Stop the timer\n",
    "end = time.time()\n",
    "\n",
    "# Calculate the execution time\n",
    "print(f\"Execution time: {end - start} seconds\")\n",
    "\n",
    "# When everything is done, release the capture\n",
    "cap.release()\n",
    "cv2.destroyAllWindows()\n",
    "entrance_pts=np.unique(entrance_pts,axis=0)\n",
    "print(entrance_pts)\n",
    "pickle.dump(entrance_pts, sys.stdout) \n"
   ]
  },
  {
   "cell_type": "code",
   "execution_count": 13,
   "id": "ae4e00bf",
   "metadata": {},
   "outputs": [
    {
     "name": "stdout",
     "output_type": "stream",
     "text": [
      "Execution time: 9.81919002532959 seconds\n",
      "[[[ 79  89]\n",
      "  [171 185]]\n",
      "\n",
      " [[153  48]\n",
      "  [243 160]]\n",
      "\n",
      " [[279  86]\n",
      "  [319 110]]]\n",
      "�\u0003cnumpy.core.multiarray\n",
      "_reconstruct\n",
      "q\u0000cnumpy\n",
      "ndarray\n",
      "q\u0001K\u0000�q\u0002C\u0001bq\u0003�q\u0004Rq\u0005(K\u0001K\u0003K\u0002K\u0002�q\u0006cnumpy\n",
      "dtype\n",
      "q\u0007X\u0002\u0000\u0000\u0000i4���q\tRq\n",
      "tq\u000eb.\u0000\u0000\u0000<q\u000b",
      "NNNJ����J����K\u0000tq\f",
      "b�C0O\u0000\u0000\u0000Y\u0000\u0000\u0000�\u0000\u0000\u0000�\u0000\u0000\u0000�\u0000\u0000\u00000\u0000\u0000\u0000�\u0000\u0000\u0000�\u0000\u0000\u0000\u0017\u0001\u0000\u0000V\u0000\u0000\u0000?\u0001\u0000\u0000n\u0000\u0000\u0000q"
     ]
    }
   ],
   "source": [
    "import cv2\n",
    "import numpy as np \n",
    "import sys\n",
    "import pickle\n",
    "import time\n",
    "\n",
    "# Enable the optimized code paths\n",
    "cv.setUseOptimized(True)\n",
    "\n",
    "# mouse callback function to select the ROIs\n",
    "def draw_rectangle(event,x,y,flags,param):\n",
    "\n",
    "    global pt1,pt2,topLeft_clicked,botRight_clicked\n",
    "\n",
    "    # get mouse click\n",
    "    if event == cv2.EVENT_LBUTTONDOWN:\n",
    "\n",
    "        if topLeft_clicked == True and botRight_clicked == True:\n",
    "            topLeft_clicked = False\n",
    "            botRight_clicked = False\n",
    "            pt1 = (0,0)\n",
    "            pt2 = (0,0)\n",
    "\n",
    "        if topLeft_clicked == False:\n",
    "            pt1 = (x,y)\n",
    "            topLeft_clicked = True\n",
    "            \n",
    "        elif botRight_clicked == False:\n",
    "            pt2 = (x,y)\n",
    "            botRight_clicked = True\n",
    "\n",
    "        \n",
    "# Haven't drawn anything yet!\n",
    "entrance_pts=list()#np.zeros(2)# 2 because there are 2 points to identify each region\n",
    "pt1 = (0,0)\n",
    "pt2 = (0,0)\n",
    "topLeft_clicked = False\n",
    "botRight_clicked = False\n",
    "\n",
    "cap = cv2.VideoCapture(0) # add a 0 to connect to the camera \n",
    "\n",
    "# Create a named window for connections\n",
    "cv2.namedWindow('Entrance')\n",
    "\n",
    "# Bind draw_rectangle function to mouse cliks\n",
    "cv2.setMouseCallback('Entrance', draw_rectangle) \n",
    "\n",
    "# Start the timer\n",
    "start = time.time()\n",
    "\n",
    "while True:\n",
    "    # Capture frame-by-frame\n",
    "    ret, frame = cap.read()\n",
    "\n",
    "    # Reduce the image size by half\n",
    "    frame = cv2.resize(frame, (0,0), fx=0.5, fy=0.5)\n",
    "\n",
    "    # Comment out the line that converts the image to grayscale\n",
    "    # frame = cv2.cvtColor(frame, cv2.COLOR_BGR2GRAY)\n",
    "\n",
    "    if topLeft_clicked:\n",
    "        cv2.circle(frame, center=pt1, radius=5, color=(0,0,255), thickness=-1)\n",
    "        \n",
    "    #drawing rectangle\n",
    "    if topLeft_clicked and botRight_clicked:\n",
    "        # Change the color of the rectangle to red\n",
    "        cv2.rectangle(frame, pt1, pt2, (0, 0,255), 2)\n",
    "        \n",
    "        pts=list([pt1, pt2])\n",
    "        entrance_pts.append(pts)#np.vstack((entrance_pts, pts))\n",
    "        \n",
    "    # Display the resulting frame\n",
    "    cv2.imshow('Entrance', frame)\n",
    "\n",
    "    # This command let's us quit with the \"q\" button on a keyboard.\n",
    "    # Simply pressing X on the window won't work!\n",
    "    if cv2.waitKey(1) & 0xFF == ord('q'):\n",
    "        break\n",
    "\n",
    "# Stop the timer\n",
    "end = time.time()\n",
    "\n",
    "# Calculate the execution time\n",
    "print(f\"Execution time: {end - start} seconds\")\n",
    "\n",
    "# When everything is done, release the capture\n",
    "cap.release()\n",
    "cv2.destroyAllWindows()\n",
    "entrance_pts=np.unique(entrance_pts,axis=0)\n",
    "print(entrance_pts)\n",
    "pickle.dump(entrance_pts, sys.stdout) \n"
   ]
  }
 ],
 "metadata": {
  "kernelspec": {
   "display_name": "Python 3",
   "language": "python",
   "name": "python3"
  },
  "language_info": {
   "codemirror_mode": {
    "name": "ipython",
    "version": 3
   },
   "file_extension": ".py",
   "mimetype": "text/x-python",
   "name": "python",
   "nbconvert_exporter": "python",
   "pygments_lexer": "ipython3",
   "version": "3.6.13"
  }
 },
 "nbformat": 4,
 "nbformat_minor": 5
}
